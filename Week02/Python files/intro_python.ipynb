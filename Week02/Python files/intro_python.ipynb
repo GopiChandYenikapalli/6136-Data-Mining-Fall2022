{
 "cells": [
  {
   "cell_type": "markdown",
   "id": "e570574f-b48e-4df8-be6b-b2c7709515c9",
   "metadata": {},
   "source": [
    "# Data Camp - Intro to Python"
   ]
  },
  {
   "cell_type": "markdown",
   "id": "ac0b016d-f7af-4ee7-8b0a-18205603bc96",
   "metadata": {
    "tags": []
   },
   "source": [
    "## 1.0 Python Basics"
   ]
  },
  {
   "cell_type": "markdown",
   "id": "d6b8db1d-70bc-4418-8b11-0cab35a4222a",
   "metadata": {
    "tags": []
   },
   "source": [
    "### 1.1 Comments, Printing, and Calculations"
   ]
  },
  {
   "cell_type": "markdown",
   "id": "f44714f9-5ce8-4cac-976f-4c62a084d389",
   "metadata": {},
   "source": [
    "#### 1.1.2 Comments"
   ]
  },
  {
   "cell_type": "code",
   "execution_count": 1,
   "id": "0e3c1153-cf6b-46cd-ab8b-49778779307c",
   "metadata": {},
   "outputs": [],
   "source": [
    "# This is a comment\n",
    "\n",
    "\"\"\"This is also a comment, but called a DocString\"\"\"\n",
    "\n",
    "x = 10 # this is another comment\n",
    "x * 2\n",
    "y = x\n"
   ]
  },
  {
   "cell_type": "markdown",
   "id": "269c1ca0-5096-476b-b2f5-180e0c6a8cbe",
   "metadata": {},
   "source": [
    "#### 1.1.2 Operators"
   ]
  },
  {
   "cell_type": "code",
   "execution_count": 2,
   "id": "1c8af557-8221-4a95-999f-7c59af67f64f",
   "metadata": {},
   "outputs": [],
   "source": [
    "x = 10 # assignment\n",
    "x = 10 + 1 - 1 # addition and subtraction\n",
    "x = 10 * 2 / 3 # multiplication and division\n",
    "x = 10// 2 # integer division\n",
    "X = 10 % 2 # modulo, or 'remainder' operator"
   ]
  },
  {
   "cell_type": "markdown",
   "id": "ce39da93-73b4-4943-97ad-14c8487769b0",
   "metadata": {},
   "source": [
    "#### 1.1.3 Printing output"
   ]
  },
  {
   "cell_type": "code",
   "execution_count": 3,
   "id": "f966cd2e-fdd4-44d0-b4c7-6649f5f2e6bc",
   "metadata": {},
   "outputs": [
    {
     "name": "stdout",
     "output_type": "stream",
     "text": [
      "10\n",
      "10\n",
      "6.666666666666667\n",
      "5\n",
      "0\n"
     ]
    }
   ],
   "source": [
    "x = 10\n",
    "print(x)\n",
    "print(10 + 1 - 1 )\n",
    "print(10 * 2 / 3)\n",
    "print(10 // 2)\n",
    "print(10 % 2) "
   ]
  },
  {
   "cell_type": "code",
   "execution_count": 4,
   "id": "956b8c2d-e30d-48f6-af1a-5cdbf651ae45",
   "metadata": {},
   "outputs": [
    {
     "name": "stdout",
     "output_type": "stream",
     "text": [
      "1 2 3\n"
     ]
    }
   ],
   "source": [
    "print(1, 2, 3)"
   ]
  },
  {
   "cell_type": "code",
   "execution_count": 5,
   "id": "c26c6da9-7915-4026-95c0-01abef65e2af",
   "metadata": {},
   "outputs": [
    {
     "name": "stdout",
     "output_type": "stream",
     "text": [
      "Hello 314\n"
     ]
    }
   ],
   "source": [
    "print(\"Hello\", 314)"
   ]
  },
  {
   "cell_type": "code",
   "execution_count": 6,
   "id": "cbde1259-844f-469a-b3cb-488664584d39",
   "metadata": {},
   "outputs": [
    {
     "name": "stdout",
     "output_type": "stream",
     "text": [
      "This is the first number 10, this is the second 10, and the third 0.3333333333333333\n"
     ]
    }
   ],
   "source": [
    "print(f\"This is the first number {x}, this is the second {y}, and the third {1/3}\")"
   ]
  },
  {
   "cell_type": "markdown",
   "id": "34559515-e1f3-487e-86e5-cd3c55ef2d83",
   "metadata": {},
   "source": [
    "We can use fstrings to control the format of our output, for instance, controlling the number of decimal places for 1/3..."
   ]
  },
  {
   "cell_type": "code",
   "execution_count": 7,
   "id": "1de9c4dc-64ca-4362-b5fe-af61aa946ccb",
   "metadata": {},
   "outputs": [
    {
     "name": "stdout",
     "output_type": "stream",
     "text": [
      "This is the first number 10, this is the second 10, and the third 0.33\n"
     ]
    }
   ],
   "source": [
    "print(f\"This is the first number {x}, this is the second {y}, and the third {1/3:.2f}\")"
   ]
  },
  {
   "cell_type": "markdown",
   "id": "a01c0c56-0ba3-4c61-9a58-50e2c5532404",
   "metadata": {},
   "source": [
    "### 1.2 Variables and Types"
   ]
  },
  {
   "cell_type": "code",
   "execution_count": 8,
   "id": "54941219-e588-4489-842f-715124e35ea1",
   "metadata": {},
   "outputs": [],
   "source": [
    "x = 10.234 # floating point\n",
    "y = 10 # integer\n",
    "z = \"This is a string\" # string"
   ]
  },
  {
   "cell_type": "code",
   "execution_count": 9,
   "id": "c4bf8e46-8e98-4824-8fc7-44d59bbc527b",
   "metadata": {},
   "outputs": [
    {
     "name": "stdout",
     "output_type": "stream",
     "text": [
      "10.234 10 This is a string\n"
     ]
    }
   ],
   "source": [
    "print(x, y, z)"
   ]
  },
  {
   "cell_type": "code",
   "execution_count": 10,
   "id": "d8f0b4eb-3111-4400-b1cc-cd597134d2f4",
   "metadata": {},
   "outputs": [
    {
     "name": "stdout",
     "output_type": "stream",
     "text": [
      "<class 'float'>\n",
      "<class 'int'>\n",
      "<class 'str'>\n"
     ]
    }
   ],
   "source": [
    "print(type(x))\n",
    "print(type(y))\n",
    "print(type(z))"
   ]
  },
  {
   "cell_type": "markdown",
   "id": "f395a440-7f17-42dc-8b8a-5594fecf80e4",
   "metadata": {},
   "source": [
    "### 1.3 Expressions"
   ]
  },
  {
   "cell_type": "markdown",
   "id": "2ef6c05d-adfc-4224-85e6-625e17397e8a",
   "metadata": {},
   "source": [
    "Expresssions conist of operation, values and variables and follow an order of operations."
   ]
  },
  {
   "cell_type": "code",
   "execution_count": 11,
   "id": "c8f40888-8470-4788-8cc7-1848efa3f484",
   "metadata": {},
   "outputs": [],
   "source": [
    "# what is the answer for these? do you know your order of operations?\n",
    "x = 10 + 2 / 2\n",
    "y = 10 ** 2 * 2\n",
    "z = 10 * 2 / 3"
   ]
  },
  {
   "cell_type": "code",
   "execution_count": 12,
   "id": "a2a0e80a-40bc-4672-9de4-6d5a6bc2c7a7",
   "metadata": {},
   "outputs": [
    {
     "name": "stdout",
     "output_type": "stream",
     "text": [
      "11.0\n",
      "200\n",
      "6.666666666666667\n"
     ]
    }
   ],
   "source": [
    "print(x)\n",
    "print(y)\n",
    "print(z)"
   ]
  },
  {
   "cell_type": "code",
   "execution_count": 13,
   "id": "6d34df00-e1f5-4791-921e-78814748abaa",
   "metadata": {},
   "outputs": [
    {
     "name": "stdout",
     "output_type": "stream",
     "text": [
      "56\n",
      "Hello World\n",
      "1213\n"
     ]
    }
   ],
   "source": [
    "# These are expressions\n",
    "x * 10 + 12\n",
    "x = \"Hello\"\n",
    "x * 2\n",
    "\n",
    "# know your order of operations\n",
    "print(1 + 2 * 3 + 7 ** 2) # which goes first? Remember PEMDAS\n",
    "\n",
    "# There are also expressions, just a different type than you\n",
    "# are used to. These are expressions that produce a boolean value\n",
    "\n",
    "x = 12\n",
    "x < 100\n",
    "x <= 12\n",
    "x == 2\n",
    "x != 2 and x != 3\n",
    "x % 2 != 0\n",
    "\n",
    "# We can also have string expressions\n",
    "x = \"Hello\"\n",
    "y = \"World\"\n",
    "\n",
    "print(x + \" \" + y)\n",
    "\n",
    "x = '12'\n",
    "y = '13'\n",
    "print(x + y) # the result is 1213, not 25!"
   ]
  },
  {
   "cell_type": "markdown",
   "id": "a0e024f2-0e19-46c8-88bd-ed1ae1468784",
   "metadata": {},
   "source": [
    "### 1.4 Type Conversations"
   ]
  },
  {
   "cell_type": "code",
   "execution_count": 14,
   "id": "4833356e-4be6-43dd-ab21-55c08ec16167",
   "metadata": {},
   "outputs": [
    {
     "name": "stdout",
     "output_type": "stream",
     "text": [
      "101\n"
     ]
    }
   ],
   "source": [
    "x = \"10\"\n",
    "y = \"1\"\n",
    "print(x + y)"
   ]
  },
  {
   "cell_type": "code",
   "execution_count": 15,
   "id": "afe024d5-dec5-4c02-9572-b19f24504d26",
   "metadata": {},
   "outputs": [
    {
     "name": "stdout",
     "output_type": "stream",
     "text": [
      "11\n"
     ]
    }
   ],
   "source": [
    "print(int(x) + int(y))"
   ]
  },
  {
   "cell_type": "code",
   "execution_count": 16,
   "id": "f175a59b-7622-44ec-8620-65b110f123b0",
   "metadata": {},
   "outputs": [
    {
     "name": "stdout",
     "output_type": "stream",
     "text": [
      "11.0\n"
     ]
    }
   ],
   "source": [
    "print(float(x) + float(y))"
   ]
  },
  {
   "cell_type": "code",
   "execution_count": 17,
   "id": "674a6351-fa82-4a6b-b6ca-ff22f0a71b44",
   "metadata": {},
   "outputs": [
    {
     "name": "stdout",
     "output_type": "stream",
     "text": [
      "True\n"
     ]
    }
   ],
   "source": [
    "print(bool(x))"
   ]
  },
  {
   "cell_type": "code",
   "execution_count": 18,
   "id": "968a5f02-d992-4320-b4f6-ee3d4e1762f2",
   "metadata": {},
   "outputs": [
    {
     "name": "stdout",
     "output_type": "stream",
     "text": [
      "False\n"
     ]
    }
   ],
   "source": [
    "print(bool(0))"
   ]
  },
  {
   "cell_type": "code",
   "execution_count": 19,
   "id": "f69a869a-1fef-4469-bea4-7d2e3d07af33",
   "metadata": {},
   "outputs": [
    {
     "name": "stdout",
     "output_type": "stream",
     "text": [
      "<class 'bool'>\n"
     ]
    }
   ],
   "source": [
    "x = True\n",
    "print(type(x))"
   ]
  },
  {
   "cell_type": "code",
   "execution_count": 20,
   "id": "751f1e3d-16c3-439d-8830-4a614b994317",
   "metadata": {},
   "outputs": [],
   "source": [
    "# num = input(\"Please enter a number: \") # uncomment this line to run the input code\n",
    "# print(type(num))\n",
    "# num = float(input(\"Please enter another number: \")) # uncomment this line to run the input code\n",
    "# print(type(num))"
   ]
  },
  {
   "cell_type": "markdown",
   "id": "cd2a4fa7-7cfe-4292-8f76-7f4be064b25f",
   "metadata": {
    "tags": []
   },
   "source": [
    "## 2.0 Python Lists"
   ]
  },
  {
   "cell_type": "code",
   "execution_count": 21,
   "id": "dbf0f3da-fe52-42b5-aaa1-76d0aa1cded8",
   "metadata": {},
   "outputs": [],
   "source": [
    "### 2.1 Creating lists"
   ]
  },
  {
   "cell_type": "code",
   "execution_count": 22,
   "id": "8497f897-52dd-4bb0-b3c3-4c198aba61a9",
   "metadata": {},
   "outputs": [],
   "source": [
    "a_list_1 = [1, 2, 3] # list of integers\n",
    "a_list_2 = [1.0, 2.0, 3.0] # list of floats\n",
    "a_list_3 = [\"1\", \"2\", \"3\"] # list of strings\n",
    "a_list_4 = [1, 2.12, \"3.45\"] # list of mixed data types (we can put anything in a list)"
   ]
  },
  {
   "cell_type": "code",
   "execution_count": 23,
   "id": "1ad24517-7d59-4b20-9817-02e78d4b1c06",
   "metadata": {},
   "outputs": [],
   "source": [
    "### 2.2 Accessing Elements of a List"
   ]
  },
  {
   "cell_type": "code",
   "execution_count": 24,
   "id": "3cc32adf-d099-418e-9629-9c6b5804c101",
   "metadata": {},
   "outputs": [
    {
     "data": {
      "text/plain": [
       "2"
      ]
     },
     "execution_count": 24,
     "metadata": {},
     "output_type": "execute_result"
    }
   ],
   "source": [
    "a_list_1[1]"
   ]
  },
  {
   "cell_type": "code",
   "execution_count": 25,
   "id": "05689c04-416f-45a0-a054-b858fbcd5ce2",
   "metadata": {},
   "outputs": [
    {
     "data": {
      "text/plain": [
       "1"
      ]
     },
     "execution_count": 25,
     "metadata": {},
     "output_type": "execute_result"
    }
   ],
   "source": [
    "a_list_1[0]"
   ]
  },
  {
   "cell_type": "code",
   "execution_count": 26,
   "id": "a233c21c-3c96-4eed-ae14-984a09361494",
   "metadata": {},
   "outputs": [
    {
     "data": {
      "text/plain": [
       "3"
      ]
     },
     "execution_count": 26,
     "metadata": {},
     "output_type": "execute_result"
    }
   ],
   "source": [
    "a_list_1[2]"
   ]
  },
  {
   "cell_type": "code",
   "execution_count": 27,
   "id": "09035c1a-ef84-4fd8-bf8b-8925bfad8891",
   "metadata": {},
   "outputs": [],
   "source": [
    "# a_list_1[3] # this will generate and error (uncomment and try). Why is this? We've selected an index out of range"
   ]
  },
  {
   "cell_type": "code",
   "execution_count": 28,
   "id": "0f993310-14bf-4d4c-802b-877c42d348d6",
   "metadata": {},
   "outputs": [
    {
     "data": {
      "text/plain": [
       "3"
      ]
     },
     "execution_count": 28,
     "metadata": {},
     "output_type": "execute_result"
    }
   ],
   "source": [
    "a_list_1[-1]"
   ]
  },
  {
   "cell_type": "code",
   "execution_count": 29,
   "id": "e971278f-431f-4ef1-8464-848212f63631",
   "metadata": {},
   "outputs": [
    {
     "data": {
      "text/plain": [
       "[1, 2]"
      ]
     },
     "execution_count": 29,
     "metadata": {},
     "output_type": "execute_result"
    }
   ],
   "source": [
    "a_list_1[:2]"
   ]
  },
  {
   "cell_type": "code",
   "execution_count": 30,
   "id": "62100732-2d52-4074-a3c2-68c537760891",
   "metadata": {},
   "outputs": [
    {
     "data": {
      "text/plain": [
       "[2, 3]"
      ]
     },
     "execution_count": 30,
     "metadata": {},
     "output_type": "execute_result"
    }
   ],
   "source": [
    "a_list_1[1:3]"
   ]
  },
  {
   "cell_type": "code",
   "execution_count": 31,
   "id": "2d73816d-5d52-4303-902e-6eed59ef7c1e",
   "metadata": {},
   "outputs": [
    {
     "data": {
      "text/plain": [
       "[2, 3]"
      ]
     },
     "execution_count": 31,
     "metadata": {},
     "output_type": "execute_result"
    }
   ],
   "source": [
    "a_list_1[1:]"
   ]
  },
  {
   "cell_type": "code",
   "execution_count": 32,
   "id": "9c377b4e-b0bf-4ed3-9670-ebac7dcff587",
   "metadata": {},
   "outputs": [
    {
     "data": {
      "text/plain": [
       "[1, 2]"
      ]
     },
     "execution_count": 32,
     "metadata": {},
     "output_type": "execute_result"
    }
   ],
   "source": [
    "a_list_1[:2]"
   ]
  },
  {
   "cell_type": "code",
   "execution_count": 33,
   "id": "fda5bf60-327f-4119-abae-7e18ce36fd99",
   "metadata": {},
   "outputs": [
    {
     "data": {
      "text/plain": [
       "[1, 3]"
      ]
     },
     "execution_count": 33,
     "metadata": {},
     "output_type": "execute_result"
    }
   ],
   "source": [
    "a_list_1[::2]"
   ]
  },
  {
   "cell_type": "code",
   "execution_count": 34,
   "id": "136f6065-bdc6-4abe-8da4-db61fdb2fcb7",
   "metadata": {},
   "outputs": [
    {
     "data": {
      "text/plain": [
       "3"
      ]
     },
     "execution_count": 34,
     "metadata": {},
     "output_type": "execute_result"
    }
   ],
   "source": [
    "a_list_1[-1] # can also use negative indices... these will start from the end of the list"
   ]
  },
  {
   "cell_type": "code",
   "execution_count": 35,
   "id": "8c93dff8-a5a9-4a04-bbb1-cdbac4dac7a3",
   "metadata": {},
   "outputs": [
    {
     "data": {
      "text/plain": [
       "[3, 2, 1]"
      ]
     },
     "execution_count": 35,
     "metadata": {},
     "output_type": "execute_result"
    }
   ],
   "source": [
    "a_list_1[::-1] # this will reverse the order of the list"
   ]
  },
  {
   "cell_type": "markdown",
   "id": "8d3eb988-eb3c-4a5f-bb6c-bccb71dd98e4",
   "metadata": {},
   "source": [
    "### 2.3 Lists of Lists"
   ]
  },
  {
   "cell_type": "code",
   "execution_count": 36,
   "id": "de586665-e12a-401a-b7ec-240c66735e48",
   "metadata": {
    "tags": []
   },
   "outputs": [],
   "source": [
    "a_list_5 = [[1, 2, 3], [1.0, 2.0, 3.0],  [\"1\", \"2\", \"3\"] ] # creating a list of lists"
   ]
  },
  {
   "cell_type": "code",
   "execution_count": 37,
   "id": "d93d2656-1c3a-44cd-93c2-de6b510a2e60",
   "metadata": {},
   "outputs": [
    {
     "data": {
      "text/plain": [
       "1"
      ]
     },
     "execution_count": 37,
     "metadata": {},
     "output_type": "execute_result"
    }
   ],
   "source": [
    "a_list_5[0][0] # slicing a list of lists (first item in the first list in the list)"
   ]
  },
  {
   "cell_type": "code",
   "execution_count": 38,
   "id": "858cba07-6359-4106-ae0c-e64c16187bfc",
   "metadata": {},
   "outputs": [
    {
     "data": {
      "text/plain": [
       "[[1, 2, 3], [1.0, 2.0, 3.0]]"
      ]
     },
     "execution_count": 38,
     "metadata": {},
     "output_type": "execute_result"
    }
   ],
   "source": [
    "a_list_5[0:2] # a slice of the list of lists"
   ]
  },
  {
   "cell_type": "code",
   "execution_count": 39,
   "id": "a1f5bf75-4f3c-4efd-ad65-3236f9eb2b00",
   "metadata": {},
   "outputs": [
    {
     "data": {
      "text/plain": [
       "[1.0, 2.0, 3.0]"
      ]
     },
     "execution_count": 39,
     "metadata": {},
     "output_type": "execute_result"
    }
   ],
   "source": [
    "a_list_5[1] # select the second list"
   ]
  },
  {
   "cell_type": "code",
   "execution_count": 40,
   "id": "5cb092dc-82d6-4fd5-a725-487e76e2366e",
   "metadata": {},
   "outputs": [
    {
     "data": {
      "text/plain": [
       "[2.0, 3.0]"
      ]
     },
     "execution_count": 40,
     "metadata": {},
     "output_type": "execute_result"
    }
   ],
   "source": [
    "a_list_5[1][1:3] # select second list, and then select the items from index 1 up to but not including index 3"
   ]
  },
  {
   "cell_type": "markdown",
   "id": "f0156ea9-4781-4d58-afe7-23694c46fa64",
   "metadata": {},
   "source": [
    "### 2.4 Manipulating Lists"
   ]
  },
  {
   "cell_type": "markdown",
   "id": "30621723-d6a7-46c4-a9ea-e47826ec6cf4",
   "metadata": {},
   "source": [
    "#### 2.4.1 Changing list elements"
   ]
  },
  {
   "cell_type": "code",
   "execution_count": 41,
   "id": "54db2ff3-936d-46c1-8b10-67d4df0b40e3",
   "metadata": {},
   "outputs": [
    {
     "name": "stdout",
     "output_type": "stream",
     "text": [
      "[1, 2, 3]\n"
     ]
    }
   ],
   "source": [
    "print(a_list_1)"
   ]
  },
  {
   "cell_type": "code",
   "execution_count": 42,
   "id": "0efb3222-4047-4756-8649-c1750cbaac37",
   "metadata": {},
   "outputs": [
    {
     "name": "stdout",
     "output_type": "stream",
     "text": [
      "[123, 2, 3]\n"
     ]
    }
   ],
   "source": [
    "a_list_1[0] = 123\n",
    "print(a_list_1)"
   ]
  },
  {
   "cell_type": "code",
   "execution_count": 43,
   "id": "f830a8bc-af17-4982-b650-5112767ea2b5",
   "metadata": {},
   "outputs": [
    {
     "name": "stdout",
     "output_type": "stream",
     "text": [
      "[[1, 2, 3], [1.0, 2.0, 3.0], ['1', '2', '3']]\n"
     ]
    }
   ],
   "source": [
    "print(a_list_5)"
   ]
  },
  {
   "cell_type": "code",
   "execution_count": 44,
   "id": "cb7182c4-319b-4524-824e-d21c00406b69",
   "metadata": {},
   "outputs": [
    {
     "name": "stdout",
     "output_type": "stream",
     "text": [
      "[[10, 11], [1.0, 2.0, 3.0], ['1', '2', '3']]\n"
     ]
    }
   ],
   "source": [
    "a_list_5[0] = [10, 11]\n",
    "print(a_list_5)"
   ]
  },
  {
   "cell_type": "code",
   "execution_count": 45,
   "id": "fa57e62e-9989-4645-89fa-c21c171e087f",
   "metadata": {},
   "outputs": [
    {
     "name": "stdout",
     "output_type": "stream",
     "text": [
      "[[1, 2, 3], [4, 5, 6], ['1', '2', '3']]\n"
     ]
    }
   ],
   "source": [
    "a_list_5[0:2] = [[1,2,3], [4,5,6]]\n",
    "print(a_list_5)"
   ]
  },
  {
   "cell_type": "markdown",
   "id": "f242ab67-ce90-448a-ac94-29422a69b201",
   "metadata": {},
   "source": [
    "### 2.4.2 List operations"
   ]
  },
  {
   "cell_type": "markdown",
   "id": "6475b206-c357-4032-ad77-e3adc4bc41f0",
   "metadata": {},
   "source": [
    "#### 2.4.2.1 Concatenation"
   ]
  },
  {
   "cell_type": "code",
   "execution_count": 46,
   "id": "226940c4-eae9-499c-886f-dfe2ade79df2",
   "metadata": {},
   "outputs": [
    {
     "name": "stdout",
     "output_type": "stream",
     "text": [
      "[1.0, 2.0, 3.0]\n"
     ]
    }
   ],
   "source": [
    "print(a_list_2)"
   ]
  },
  {
   "cell_type": "code",
   "execution_count": 47,
   "id": "58145315-bc17-4ade-9c7f-3cca1584a3fe",
   "metadata": {},
   "outputs": [
    {
     "data": {
      "text/plain": [
       "[1.0, 2.0, 3.0, 199, 200]"
      ]
     },
     "execution_count": 47,
     "metadata": {},
     "output_type": "execute_result"
    }
   ],
   "source": [
    "a_list_2 + [199,200]"
   ]
  },
  {
   "cell_type": "code",
   "execution_count": 48,
   "id": "2fc989d1-af22-4511-87c6-317d153197de",
   "metadata": {},
   "outputs": [
    {
     "data": {
      "text/plain": [
       "[1.0, 2.0, 3.0]"
      ]
     },
     "execution_count": 48,
     "metadata": {},
     "output_type": "execute_result"
    }
   ],
   "source": [
    "a_list_2"
   ]
  },
  {
   "cell_type": "code",
   "execution_count": 49,
   "id": "694b9df8-35d1-48fa-aedb-d91f2d56d2c6",
   "metadata": {},
   "outputs": [],
   "source": [
    "a_list_2 = a_list_2 + [199,200]"
   ]
  },
  {
   "cell_type": "code",
   "execution_count": 50,
   "id": "92197b93-e290-4062-a68b-f8debbec218a",
   "metadata": {},
   "outputs": [
    {
     "data": {
      "text/plain": [
       "[1.0, 2.0, 3.0, 199, 200]"
      ]
     },
     "execution_count": 50,
     "metadata": {},
     "output_type": "execute_result"
    }
   ],
   "source": [
    "a_list_2"
   ]
  },
  {
   "cell_type": "markdown",
   "id": "70f0dc07-4fc1-49f3-9d77-6bd1f1dc7924",
   "metadata": {},
   "source": [
    "#### 2.4.2.2 Repetition"
   ]
  },
  {
   "cell_type": "code",
   "execution_count": 51,
   "id": "7f38995b-ac99-49f3-bbd3-c245fce72cb4",
   "metadata": {},
   "outputs": [
    {
     "data": {
      "text/plain": [
       "['1', '2', '3', '1', '2', '3', '1', '2', '3', '1', '2', '3']"
      ]
     },
     "execution_count": 51,
     "metadata": {},
     "output_type": "execute_result"
    }
   ],
   "source": [
    "a_list_3 * 4"
   ]
  },
  {
   "cell_type": "code",
   "execution_count": 52,
   "id": "6801a3bc-27d2-4bce-af0e-003a1883d90e",
   "metadata": {},
   "outputs": [
    {
     "data": {
      "text/plain": [
       "[1.0, 2.0, 3.0, 199, 200]"
      ]
     },
     "execution_count": 52,
     "metadata": {},
     "output_type": "execute_result"
    }
   ],
   "source": [
    "a_list_2 "
   ]
  },
  {
   "cell_type": "code",
   "execution_count": 53,
   "id": "8729ce83-cc87-4465-93fd-a5bfe2d540ee",
   "metadata": {},
   "outputs": [
    {
     "data": {
      "text/plain": [
       "3.0"
      ]
     },
     "execution_count": 53,
     "metadata": {},
     "output_type": "execute_result"
    }
   ],
   "source": [
    "a_list_2.pop(2)"
   ]
  },
  {
   "cell_type": "code",
   "execution_count": 54,
   "id": "5d24137f-7e0d-4229-8a12-2ec1da1d46bc",
   "metadata": {},
   "outputs": [
    {
     "data": {
      "text/plain": [
       "[1.0, 2.0, 199, 200]"
      ]
     },
     "execution_count": 54,
     "metadata": {},
     "output_type": "execute_result"
    }
   ],
   "source": [
    "a_list_2"
   ]
  },
  {
   "cell_type": "code",
   "execution_count": 55,
   "id": "c2f11d8a-0699-42c5-8dde-09c524951fd7",
   "metadata": {},
   "outputs": [
    {
     "name": "stdout",
     "output_type": "stream",
     "text": [
      "[2.0, 199, 200]\n"
     ]
    }
   ],
   "source": [
    "del(a_list_2[0])\n",
    "print(a_list_2)"
   ]
  },
  {
   "cell_type": "code",
   "execution_count": 56,
   "id": "57160a06-6779-4f48-ac95-3f1b8d4d3b34",
   "metadata": {},
   "outputs": [
    {
     "data": {
      "text/plain": [
       "[2.0, 200]"
      ]
     },
     "execution_count": 56,
     "metadata": {},
     "output_type": "execute_result"
    }
   ],
   "source": [
    "a_list_2.remove(199) # removes the first occurance of the value\n",
    "a_list_2"
   ]
  },
  {
   "cell_type": "markdown",
   "id": "21874759-a6a6-472b-88d7-33fabf9bc043",
   "metadata": {},
   "source": [
    "### 2.4.3 Copying lists"
   ]
  },
  {
   "cell_type": "code",
   "execution_count": 57,
   "id": "a016e5e1-cdf8-49ed-b85a-1b7478bfe5e6",
   "metadata": {},
   "outputs": [
    {
     "name": "stdout",
     "output_type": "stream",
     "text": [
      "[123, 2, 3]\n",
      "[2.0, 200]\n"
     ]
    }
   ],
   "source": [
    "print(a_list_1)\n",
    "print(a_list_2)"
   ]
  },
  {
   "cell_type": "code",
   "execution_count": 58,
   "id": "88b4f03c-2ade-4ff6-8774-57afa797ab7c",
   "metadata": {},
   "outputs": [
    {
     "name": "stdout",
     "output_type": "stream",
     "text": [
      "[123, 2, 3]\n"
     ]
    }
   ],
   "source": [
    "some_new_list = a_list_1\n",
    "print(some_new_list)"
   ]
  },
  {
   "cell_type": "code",
   "execution_count": 59,
   "id": "e2f99d41-8545-4382-90c5-5d83275aa02c",
   "metadata": {},
   "outputs": [],
   "source": [
    "some_new_list[0] = 3210"
   ]
  },
  {
   "cell_type": "code",
   "execution_count": 60,
   "id": "d925049a-1e87-49f6-9769-20a1cea09894",
   "metadata": {},
   "outputs": [
    {
     "name": "stdout",
     "output_type": "stream",
     "text": [
      "[3210, 2, 3]\n"
     ]
    }
   ],
   "source": [
    "print(some_new_list)"
   ]
  },
  {
   "cell_type": "code",
   "execution_count": 61,
   "id": "d5aa5503-6cf3-4f59-82c6-67dc068dcfd1",
   "metadata": {},
   "outputs": [
    {
     "name": "stdout",
     "output_type": "stream",
     "text": [
      "[3210, 2, 3]\n"
     ]
    }
   ],
   "source": [
    "print(a_list_1) # notice that the original a_list_1 also changes -- because, this wasn't a copy of the list contents"
   ]
  },
  {
   "cell_type": "code",
   "execution_count": 62,
   "id": "2d96c93b-6bfe-4d3b-b069-7c0e111f2785",
   "metadata": {},
   "outputs": [],
   "source": [
    "# copy the contents of a list\n",
    "\n",
    "## three approaches\n",
    "\n",
    "x = list(a_list_1) # creates a new copy.\n",
    "y = a_list_1[:] # slices the entire list, and thus creates a new copy\n",
    "z = a_list_1.copy() # calling the copy method (a method is like a function that is attached to an object)"
   ]
  },
  {
   "cell_type": "code",
   "execution_count": 63,
   "id": "4642980b-0705-491d-88f2-a5b6cf99b8ad",
   "metadata": {},
   "outputs": [
    {
     "name": "stdout",
     "output_type": "stream",
     "text": [
      "[3210, 2, 3]\n",
      "[3210, 2, 3]\n",
      "[3210, 2, 3]\n",
      "[3210, 2, 3]\n"
     ]
    }
   ],
   "source": [
    "print(a_list_1)\n",
    "print(x)\n",
    "print(y)\n",
    "print(z)"
   ]
  },
  {
   "cell_type": "code",
   "execution_count": 64,
   "id": "f51eb51c-0294-4097-beef-e08fecb89d80",
   "metadata": {},
   "outputs": [],
   "source": [
    "x[0] = 1"
   ]
  },
  {
   "cell_type": "code",
   "execution_count": 65,
   "id": "92c1db22-dcf0-45c7-83b0-b090f502e8e7",
   "metadata": {},
   "outputs": [
    {
     "name": "stdout",
     "output_type": "stream",
     "text": [
      "[3210, 2, 3]\n",
      "[1, 2, 3]\n",
      "[3210, 2, 3]\n",
      "[3210, 2, 3]\n"
     ]
    }
   ],
   "source": [
    "print(a_list_1)\n",
    "print(x) # notice that it's only the list x that is changes\n",
    "print(y)\n",
    "print(z)"
   ]
  },
  {
   "cell_type": "markdown",
   "id": "1f7fe27b-e891-402a-8b29-3aa8d5f91a58",
   "metadata": {
    "tags": []
   },
   "source": [
    "## 3.0 Functions and Packages"
   ]
  },
  {
   "cell_type": "markdown",
   "id": "c36ce330-345a-4aab-82cb-ddf3d2101995",
   "metadata": {},
   "source": [
    "### 3.1 Functions"
   ]
  },
  {
   "cell_type": "code",
   "execution_count": 66,
   "id": "a658280a-72d7-491c-b9a1-c378fcac81f5",
   "metadata": {},
   "outputs": [
    {
     "data": {
      "text/plain": [
       "int"
      ]
     },
     "execution_count": 66,
     "metadata": {},
     "output_type": "execute_result"
    }
   ],
   "source": [
    "type(1) # \"type\" is a function. \"1\" is an argument. We have 'called' the type function and sent as an argument the value 1"
   ]
  },
  {
   "cell_type": "code",
   "execution_count": 67,
   "id": "d46363c4-e414-4e67-881d-5cb1bc1a8fbb",
   "metadata": {},
   "outputs": [
    {
     "name": "stdout",
     "output_type": "stream",
     "text": [
      "[3210, 2, 3]\n"
     ]
    }
   ],
   "source": [
    "print(a_list_1)"
   ]
  },
  {
   "cell_type": "code",
   "execution_count": 68,
   "id": "fcdc72bf-4f0c-42d2-bf3a-852e992d591c",
   "metadata": {},
   "outputs": [
    {
     "name": "stdout",
     "output_type": "stream",
     "text": [
      "3210\n"
     ]
    }
   ],
   "source": [
    "print(max(a_list_1))"
   ]
  },
  {
   "cell_type": "code",
   "execution_count": 69,
   "id": "b75c108c-3040-43ca-8c14-381e62caefc4",
   "metadata": {},
   "outputs": [
    {
     "name": "stdout",
     "output_type": "stream",
     "text": [
      "2\n"
     ]
    }
   ],
   "source": [
    "print(min(a_list_1))"
   ]
  },
  {
   "cell_type": "code",
   "execution_count": 70,
   "id": "62bb4a4d-b309-4f30-8791-6e8a37addc61",
   "metadata": {},
   "outputs": [
    {
     "name": "stdout",
     "output_type": "stream",
     "text": [
      "3215\n"
     ]
    }
   ],
   "source": [
    "print(sum(a_list_1))"
   ]
  },
  {
   "cell_type": "code",
   "execution_count": 71,
   "id": "33cb2f69-d8e3-4f6d-b02e-3a9634b2bf4c",
   "metadata": {},
   "outputs": [
    {
     "name": "stdout",
     "output_type": "stream",
     "text": [
      "3\n"
     ]
    }
   ],
   "source": [
    "print(len(a_list_3))"
   ]
  },
  {
   "cell_type": "code",
   "execution_count": 72,
   "id": "32b026c3-c9df-4f36-b5eb-fd271ede032b",
   "metadata": {},
   "outputs": [
    {
     "name": "stdout",
     "output_type": "stream",
     "text": [
      "67.33333333333333\n"
     ]
    }
   ],
   "source": [
    "print(sum(a_list_2)/len(a_list_3))"
   ]
  },
  {
   "cell_type": "code",
   "execution_count": 73,
   "id": "a4c38ecd-27c0-4ddd-abbd-7bca2c958109",
   "metadata": {},
   "outputs": [
    {
     "name": "stdout",
     "output_type": "stream",
     "text": [
      "0.6666666666666666\n"
     ]
    }
   ],
   "source": [
    "print(2/3)"
   ]
  },
  {
   "cell_type": "code",
   "execution_count": 74,
   "id": "a9239b5d-4d38-43e7-8519-3d7c664ac47f",
   "metadata": {},
   "outputs": [
    {
     "name": "stdout",
     "output_type": "stream",
     "text": [
      "0.667\n"
     ]
    }
   ],
   "source": [
    "print(round(2/3, 3)) # the first argument if the value, the second is the number of decimal places"
   ]
  },
  {
   "cell_type": "code",
   "execution_count": 75,
   "id": "419949ec-33ba-4ecc-b62d-bd6f65d40b1f",
   "metadata": {},
   "outputs": [
    {
     "name": "stdout",
     "output_type": "stream",
     "text": [
      "1\n"
     ]
    }
   ],
   "source": [
    "print(round(2/3)) # if sent only one argument, round will round to the nearest integer"
   ]
  },
  {
   "cell_type": "markdown",
   "id": "3b47dd07-fcd0-45e0-982f-f24a0001ed6a",
   "metadata": {},
   "source": [
    "> there are many more python functions, and libraries that contain functions. Google, search the Python documentation, the documentation of a library, etc. And you find more functions!"
   ]
  },
  {
   "cell_type": "markdown",
   "id": "2b443dcb-6806-485f-8b0c-0b1293969656",
   "metadata": {},
   "source": [
    "### 3.2 Methods"
   ]
  },
  {
   "cell_type": "markdown",
   "id": "c5775f6f-2bfc-4265-914b-663f1058f9a8",
   "metadata": {},
   "source": [
    "All types in python are 'objects'. Objects can have 'methods' attached to them. These are actions that can be taken with the object. "
   ]
  },
  {
   "cell_type": "code",
   "execution_count": 76,
   "id": "f4d0ef7c-752c-455d-b5ef-22e521425ca0",
   "metadata": {},
   "outputs": [],
   "source": [
    "fam = ['bob', 'jill', 'dad', 'mom']"
   ]
  },
  {
   "cell_type": "code",
   "execution_count": 77,
   "id": "d9ccf19b-d2b3-4c8d-a62f-11f513d60ea0",
   "metadata": {},
   "outputs": [
    {
     "data": {
      "text/plain": [
       "3"
      ]
     },
     "execution_count": 77,
     "metadata": {},
     "output_type": "execute_result"
    }
   ],
   "source": [
    "fam.index(\"mom\")"
   ]
  },
  {
   "cell_type": "code",
   "execution_count": 78,
   "id": "59f432a0-d5a2-4998-bb5b-d013080a8352",
   "metadata": {},
   "outputs": [],
   "source": [
    "other_fam = fam.copy()"
   ]
  },
  {
   "cell_type": "code",
   "execution_count": 79,
   "id": "a17efddc-4849-46ea-8b89-d3f798a28cef",
   "metadata": {},
   "outputs": [
    {
     "name": "stdout",
     "output_type": "stream",
     "text": [
      "bob\n"
     ]
    }
   ],
   "source": [
    "print(fam[0])"
   ]
  },
  {
   "cell_type": "code",
   "execution_count": 80,
   "id": "26c2bdba-958d-496d-bd43-c653160a7f81",
   "metadata": {},
   "outputs": [
    {
     "data": {
      "text/plain": [
       "'Bob'"
      ]
     },
     "execution_count": 80,
     "metadata": {},
     "output_type": "execute_result"
    }
   ],
   "source": [
    "fam[0].capitalize()"
   ]
  },
  {
   "cell_type": "code",
   "execution_count": 81,
   "id": "06c35f9c-861a-4f21-9905-8f1f8753c62f",
   "metadata": {
    "tags": []
   },
   "outputs": [],
   "source": [
    "# also, jupyter lab has auto complete... below, type in fam. then the tab character"
   ]
  },
  {
   "cell_type": "markdown",
   "id": "5ee992b1-262f-43a7-a340-e7c8cf5b9e8a",
   "metadata": {},
   "source": [
    "#### 3.2.1 some methods will change their objects data, and some do not."
   ]
  },
  {
   "cell_type": "code",
   "execution_count": 82,
   "id": "b1f2391e-aa48-404b-9192-75ffdf58df0d",
   "metadata": {},
   "outputs": [
    {
     "data": {
      "text/plain": [
       "'Bob'"
      ]
     },
     "execution_count": 82,
     "metadata": {},
     "output_type": "execute_result"
    }
   ],
   "source": [
    "brother = fam[0]\n",
    "brother.capitalize()"
   ]
  },
  {
   "cell_type": "code",
   "execution_count": 83,
   "id": "1d919d6e-e912-41f7-a83f-cd5602cd9785",
   "metadata": {},
   "outputs": [
    {
     "data": {
      "text/plain": [
       "'bob'"
      ]
     },
     "execution_count": 83,
     "metadata": {},
     "output_type": "execute_result"
    }
   ],
   "source": [
    "brother #notice that brother hasn't been changed. "
   ]
  },
  {
   "cell_type": "code",
   "execution_count": 84,
   "id": "21d5b2d5-d4c1-4e79-8b83-3f0f28941c03",
   "metadata": {},
   "outputs": [],
   "source": [
    "fam.append(\"Judy\")"
   ]
  },
  {
   "cell_type": "code",
   "execution_count": 85,
   "id": "64888efd-d76a-42a9-85a0-850fdf450684",
   "metadata": {},
   "outputs": [
    {
     "data": {
      "text/plain": [
       "['bob', 'jill', 'dad', 'mom', 'Judy']"
      ]
     },
     "execution_count": 85,
     "metadata": {},
     "output_type": "execute_result"
    }
   ],
   "source": [
    "fam # notice that fam has changes"
   ]
  },
  {
   "cell_type": "markdown",
   "id": "a5d97b79-2433-486e-bd53-4517d697b6ee",
   "metadata": {
    "tags": []
   },
   "source": [
    "### 3.3 Packages\n"
   ]
  },
  {
   "cell_type": "markdown",
   "id": "269d17cd-e33f-449c-9a8b-e8046c208622",
   "metadata": {
    "jp-MarkdownHeadingCollapsed": true,
    "tags": []
   },
   "source": [
    "> NOTE: With jupyter lab in Anaconda, it's best to install packages using conda or the Anaconda navigator.\n",
    "* AVOID using PIP! Only use if conda/navigator method does not work. \n",
    "* The professor will go over this in class "
   ]
  },
  {
   "cell_type": "markdown",
   "id": "6c72e848-7075-42d1-8f6b-0c84d8e87975",
   "metadata": {},
   "source": [
    "Once a package is installed on the computer (and many are already installed; i.e. numpy), then you can import this package into your program"
   ]
  },
  {
   "cell_type": "code",
   "execution_count": 87,
   "id": "67e557c7-f5fe-467c-a0c0-3e097073ab53",
   "metadata": {},
   "outputs": [],
   "source": [
    "import math\n",
    "\n",
    "x = [1,2]"
   ]
  },
  {
   "cell_type": "code",
   "execution_count": null,
   "id": "0ffa8348-b66c-42ea-96ad-14db70148ed9",
   "metadata": {},
   "outputs": [],
   "source": [
    "# once imported, you can use parts of the package as follows.\n",
    "print(math.sqrt(4))\n",
    "print(math.sin(90))"
   ]
  },
  {
   "cell_type": "code",
   "execution_count": null,
   "id": "f96ad927-8465-448a-a1ab-60634c8bd676",
   "metadata": {},
   "outputs": [],
   "source": [
    "# you can also specify which parts of a package are importe - and once done, they are part of the same\n",
    "# namespace as the program (that means, you do not need to proceed their call with the library name)\n",
    "from math import sin\n",
    "\n",
    "print(sin(90)) # notice that now, I don't need to enter math.sin(90)"
   ]
  },
  {
   "cell_type": "code",
   "execution_count": null,
   "id": "3d817c24-2178-4914-8586-3553120ba2ca",
   "metadata": {},
   "outputs": [],
   "source": [
    "# you can also import the entire library into the current program namespace\n",
    "\n",
    "from math import *\n",
    "\n",
    "print(sin(90))\n",
    "print(pi)\n",
    "print(e)"
   ]
  },
  {
   "cell_type": "markdown",
   "id": "f42ae941-5469-4e80-91b1-0a0305ec177f",
   "metadata": {},
   "source": [
    "> NOTE: Importing the prackage contents into the programs namespace can save you some typing (since you do not need to indicate the library name), but it can sometimes get you into trouble (if you already have your own function, or a function from another package, that's already been created). This issue will be easier to understand once we've covered the creation of functions (this is covered in another notebook)"
   ]
  },
  {
   "cell_type": "markdown",
   "id": "b453786e-c8e6-4edd-b3c0-be62faeb9f29",
   "metadata": {},
   "source": [
    "## 4.0 Numpy"
   ]
  },
  {
   "cell_type": "markdown",
   "id": "07de0368-388c-41e2-9636-aa4b88866268",
   "metadata": {},
   "source": [
    "### 4.1 Installing and importing numpy"
   ]
  },
  {
   "cell_type": "markdown",
   "id": "354a8628-1d9e-4090-94cd-4722bc5c117f",
   "metadata": {},
   "source": [
    "The numpy package is installed as part of the Anaconda distribution (you will not need to install it, only import it and use it)."
   ]
  },
  {
   "cell_type": "code",
   "execution_count": null,
   "id": "f1eacff5-7956-4407-b3f4-85e47b2d922c",
   "metadata": {},
   "outputs": [],
   "source": [
    "import numpy # this is one way to import"
   ]
  },
  {
   "cell_type": "code",
   "execution_count": null,
   "id": "57145cff-11f1-46cf-884a-b78313fd3bf7",
   "metadata": {},
   "outputs": [],
   "source": [
    "numpy.asarray([1,2,3])"
   ]
  },
  {
   "cell_type": "code",
   "execution_count": null,
   "id": "0c48e8a3-5a88-49d2-89a8-468b3e495f07",
   "metadata": {},
   "outputs": [],
   "source": [
    "# but, you can also rename a package (to a shorter name) when importing\n",
    "\n",
    "import numpy as np # this is a very common way to import numpy\n",
    "\n",
    "np.asarray([2,3,4])"
   ]
  },
  {
   "cell_type": "markdown",
   "id": "51c17952-c6d8-4973-b2c2-570ed143757a",
   "metadata": {},
   "source": [
    "### 4.2 Numpy basics"
   ]
  },
  {
   "cell_type": "markdown",
   "id": "3e681273-9a91-4531-8ddd-3e0d99502dca",
   "metadata": {},
   "source": [
    "#### 4.2.1 Lists versus numpy array"
   ]
  },
  {
   "cell_type": "code",
   "execution_count": null,
   "id": "c8e3ff74-bcfc-44bc-9d49-488a13354a72",
   "metadata": {},
   "outputs": [],
   "source": [
    "# Here are some regular lists...\n",
    "height = [1.75, 1.34, 1.56, 1.54, 1.48]\n",
    "weight = [65.4, 56.7, 73.8, 65.4, 49.8]"
   ]
  },
  {
   "cell_type": "markdown",
   "id": "662c912c-2359-4c84-930f-c77c868d5a58",
   "metadata": {},
   "source": [
    "Numpy is a package that is commonly used in data science. It allows you to easily conduct vector/matrix calculations; and in general, conduct operations easily (and fast) over large arrays of data. "
   ]
  },
  {
   "cell_type": "code",
   "execution_count": null,
   "id": "0f7338c6-8583-456b-9e02-e24257391236",
   "metadata": {},
   "outputs": [],
   "source": [
    "height_np = np.asarray(height)\n",
    "weight_np = np.asarray(weight)"
   ]
  },
  {
   "cell_type": "code",
   "execution_count": null,
   "id": "7fa75d39-08da-4374-9252-3d43271a66f4",
   "metadata": {},
   "outputs": [],
   "source": [
    "bmi = weight_np / height_np ** 2\n",
    "print(bmi)"
   ]
  },
  {
   "cell_type": "code",
   "execution_count": null,
   "id": "6b709375-a8a4-4bd3-8492-acf77eab8aea",
   "metadata": {},
   "outputs": [],
   "source": [
    "# notice that we can't do a calculation of bmi as easily if you only had the lists\n",
    "# note that the code in this cell creates and error (to demonstrate now lists and numpy differ)\n",
    "#bmi = weight / height ** 2\n",
    "#print(bmi)"
   ]
  },
  {
   "cell_type": "markdown",
   "id": "22611ec8-d722-4e4f-a5b0-f8f54544763c",
   "metadata": {},
   "source": [
    "#### 4.2.2 Operations on numpy arrays"
   ]
  },
  {
   "cell_type": "code",
   "execution_count": null,
   "id": "116e3a8f-c88b-4e92-9a72-eadae0242104",
   "metadata": {},
   "outputs": [],
   "source": [
    "np_ra1 = np.array([1,2,3,4])"
   ]
  },
  {
   "cell_type": "code",
   "execution_count": null,
   "id": "d6fa7b16-5fba-4f3d-a042-8e57f3e37a77",
   "metadata": {},
   "outputs": [],
   "source": [
    "np_ra1 * 2 # multiple all elements of the array by 2"
   ]
  },
  {
   "cell_type": "code",
   "execution_count": null,
   "id": "2824c2a1-ac1e-4b7f-80b1-5312e0fb32b8",
   "metadata": {},
   "outputs": [],
   "source": [
    "np_ra1 ** 2 # take easy element in the array and square it"
   ]
  },
  {
   "cell_type": "code",
   "execution_count": null,
   "id": "d0d7eb5d-e528-443d-896f-2486cd6b7cd5",
   "metadata": {},
   "outputs": [],
   "source": [
    "np_ra2 = np.array([3,4,5, 8])"
   ]
  },
  {
   "cell_type": "code",
   "execution_count": null,
   "id": "8a6c36a0-9548-48c9-a614-fb93166d4fff",
   "metadata": {},
   "outputs": [],
   "source": [
    "np_ra1 * np_ra2 # we can even multiple (and subtract, add, or divide) two lists"
   ]
  },
  {
   "cell_type": "code",
   "execution_count": null,
   "id": "4b8a80fa-f16a-4f37-b70a-1cdef5f0d9fb",
   "metadata": {},
   "outputs": [],
   "source": [
    "np_ra1 / np_ra2 "
   ]
  },
  {
   "cell_type": "code",
   "execution_count": null,
   "id": "58e47419-64ff-4732-a7d4-5a0685849da7",
   "metadata": {},
   "outputs": [],
   "source": [
    "np_ra1 + np_ra2 "
   ]
  },
  {
   "cell_type": "code",
   "execution_count": null,
   "id": "f5dc4297-b101-4c22-a079-88b30465dea3",
   "metadata": {},
   "outputs": [],
   "source": [
    "np_ra1 - np_ra2 "
   ]
  },
  {
   "cell_type": "markdown",
   "id": "cefe9768-d7ce-46c3-82c1-d13252817a55",
   "metadata": {},
   "source": [
    "#### 4.2.3 Numpy arrays only contain one type"
   ]
  },
  {
   "cell_type": "code",
   "execution_count": null,
   "id": "8e143bec-6482-4a6b-ab86-6b0f907439df",
   "metadata": {},
   "outputs": [],
   "source": [
    " np.array([1.0, \"is\", True]) # np will turn all of these into a string"
   ]
  },
  {
   "cell_type": "code",
   "execution_count": null,
   "id": "b8448c12-7f76-486c-a687-470b15fa7d53",
   "metadata": {},
   "outputs": [],
   "source": [
    "np.array([1.0, 2, 3.9]) # these will all become float"
   ]
  },
  {
   "cell_type": "markdown",
   "id": "96522e20-9eb9-4e6e-9632-48e46842795e",
   "metadata": {},
   "source": [
    "Notice that Numpy will choose the smallest datatype that can hold all the content. "
   ]
  },
  {
   "cell_type": "markdown",
   "id": "1f2ebcd8-3c77-42e2-9ff1-cdd60374e083",
   "metadata": {},
   "source": [
    "#### 4.2.4 NumPy Subsetting"
   ]
  },
  {
   "cell_type": "code",
   "execution_count": null,
   "id": "f51ca1db-2f72-40f6-b965-3b225cf830a5",
   "metadata": {},
   "outputs": [],
   "source": [
    "bmi"
   ]
  },
  {
   "cell_type": "code",
   "execution_count": null,
   "id": "4809ec43-db37-42db-9ab7-f78d147bc294",
   "metadata": {},
   "outputs": [],
   "source": [
    "bmi > 23"
   ]
  },
  {
   "cell_type": "code",
   "execution_count": null,
   "id": "6d00a6a6-909b-4523-8c01-a222d21d6d70",
   "metadata": {
    "tags": []
   },
   "outputs": [],
   "source": [
    "bmi[bmi > 23]"
   ]
  },
  {
   "cell_type": "markdown",
   "id": "b94a1304-4c01-47b7-9826-3bf3a4490d76",
   "metadata": {},
   "source": [
    "### 4.3 2D Numpy arrays"
   ]
  },
  {
   "cell_type": "code",
   "execution_count": null,
   "id": "ce76e26e-d386-4b8e-9888-4edb4d9f94de",
   "metadata": {},
   "outputs": [],
   "source": [
    "np_2d = np.array([np.asarray(height), np.asarray(weight)])\n",
    "np_2d"
   ]
  },
  {
   "cell_type": "code",
   "execution_count": null,
   "id": "a18ec026-018f-4261-b3aa-35d6ef21ce05",
   "metadata": {},
   "outputs": [],
   "source": [
    "np_2d.shape  # NOTICE that this isn't a method, rather it's an attribut of the np_2d object"
   ]
  },
  {
   "cell_type": "code",
   "execution_count": null,
   "id": "9388a82a-a2cc-4934-9cdd-97e63b28ba94",
   "metadata": {},
   "outputs": [],
   "source": [
    "# selecting first row, 3rd element (this is the same as lists!)\n",
    "np_2d[0][2]"
   ]
  },
  {
   "cell_type": "code",
   "execution_count": null,
   "id": "7a6c6d33-5481-468b-b856-b09ffc4f206b",
   "metadata": {},
   "outputs": [],
   "source": [
    "# BUT, with numpy arrays we can also do...\n",
    "np_2d[0,2] # once you get used to this approach, it's more intiutive and easier that the list approach"
   ]
  },
  {
   "cell_type": "code",
   "execution_count": null,
   "id": "38d7d59a-d8ae-4f13-96a3-9fcf783057b3",
   "metadata": {},
   "outputs": [],
   "source": [
    "np_2d[:,1:3] # select the columns at index 1 and 2 for all rows"
   ]
  },
  {
   "cell_type": "code",
   "execution_count": null,
   "id": "4f9862cb-8a92-485a-867a-277a39e618e9",
   "metadata": {},
   "outputs": [],
   "source": [
    "np_2d[1,:] # select all the weights"
   ]
  },
  {
   "cell_type": "markdown",
   "id": "6e2e32bc-d094-4d05-b7c2-3192d038fd5e",
   "metadata": {},
   "source": [
    "### 4.4 Numpy Basic Stats"
   ]
  },
  {
   "cell_type": "code",
   "execution_count": null,
   "id": "db974974-4a95-4b6e-aa14-3ac735c0c35c",
   "metadata": {},
   "outputs": [],
   "source": [
    "np_height = np.array(height)\n",
    "np_weight = np.array(weight)"
   ]
  },
  {
   "cell_type": "code",
   "execution_count": null,
   "id": "e1395ccc-bab5-4c86-96c5-28e0e6be0ee5",
   "metadata": {},
   "outputs": [],
   "source": [
    "np_height.mean()"
   ]
  },
  {
   "cell_type": "code",
   "execution_count": null,
   "id": "b4ddd642-ed99-4e2d-87e9-248baec41fb1",
   "metadata": {},
   "outputs": [],
   "source": [
    "np_height.std()"
   ]
  },
  {
   "cell_type": "code",
   "execution_count": null,
   "id": "f000da6b-d3c8-437a-854c-750862b1670b",
   "metadata": {},
   "outputs": [],
   "source": [
    "# np_height.median() # note that there isn't a median method... "
   ]
  },
  {
   "cell_type": "markdown",
   "id": "37c05741-5463-4927-8349-c19dbfee63cc",
   "metadata": {},
   "source": [
    "... using np functions (not methods)...."
   ]
  },
  {
   "cell_type": "code",
   "execution_count": null,
   "id": "1ff12179-49c2-43d2-a39a-5610a608d5f5",
   "metadata": {},
   "outputs": [],
   "source": [
    "np.median(np_height)"
   ]
  },
  {
   "cell_type": "code",
   "execution_count": null,
   "id": "8f9bb4c8-b807-4e8e-bd9e-3c6a412c0547",
   "metadata": {},
   "outputs": [],
   "source": [
    "np.mean(np_height)"
   ]
  },
  {
   "cell_type": "code",
   "execution_count": null,
   "id": "963d0950-20f2-4f49-8c07-85a073893ac1",
   "metadata": {},
   "outputs": [],
   "source": [
    "np.corrcoef(np_height, np_weight)"
   ]
  },
  {
   "cell_type": "code",
   "execution_count": null,
   "id": "1928d465-a98a-4f10-a6eb-48b5f5c2e333",
   "metadata": {},
   "outputs": [],
   "source": [
    "np.std(np_height)"
   ]
  },
  {
   "cell_type": "code",
   "execution_count": null,
   "id": "9fd9bd1d-b880-46e6-8f48-cca306b2cfbe",
   "metadata": {},
   "outputs": [],
   "source": [
    "np.var(np_height)"
   ]
  },
  {
   "cell_type": "code",
   "execution_count": null,
   "id": "852fe190-a872-4886-94af-c7589d734fe7",
   "metadata": {},
   "outputs": [],
   "source": [
    "np.sum(np_height)"
   ]
  },
  {
   "cell_type": "code",
   "execution_count": null,
   "id": "fa2573a1-bbc0-419c-aa5c-556f69f826a4",
   "metadata": {},
   "outputs": [],
   "source": [
    "# here, we will generate 20 weights and height from randomly sampling a normal distribution\n",
    "np_height = np.round(np.random.normal(1.75, 0.2, 20), 2)\n",
    "np_weight = np.round(np.random.normal(60.32, 15, 20), 2)\n",
    "np_people = np.column_stack((np_height, np_weight))\n",
    "np_people"
   ]
  },
  {
   "cell_type": "code",
   "execution_count": null,
   "id": "95671a24-2b7d-4120-b387-a3962b93edb6",
   "metadata": {},
   "outputs": [],
   "source": []
  }
 ],
 "metadata": {
  "kernelspec": {
   "display_name": "Python 3 (ipykernel)",
   "language": "python",
   "name": "python3"
  },
  "language_info": {
   "codemirror_mode": {
    "name": "ipython",
    "version": 3
   },
   "file_extension": ".py",
   "mimetype": "text/x-python",
   "name": "python",
   "nbconvert_exporter": "python",
   "pygments_lexer": "ipython3",
   "version": "3.9.12"
  }
 },
 "nbformat": 4,
 "nbformat_minor": 5
}
