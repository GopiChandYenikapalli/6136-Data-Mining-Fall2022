{
 "cells": [
  {
   "cell_type": "markdown",
   "id": "b91d3ee4",
   "metadata": {},
   "source": [
    "# Gopi Chand Yenikapalli Data Mining Final Bonus Assignment "
   ]
  },
  {
   "cell_type": "markdown",
   "id": "8b6c44fb",
   "metadata": {},
   "source": [
    "# Install and/or import necessary packages"
   ]
  },
  {
   "cell_type": "code",
   "execution_count": 1,
   "id": "5a24027f",
   "metadata": {},
   "outputs": [
    {
     "name": "stderr",
     "output_type": "stream",
     "text": [
      "C:\\Users\\Gopi Chand\\anaconda3\\lib\\site-packages\\xgboost\\compat.py:36: FutureWarning: pandas.Int64Index is deprecated and will be removed from pandas in a future version. Use pandas.Index with the appropriate dtype instead.\n",
      "  from pandas import MultiIndex, Int64Index\n"
     ]
    }
   ],
   "source": [
    "# Importing the libraries\n",
    "import pandas as pd\n",
    "import numpy as np\n",
    "import matplotlib.pyplot as plt\n",
    "from sklearn.model_selection import train_test_split\n",
    "from sklearn.metrics import confusion_matrix, accuracy_score, precision_score, recall_score ,f1_score,classification_report, make_scorer\n",
    "from sklearn.preprocessing import StandardScaler\n",
    "from sklearn.neighbors import KNeighborsClassifier\n",
    "from sklearn.tree import export_text\n",
    "from sklearn import preprocessing\n",
    "from sklearn.model_selection import train_test_split\n",
    "from imblearn.over_sampling import RandomOverSampler\n",
    "from sklearn.metrics import fbeta_score\n",
    "from sklearn.metrics import classification_report\n",
    "from sklearn.neural_network import MLPClassifier\n",
    "from xgboost import XGBClassifier\n",
    "from sklearn.model_selection import GridSearchCV, RandomizedSearchCV"
   ]
  },
  {
   "cell_type": "code",
   "execution_count": 2,
   "id": "70ae0121",
   "metadata": {},
   "outputs": [
    {
     "data": {
      "text/html": [
       "<div>\n",
       "<style scoped>\n",
       "    .dataframe tbody tr th:only-of-type {\n",
       "        vertical-align: middle;\n",
       "    }\n",
       "\n",
       "    .dataframe tbody tr th {\n",
       "        vertical-align: top;\n",
       "    }\n",
       "\n",
       "    .dataframe thead th {\n",
       "        text-align: right;\n",
       "    }\n",
       "</style>\n",
       "<table border=\"1\" class=\"dataframe\">\n",
       "  <thead>\n",
       "    <tr style=\"text-align: right;\">\n",
       "      <th></th>\n",
       "      <th>X1</th>\n",
       "      <th>X2</th>\n",
       "      <th>Y</th>\n",
       "    </tr>\n",
       "  </thead>\n",
       "  <tbody>\n",
       "    <tr>\n",
       "      <th>0</th>\n",
       "      <td>16.24</td>\n",
       "      <td>7350.656224</td>\n",
       "      <td>1</td>\n",
       "    </tr>\n",
       "    <tr>\n",
       "      <th>1</th>\n",
       "      <td>-6.12</td>\n",
       "      <td>1013.093472</td>\n",
       "      <td>1</td>\n",
       "    </tr>\n",
       "    <tr>\n",
       "      <th>2</th>\n",
       "      <td>-5.28</td>\n",
       "      <td>-2299.159552</td>\n",
       "      <td>0</td>\n",
       "    </tr>\n",
       "    <tr>\n",
       "      <th>3</th>\n",
       "      <td>-10.73</td>\n",
       "      <td>-3920.953117</td>\n",
       "      <td>0</td>\n",
       "    </tr>\n",
       "    <tr>\n",
       "      <th>4</th>\n",
       "      <td>8.65</td>\n",
       "      <td>-9404.042875</td>\n",
       "      <td>0</td>\n",
       "    </tr>\n",
       "  </tbody>\n",
       "</table>\n",
       "</div>"
      ],
      "text/plain": [
       "      X1           X2  Y\n",
       "0  16.24  7350.656224  1\n",
       "1  -6.12  1013.093472  1\n",
       "2  -5.28 -2299.159552  0\n",
       "3 -10.73 -3920.953117  0\n",
       "4   8.65 -9404.042875  0"
      ]
     },
     "execution_count": 2,
     "metadata": {},
     "output_type": "execute_result"
    }
   ],
   "source": [
    "#importing CSV file with read_csv command and printing the top 5 values\n",
    "df=pd.read_csv(\"C:/Users/Gopi Chand/Downloads/special_assignment.csv\")\n",
    "df.head(5)"
   ]
  },
  {
   "cell_type": "markdown",
   "id": "1f8fbf74",
   "metadata": {},
   "source": [
    "# Explore and Clean the dataset"
   ]
  },
  {
   "cell_type": "code",
   "execution_count": 3,
   "id": "b0245548",
   "metadata": {},
   "outputs": [
    {
     "name": "stdout",
     "output_type": "stream",
     "text": [
      "Rows=2000 and Cols=3\n"
     ]
    }
   ],
   "source": [
    "# Exploring number of rows and columns\n",
    "rows = df.shape[0]\n",
    "cols = df.shape[1]\n",
    "print(f\"Rows={rows} and Cols={cols}\")"
   ]
  },
  {
   "cell_type": "code",
   "execution_count": 4,
   "id": "2b0ce800",
   "metadata": {},
   "outputs": [
    {
     "data": {
      "text/plain": [
       "X1    5\n",
       "X2    6\n",
       "Y     0\n",
       "dtype: int64"
      ]
     },
     "execution_count": 4,
     "metadata": {},
     "output_type": "execute_result"
    }
   ],
   "source": [
    "#The number of missing values in the entire dataframe\n",
    "df.isnull().sum()"
   ]
  },
  {
   "cell_type": "code",
   "execution_count": 5,
   "id": "abde0ca6",
   "metadata": {},
   "outputs": [],
   "source": [
    "#dropping all the null value rows\n",
    "df = df.dropna()"
   ]
  },
  {
   "cell_type": "code",
   "execution_count": 6,
   "id": "8b7b2826",
   "metadata": {},
   "outputs": [
    {
     "name": "stdout",
     "output_type": "stream",
     "text": [
      "Rows=1989 and Cols=3\n"
     ]
    }
   ],
   "source": [
    "# Exploring number of rows and columns after dropping null rows\n",
    "rows = df.shape[0]\n",
    "cols = df.shape[1]\n",
    "print(f\"Rows={rows} and Cols={cols}\")\n"
   ]
  },
  {
   "cell_type": "markdown",
   "id": "79add9f7",
   "metadata": {},
   "source": [
    "therefore, total 11 rows dropped"
   ]
  },
  {
   "cell_type": "code",
   "execution_count": 7,
   "id": "3f124552",
   "metadata": {},
   "outputs": [
    {
     "data": {
      "text/plain": [
       "X1    float64\n",
       "X2    float64\n",
       "Y       int64\n",
       "dtype: object"
      ]
     },
     "execution_count": 7,
     "metadata": {},
     "output_type": "execute_result"
    }
   ],
   "source": [
    "df.dtypes"
   ]
  },
  {
   "cell_type": "code",
   "execution_count": 8,
   "id": "e5824f48",
   "metadata": {},
   "outputs": [
    {
     "data": {
      "text/plain": [
       "X1    0\n",
       "X2    0\n",
       "Y     0\n",
       "dtype: int64"
      ]
     },
     "execution_count": 8,
     "metadata": {},
     "output_type": "execute_result"
    }
   ],
   "source": [
    "#The number of missing values in the entire dataframe after dropping null rows\n",
    "df.isnull().sum()"
   ]
  },
  {
   "cell_type": "code",
   "execution_count": 9,
   "id": "ea47082c",
   "metadata": {},
   "outputs": [
    {
     "data": {
      "text/plain": [
       "X1    10.048\n",
       "dtype: float64"
      ]
     },
     "execution_count": 9,
     "metadata": {},
     "output_type": "execute_result"
    }
   ],
   "source": [
    "#The standard deviation of X1 is \n",
    "df[['X1']].std().round(3)"
   ]
  },
  {
   "cell_type": "code",
   "execution_count": 10,
   "id": "1b5589b1",
   "metadata": {},
   "outputs": [
    {
     "data": {
      "text/plain": [
       "X2    6225.684\n",
       "dtype: float64"
      ]
     },
     "execution_count": 10,
     "metadata": {},
     "output_type": "execute_result"
    }
   ],
   "source": [
    "#The standard deviation of X2 is \n",
    "df[['X2']].std().round(3)"
   ]
  },
  {
   "cell_type": "code",
   "execution_count": 11,
   "id": "a722fc11",
   "metadata": {},
   "outputs": [
    {
     "data": {
      "text/plain": [
       "X1    0.325\n",
       "dtype: float64"
      ]
     },
     "execution_count": 11,
     "metadata": {},
     "output_type": "execute_result"
    }
   ],
   "source": [
    "#The Mean of X1 is \n",
    "df[['X1']].mean().round(3)"
   ]
  },
  {
   "cell_type": "code",
   "execution_count": 12,
   "id": "e7f8bfa2",
   "metadata": {},
   "outputs": [
    {
     "data": {
      "text/plain": [
       "X2    338.699\n",
       "dtype: float64"
      ]
     },
     "execution_count": 12,
     "metadata": {},
     "output_type": "execute_result"
    }
   ],
   "source": [
    "#The Mean of X2 is \n",
    "df[['X2']].mean().round(3)"
   ]
  },
  {
   "cell_type": "markdown",
   "id": "5c61c4f0",
   "metadata": {},
   "source": [
    "Therefore, there is little or no difference in mean if you drop null rows or replace with zero. i go with drop null rows"
   ]
  },
  {
   "cell_type": "code",
   "execution_count": 13,
   "id": "f6ec2c0c",
   "metadata": {},
   "outputs": [
    {
     "data": {
      "text/plain": [
       "0    1006\n",
       "1     983\n",
       "Name: Y, dtype: int64"
      ]
     },
     "execution_count": 13,
     "metadata": {},
     "output_type": "execute_result"
    }
   ],
   "source": [
    "df['Y'].value_counts()"
   ]
  },
  {
   "cell_type": "markdown",
   "id": "9a2fc461",
   "metadata": {},
   "source": [
    "if you follow the 10% rule then Y values count is less than 10% so consider this as balanced data"
   ]
  },
  {
   "cell_type": "markdown",
   "id": "eb744506",
   "metadata": {},
   "source": [
    "# Predictors and Target variables Split"
   ]
  },
  {
   "cell_type": "code",
   "execution_count": 14,
   "id": "7874c6af",
   "metadata": {},
   "outputs": [
    {
     "data": {
      "text/plain": [
       "['X1', 'X2']"
      ]
     },
     "execution_count": 14,
     "metadata": {},
     "output_type": "execute_result"
    }
   ],
   "source": [
    "target = 'Y'\n",
    "predictors = list(df.columns) #Assigning Predictors and coverting pandas series object to list.\n",
    "predictors.remove('Y') #removing Target from predictors.\n",
    "predictors #Checking Predictors list."
   ]
  },
  {
   "cell_type": "code",
   "execution_count": 15,
   "id": "08f95a7f",
   "metadata": {},
   "outputs": [],
   "source": [
    "X=df[predictors]\n",
    "y=df[target]"
   ]
  },
  {
   "cell_type": "code",
   "execution_count": 16,
   "id": "1a6d331f",
   "metadata": {},
   "outputs": [
    {
     "name": "stdout",
     "output_type": "stream",
     "text": [
      "         X1           X2\n",
      "0     16.24  7350.656224\n",
      "1     -6.12  1013.093472\n",
      "2     -5.28 -2299.159552\n",
      "3    -10.73 -3920.953117\n",
      "4      8.65 -9404.042875\n",
      "...     ...          ...\n",
      "1995   1.89  -383.306631\n",
      "1996   5.61 -4567.089419\n",
      "1997  -9.22 -4747.559048\n",
      "1998   6.47  3646.880923\n",
      "1999  13.87  5951.584503\n",
      "\n",
      "[1989 rows x 2 columns]\n"
     ]
    }
   ],
   "source": [
    "print(X)"
   ]
  },
  {
   "cell_type": "code",
   "execution_count": 17,
   "id": "70dd1eac",
   "metadata": {},
   "outputs": [
    {
     "name": "stdout",
     "output_type": "stream",
     "text": [
      "0       1\n",
      "1       1\n",
      "2       0\n",
      "3       0\n",
      "4       0\n",
      "       ..\n",
      "1995    0\n",
      "1996    0\n",
      "1997    0\n",
      "1998    1\n",
      "1999    1\n",
      "Name: Y, Length: 1989, dtype: int64\n"
     ]
    }
   ],
   "source": [
    "print(y)"
   ]
  },
  {
   "cell_type": "markdown",
   "id": "456daabb",
   "metadata": {},
   "source": [
    "# Partitioning data into training and test data sets"
   ]
  },
  {
   "cell_type": "markdown",
   "id": "ad583282",
   "metadata": {},
   "source": [
    "training/test split of the data at 80% training and 20% testing"
   ]
  },
  {
   "cell_type": "code",
   "execution_count": 18,
   "id": "b6411754",
   "metadata": {},
   "outputs": [],
   "source": [
    "X_train, X_test, y_train, y_test = train_test_split(X,y, test_size=0.2, random_state=1)"
   ]
  },
  {
   "cell_type": "code",
   "execution_count": 19,
   "id": "8303a241",
   "metadata": {},
   "outputs": [],
   "source": [
    "# create a standard scaler and fit it to the training set of predictors\n",
    "scaler = preprocessing.StandardScaler()\n",
    "scaler.fit(X_train[predictors])\n",
    "\n",
    "# Transform the predictors of training, testing\n",
    "Scaled_traindata= scaler.transform(X_train[predictors])\n",
    "Scaled_testdata = scaler.transform(X_test[predictors])"
   ]
  },
  {
   "cell_type": "code",
   "execution_count": 20,
   "id": "0d1cd705",
   "metadata": {},
   "outputs": [
    {
     "data": {
      "text/html": [
       "<div>\n",
       "<style scoped>\n",
       "    .dataframe tbody tr th:only-of-type {\n",
       "        vertical-align: middle;\n",
       "    }\n",
       "\n",
       "    .dataframe tbody tr th {\n",
       "        vertical-align: top;\n",
       "    }\n",
       "\n",
       "    .dataframe thead th {\n",
       "        text-align: right;\n",
       "    }\n",
       "</style>\n",
       "<table border=\"1\" class=\"dataframe\">\n",
       "  <thead>\n",
       "    <tr style=\"text-align: right;\">\n",
       "      <th></th>\n",
       "      <th>X1</th>\n",
       "      <th>X2</th>\n",
       "    </tr>\n",
       "  </thead>\n",
       "  <tbody>\n",
       "    <tr>\n",
       "      <th>1654</th>\n",
       "      <td>-0.462561</td>\n",
       "      <td>0.639396</td>\n",
       "    </tr>\n",
       "    <tr>\n",
       "      <th>204</th>\n",
       "      <td>-1.341300</td>\n",
       "      <td>-1.014220</td>\n",
       "    </tr>\n",
       "    <tr>\n",
       "      <th>1623</th>\n",
       "      <td>-1.078574</td>\n",
       "      <td>0.074307</td>\n",
       "    </tr>\n",
       "    <tr>\n",
       "      <th>31</th>\n",
       "      <td>-0.410812</td>\n",
       "      <td>-0.162603</td>\n",
       "    </tr>\n",
       "    <tr>\n",
       "      <th>1896</th>\n",
       "      <td>-0.816843</td>\n",
       "      <td>-0.670475</td>\n",
       "    </tr>\n",
       "    <tr>\n",
       "      <th>...</th>\n",
       "      <td>...</td>\n",
       "      <td>...</td>\n",
       "    </tr>\n",
       "    <tr>\n",
       "      <th>1800</th>\n",
       "      <td>-1.317416</td>\n",
       "      <td>-0.104489</td>\n",
       "    </tr>\n",
       "    <tr>\n",
       "      <th>1100</th>\n",
       "      <td>-0.148085</td>\n",
       "      <td>-1.085501</td>\n",
       "    </tr>\n",
       "    <tr>\n",
       "      <th>1941</th>\n",
       "      <td>-1.396035</td>\n",
       "      <td>0.649561</td>\n",
       "    </tr>\n",
       "    <tr>\n",
       "      <th>238</th>\n",
       "      <td>-1.681650</td>\n",
       "      <td>-1.523042</td>\n",
       "    </tr>\n",
       "    <tr>\n",
       "      <th>1065</th>\n",
       "      <td>0.242023</td>\n",
       "      <td>0.463057</td>\n",
       "    </tr>\n",
       "  </tbody>\n",
       "</table>\n",
       "<p>1591 rows × 2 columns</p>\n",
       "</div>"
      ],
      "text/plain": [
       "            X1        X2\n",
       "1654 -0.462561  0.639396\n",
       "204  -1.341300 -1.014220\n",
       "1623 -1.078574  0.074307\n",
       "31   -0.410812 -0.162603\n",
       "1896 -0.816843 -0.670475\n",
       "...        ...       ...\n",
       "1800 -1.317416 -0.104489\n",
       "1100 -0.148085 -1.085501\n",
       "1941 -1.396035  0.649561\n",
       "238  -1.681650 -1.523042\n",
       "1065  0.242023  0.463057\n",
       "\n",
       "[1591 rows x 2 columns]"
      ]
     },
     "execution_count": 20,
     "metadata": {},
     "output_type": "execute_result"
    }
   ],
   "source": [
    "count=0\n",
    "for i in predictors:\n",
    "    X_train[i]=Scaled_traindata[:,count]\n",
    "    X_test[i]=Scaled_testdata[:,count]\n",
    "    count=count+1\n",
    "X_train"
   ]
  },
  {
   "cell_type": "code",
   "execution_count": 21,
   "id": "a39e5d1e",
   "metadata": {},
   "outputs": [
    {
     "data": {
      "text/plain": [
       "0    798\n",
       "1    793\n",
       "Name: Y, dtype: int64"
      ]
     },
     "execution_count": 21,
     "metadata": {},
     "output_type": "execute_result"
    }
   ],
   "source": [
    "y_train.value_counts()"
   ]
  },
  {
   "cell_type": "code",
   "execution_count": 22,
   "id": "3f49fa32",
   "metadata": {},
   "outputs": [
    {
     "data": {
      "image/png": "[encoded data removed]",
      "text/plain": [
       "<Figure size 432x288 with 1 Axes>"
      ]
     },
     "metadata": {
      "needs_background": "light"
     },
     "output_type": "display_data"
    }
   ],
   "source": [
    "import matplotlib.pyplot as plt\n",
    "count = y_train.value_counts()\n",
    "count.plot.bar()\n",
    "plt.ylabel('Number of records')\n",
    "plt.xlabel('Target Class')\n",
    "plt.show()"
   ]
  },
  {
   "cell_type": "code",
   "execution_count": 23,
   "id": "1db4e5be",
   "metadata": {},
   "outputs": [
    {
     "data": {
      "text/plain": [
       "0.3142677561282213"
      ]
     },
     "execution_count": 23,
     "metadata": {},
     "output_type": "execute_result"
    }
   ],
   "source": [
    "#checking for data imbalance as per 10% rule\n",
    "(798-793)/(798+793)*100"
   ]
  },
  {
   "cell_type": "markdown",
   "id": "9bd25f35",
   "metadata": {},
   "source": [
    "it is less than 10% we can say that data is balanced"
   ]
  },
  {
   "cell_type": "markdown",
   "id": "ebb54c8f",
   "metadata": {},
   "source": [
    "# KNN using default parameters"
   ]
  },
  {
   "cell_type": "markdown",
   "id": "3edc8306",
   "metadata": {},
   "source": [
    "Since we know the k-NN models are very sensitive to differences in scale, we have rescaled our variables before fitting the model."
   ]
  },
  {
   "cell_type": "code",
   "execution_count": 24,
   "id": "79448e15",
   "metadata": {},
   "outputs": [
    {
     "name": "stdout",
     "output_type": "stream",
     "text": [
      "CPU times: total: 0 ns\n",
      "Wall time: 0 ns\n"
     ]
    },
    {
     "data": {
      "text/html": [
       "<style>#sk-container-id-1 {color: black;background-color: white;}#sk-container-id-1 pre{padding: 0;}#sk-container-id-1 div.sk-toggleable {background-color: white;}#sk-container-id-1 label.sk-toggleable__label {cursor: pointer;display: block;width: 100%;margin-bottom: 0;padding: 0.3em;box-sizing: border-box;text-align: center;}#sk-container-id-1 label.sk-toggleable__label-arrow:before {content: \"▸\";float: left;margin-right: 0.25em;color: #696969;}#sk-container-id-1 label.sk-toggleable__label-arrow:hover:before {color: black;}#sk-container-id-1 div.sk-estimator:hover label.sk-toggleable__label-arrow:before {color: black;}#sk-container-id-1 div.sk-toggleable__content {max-height: 0;max-width: 0;overflow: hidden;text-align: left;background-color: #f0f8ff;}#sk-container-id-1 div.sk-toggleable__content pre {margin: 0.2em;color: black;border-radius: 0.25em;background-color: #f0f8ff;}#sk-container-id-1 input.sk-toggleable__control:checked~div.sk-toggleable__content {max-height: 200px;max-width: 100%;overflow: auto;}#sk-container-id-1 input.sk-toggleable__control:checked~label.sk-toggleable__label-arrow:before {content: \"▾\";}#sk-container-id-1 div.sk-estimator input.sk-toggleable__control:checked~label.sk-toggleable__label {background-color: #d4ebff;}#sk-container-id-1 div.sk-label input.sk-toggleable__control:checked~label.sk-toggleable__label {background-color: #d4ebff;}#sk-container-id-1 input.sk-hidden--visually {border: 0;clip: rect(1px 1px 1px 1px);clip: rect(1px, 1px, 1px, 1px);height: 1px;margin: -1px;overflow: hidden;padding: 0;position: absolute;width: 1px;}#sk-container-id-1 div.sk-estimator {font-family: monospace;background-color: #f0f8ff;border: 1px dotted black;border-radius: 0.25em;box-sizing: border-box;margin-bottom: 0.5em;}#sk-container-id-1 div.sk-estimator:hover {background-color: #d4ebff;}#sk-container-id-1 div.sk-parallel-item::after {content: \"\";width: 100%;border-bottom: 1px solid gray;flex-grow: 1;}#sk-container-id-1 div.sk-label:hover label.sk-toggleable__label {background-color: #d4ebff;}#sk-container-id-1 div.sk-serial::before {content: \"\";position: absolute;border-left: 1px solid gray;box-sizing: border-box;top: 0;bottom: 0;left: 50%;z-index: 0;}#sk-container-id-1 div.sk-serial {display: flex;flex-direction: column;align-items: center;background-color: white;padding-right: 0.2em;padding-left: 0.2em;position: relative;}#sk-container-id-1 div.sk-item {position: relative;z-index: 1;}#sk-container-id-1 div.sk-parallel {display: flex;align-items: stretch;justify-content: center;background-color: white;position: relative;}#sk-container-id-1 div.sk-item::before, #sk-container-id-1 div.sk-parallel-item::before {content: \"\";position: absolute;border-left: 1px solid gray;box-sizing: border-box;top: 0;bottom: 0;left: 50%;z-index: -1;}#sk-container-id-1 div.sk-parallel-item {display: flex;flex-direction: column;z-index: 1;position: relative;background-color: white;}#sk-container-id-1 div.sk-parallel-item:first-child::after {align-self: flex-end;width: 50%;}#sk-container-id-1 div.sk-parallel-item:last-child::after {align-self: flex-start;width: 50%;}#sk-container-id-1 div.sk-parallel-item:only-child::after {width: 0;}#sk-container-id-1 div.sk-dashed-wrapped {border: 1px dashed gray;margin: 0 0.4em 0.5em 0.4em;box-sizing: border-box;padding-bottom: 0.4em;background-color: white;}#sk-container-id-1 div.sk-label label {font-family: monospace;font-weight: bold;display: inline-block;line-height: 1.2em;}#sk-container-id-1 div.sk-label-container {text-align: center;}#sk-container-id-1 div.sk-container {/* jupyter's `normalize.less` sets `[hidden] { display: none; }` but bootstrap.min.css set `[hidden] { display: none !important; }` so we also need the `!important` here to be able to override the default hidden behavior on the sphinx rendered scikit-learn.org. See: https://github.com/scikit-learn/scikit-learn/issues/21755 */display: inline-block !important;position: relative;}#sk-container-id-1 div.sk-text-repr-fallback {display: none;}</style><div id=\"sk-container-id-1\" class=\"sk-top-container\"><div class=\"sk-text-repr-fallback\"><pre>KNeighborsClassifier(metric=&#x27;euclidean&#x27;, n_neighbors=39)</pre><b>In a Jupyter environment, please rerun this cell to show the HTML representation or trust the notebook. <br />On GitHub, the HTML representation is unable to render, please try loading this page with nbviewer.org.</b></div><div class=\"sk-container\" hidden><div class=\"sk-item\"><div class=\"sk-estimator sk-toggleable\"><input class=\"sk-toggleable__control sk-hidden--visually\" id=\"sk-estimator-id-1\" type=\"checkbox\" checked><label for=\"sk-estimator-id-1\" class=\"sk-toggleable__label sk-toggleable__label-arrow\">KNeighborsClassifier</label><div class=\"sk-toggleable__content\"><pre>KNeighborsClassifier(metric=&#x27;euclidean&#x27;, n_neighbors=39)</pre></div></div></div></div></div>"
      ],
      "text/plain": [
       "KNeighborsClassifier(metric='euclidean', n_neighbors=39)"
      ]
     },
     "execution_count": 24,
     "metadata": {},
     "output_type": "execute_result"
    }
   ],
   "source": [
    "%%time\n",
    "knn = KNeighborsClassifier(n_neighbors=int(len(X_train)**0.5),  metric='euclidean') # user euclidean distance\n",
    "knn.fit(X_train, y_train)"
   ]
  },
  {
   "cell_type": "code",
   "execution_count": 25,
   "id": "8200d455",
   "metadata": {},
   "outputs": [
    {
     "name": "stdout",
     "output_type": "stream",
     "text": [
      "CPU times: total: 15.6 ms\n",
      "Wall time: 15.4 ms\n"
     ]
    }
   ],
   "source": [
    "%%time\n",
    "%%capture --no-display\n",
    "y_pred = knn.predict(X_test)\n",
    "print(confusion_matrix(y_test, y_pred))\n",
    "print(\"***********************\")\n",
    "print(f\"{'Accuracy Score: ':18}{accuracy_score(y_test, y_pred):.3f}\")\n",
    "print(f\"{'Recall Score:':18}{recall_score(y_test, y_pred):.3f}\")\n",
    "print(f\"{'Precision Score: ':18}{precision_score(y_test, y_pred):.3f}\")\n",
    "print(\"***********************\")\n",
    "print(f\"{'F2 Score: ':18}{fbeta_score(y_test, y_pred, beta=2):.3f}\")\n",
    "print(\"***********************\")"
   ]
  },
  {
   "cell_type": "markdown",
   "id": "d51f0772",
   "metadata": {},
   "source": [
    "# KNN with best k value using RandomSearch"
   ]
  },
  {
   "cell_type": "code",
   "execution_count": 26,
   "id": "5fa44797",
   "metadata": {},
   "outputs": [],
   "source": [
    "from sklearn.metrics import fbeta_score, make_scorer\n",
    "ftwo_scorer = make_scorer(fbeta_score, beta=2,greater_is_better=False)"
   ]
  },
  {
   "cell_type": "code",
   "execution_count": 27,
   "id": "f771741c",
   "metadata": {},
   "outputs": [
    {
     "name": "stdout",
     "output_type": "stream",
     "text": [
      "38\n"
     ]
    }
   ],
   "source": [
    "print(int(len(y_test)**0.5)*2 )"
   ]
  },
  {
   "cell_type": "code",
   "execution_count": 28,
   "id": "f1603973",
   "metadata": {},
   "outputs": [
    {
     "name": "stdout",
     "output_type": "stream",
     "text": [
      "make_scorer(fbeta_score, greater_is_better=False, beta=2) score:  -0.9840877002657346\n",
      "parameters:  {'weights': 'uniform', 'n_neighbors': 29, 'metric': 'manhattan'}\n",
      "CPU times: total: 141 ms\n",
      "Wall time: 3.96 s\n"
     ]
    }
   ],
   "source": [
    "%%time\n",
    "k_fold = 5\n",
    "# Start with an initial guess for parameters\n",
    "param_random = { 'n_neighbors' : list(range(1,38,2)),\n",
    "               'weights' : ['uniform','distance'],\n",
    "               'metric' : ['minkowski','euclidean','manhattan']}\n",
    "randomsearch = RandomizedSearchCV(KNeighborsClassifier(), param_random, cv=k_fold, scoring=ftwo_scorer,\n",
    "                          n_jobs=-1, random_state =123)  # n_jobs=-1 will utilize all available CPUs \n",
    "randomsearch.fit(X_train, y_train)\n",
    "print(ftwo_scorer, 'score: ', randomsearch.best_score_)\n",
    "print('parameters: ', randomsearch.best_params_)\n",
    "\n",
    "bestF2Knn = randomsearch.best_estimator_"
   ]
  },
  {
   "cell_type": "code",
   "execution_count": 29,
   "id": "99733460",
   "metadata": {},
   "outputs": [
    {
     "name": "stdout",
     "output_type": "stream",
     "text": [
      "CPU times: total: 15.6 ms\n",
      "Wall time: 7.19 ms\n"
     ]
    }
   ],
   "source": [
    "%%time\n",
    "%%capture --no-display\n",
    "y_pred = randomsearch.predict(X_test)\n",
    "print(confusion_matrix(y_test, y_pred))\n",
    "print(\"***********************\")\n",
    "print(f\"{'Accuracy Score: ':18}{accuracy_score(y_test, y_pred):.3f}\")\n",
    "print(f\"{'Recall Score:':18}{recall_score(y_test, y_pred):.3f}\")\n",
    "print(f\"{'Precision Score: ':18}{precision_score(y_test, y_pred):.3f}\")\n",
    "print(\"***********************\")\n",
    "print(f\"{'F2 Score: ':18}{fbeta_score(y_test, y_pred, beta=2):.3f}\")\n",
    "print(\"***********************\")"
   ]
  },
  {
   "cell_type": "markdown",
   "id": "d2fe7c9f",
   "metadata": {},
   "source": [
    "# XGBoost with default parameter"
   ]
  },
  {
   "cell_type": "code",
   "execution_count": 30,
   "id": "b2e3bbdb",
   "metadata": {},
   "outputs": [
    {
     "name": "stdout",
     "output_type": "stream",
     "text": [
      "[17:06:10] WARNING: C:\\Windows\\Temp\\abs_557yfx631l\\croots\\recipe\\xgboost-split_1659548953302\\work\\src\\learner.cc:1115: Starting in XGBoost 1.3.0, the default evaluation metric used with the objective 'binary:logistic' was changed from 'error' to 'logloss'. Explicitly set eval_metric if you'd like to restore the old behavior.\n",
      "CPU times: total: 172 ms\n",
      "Wall time: 55.6 ms\n"
     ]
    },
    {
     "name": "stderr",
     "output_type": "stream",
     "text": [
      "C:\\Users\\Gopi Chand\\anaconda3\\lib\\site-packages\\xgboost\\sklearn.py:1224: UserWarning: The use of label encoder in XGBClassifier is deprecated and will be removed in a future release. To remove this warning, do the following: 1) Pass option use_label_encoder=False when constructing XGBClassifier object; and 2) Encode your labels (y) as integers starting with 0, i.e. 0, 1, 2, ..., [num_class - 1].\n",
      "  warnings.warn(label_encoder_deprecation_msg, UserWarning)\n",
      "C:\\Users\\Gopi Chand\\anaconda3\\lib\\site-packages\\xgboost\\data.py:250: FutureWarning: pandas.Int64Index is deprecated and will be removed from pandas in a future version. Use pandas.Index with the appropriate dtype instead.\n",
      "  elif isinstance(data.columns, (pd.Int64Index, pd.RangeIndex)):\n"
     ]
    }
   ],
   "source": [
    "%%time\n",
    "xgboost = XGBClassifier(random_state=1)\n",
    "_ = xgboost.fit(X_train, y_train)\n"
   ]
  },
  {
   "cell_type": "code",
   "execution_count": 31,
   "id": "2664b175",
   "metadata": {},
   "outputs": [
    {
     "name": "stdout",
     "output_type": "stream",
     "text": [
      "CPU times: total: 15.6 ms\n",
      "Wall time: 3.89 ms\n"
     ]
    }
   ],
   "source": [
    "%%time\n",
    "%%capture --no-display\n",
    "y_pred = xgboost.predict(X_test)\n",
    "print(confusion_matrix(y_test, y_pred))\n",
    "print(\"***********************\")\n",
    "print(f\"{'Accuracy Score: ':18}{accuracy_score(y_test, y_pred):.3f}\")\n",
    "print(f\"{'Recall Score:':18}{recall_score(y_test, y_pred):.3f}\")\n",
    "print(f\"{'Precision Score: ':18}{precision_score(y_test, y_pred):.3f}\")\n",
    "print(f\"{'F2 Score: ':18}{fbeta_score(y_test, y_pred, beta=2):.3f}\")\n",
    "print(\"***********************\")"
   ]
  },
  {
   "cell_type": "markdown",
   "id": "3fb25f62",
   "metadata": {},
   "source": [
    "# XGBoost with hyperparameter tuning"
   ]
  },
  {
   "cell_type": "code",
   "execution_count": 32,
   "id": "bf299f7e",
   "metadata": {},
   "outputs": [],
   "source": [
    "# Criterion used to guide data splits\n",
    "criterion = ['gini', 'entropy']\n",
    "max_depth = [int(x) for x in np.linspace(1, 4000, 50)]\n",
    "max_depth.append(None)\n",
    "\n",
    "# Minimum number of samples required to split a node\n",
    "# default is 2\n",
    "min_samples_split = [int(x) for x in np.linspace(2, 500, 50)]\n",
    "\n",
    "# Minimum number of samples required at each leaf node\n",
    "# default = 1 \n",
    "min_samples_leaf = [int(x) for x in np.linspace(1, 1000, 50)]\n",
    "\n",
    "# max_leaf_nodes  - Grow trees with max_leaf_nodes in best-first fashion.\n",
    "# If None then unlimited number of leaf nodes.\n",
    "# default=None \n",
    "max_leaf_nodes = [int(x) for x in np.linspace(2, len(y_test), 50)]\n",
    "max_leaf_nodes.append(None)\n",
    "# min_impurity_decrease - A node will be split if this split induces a decrease of the impurity greater than or equal to this value.\n",
    "# default=0.0\n",
    "min_impurity_decrease = [x for x in np.arange(0.0, 0.01, 0.0001).round(5)]\n",
    "\n",
    "# Create the random grid\n",
    "param_grid_random = { 'criterion': criterion,\n",
    "                      'max_depth': max_depth,\n",
    "                      'min_samples_split': min_samples_split,\n",
    "                      'min_samples_leaf' : min_samples_leaf,\n",
    "                      'max_leaf_nodes' : max_leaf_nodes,\n",
    "                      'min_impurity_decrease' : min_impurity_decrease,\n",
    "                     }\n"
   ]
  },
  {
   "cell_type": "code",
   "execution_count": 33,
   "id": "7441b6c0",
   "metadata": {},
   "outputs": [
    {
     "name": "stdout",
     "output_type": "stream",
     "text": [
      "Fitting 5 folds for each of 200 candidates, totalling 1000 fits\n"
     ]
    },
    {
     "name": "stderr",
     "output_type": "stream",
     "text": [
      "C:\\Users\\Gopi Chand\\anaconda3\\lib\\site-packages\\xgboost\\sklearn.py:1224: UserWarning: The use of label encoder in XGBClassifier is deprecated and will be removed in a future release. To remove this warning, do the following: 1) Pass option use_label_encoder=False when constructing XGBClassifier object; and 2) Encode your labels (y) as integers starting with 0, i.e. 0, 1, 2, ..., [num_class - 1].\n",
      "  warnings.warn(label_encoder_deprecation_msg, UserWarning)\n",
      "C:\\Users\\Gopi Chand\\anaconda3\\lib\\site-packages\\xgboost\\data.py:250: FutureWarning: pandas.Int64Index is deprecated and will be removed from pandas in a future version. Use pandas.Index with the appropriate dtype instead.\n",
      "  elif isinstance(data.columns, (pd.Int64Index, pd.RangeIndex)):\n"
     ]
    },
    {
     "name": "stdout",
     "output_type": "stream",
     "text": [
      "[17:06:49] WARNING: C:\\Windows\\Temp\\abs_557yfx631l\\croots\\recipe\\xgboost-split_1659548953302\\work\\src\\learner.cc:576: \n",
      "Parameters: { \"criterion\", \"max_leaf_nodes\", \"min_impurity_decrease\", \"min_samples_leaf\", \"min_samples_split\" } might not be used.\n",
      "\n",
      "  This could be a false alarm, with some parameters getting used by language bindings but\n",
      "  then being mistakenly passed down to XGBoost core, or some parameter actually being used\n",
      "  but getting flagged wrongly here. Please open an issue if you find any such cases.\n",
      "\n",
      "\n",
      "[17:06:49] WARNING: C:\\Windows\\Temp\\abs_557yfx631l\\croots\\recipe\\xgboost-split_1659548953302\\work\\src\\learner.cc:1115: Starting in XGBoost 1.3.0, the default evaluation metric used with the objective 'binary:logistic' was changed from 'error' to 'logloss'. Explicitly set eval_metric if you'd like to restore the old behavior.\n",
      "CPU times: total: 4.44 s\n",
      "Wall time: 39 s\n"
     ]
    }
   ],
   "source": [
    "%%time\n",
    "xgboost = XGBClassifier(random_state=1)\n",
    "best_random_search_model = RandomizedSearchCV(\n",
    "        estimator=XGBClassifier(random_state=1), \n",
    "        scoring=ftwo_scorer, \n",
    "        param_distributions=param_grid_random, \n",
    "        n_iter = 200, \n",
    "        cv=5, \n",
    "        verbose=1, \n",
    "        n_jobs = -1\n",
    "    )\n",
    "_ = best_random_search_model.fit(X_train, y_train)"
   ]
  },
  {
   "cell_type": "code",
   "execution_count": 34,
   "id": "47f81c5e",
   "metadata": {},
   "outputs": [
    {
     "name": "stdout",
     "output_type": "stream",
     "text": [
      "Best parameters found:  {'min_samples_split': 93, 'min_samples_leaf': 1, 'min_impurity_decrease': 0.0037, 'max_leaf_nodes': 389, 'max_depth': 2041, 'criterion': 'gini'}\n"
     ]
    }
   ],
   "source": [
    "random_search_best_params = best_random_search_model.best_params_\n",
    "print('Best parameters found: ', random_search_best_params)"
   ]
  },
  {
   "cell_type": "code",
   "execution_count": 35,
   "id": "48a6c550",
   "metadata": {},
   "outputs": [
    {
     "name": "stdout",
     "output_type": "stream",
     "text": [
      "Best score is -0.9909114293596147\n"
     ]
    }
   ],
   "source": [
    "print('Best score is {}'.format(best_random_search_model.best_score_))"
   ]
  },
  {
   "cell_type": "code",
   "execution_count": 36,
   "id": "ef768a2d",
   "metadata": {},
   "outputs": [
    {
     "name": "stdout",
     "output_type": "stream",
     "text": [
      "CPU times: total: 62.5 ms\n",
      "Wall time: 40.3 ms\n"
     ]
    }
   ],
   "source": [
    "%%time\n",
    "%%capture --no-display\n",
    "y_pred = best_random_search_model.predict(X_test)\n",
    "print(confusion_matrix(y_test, y_pred))\n",
    "print(\"***********************\")\n",
    "print(f\"{'Accuracy Score: ':18}{accuracy_score(y_test, y_pred):.3f}\")\n",
    "print(f\"{'Recall Score:':18}{recall_score(y_test, y_pred):.3f}\")\n",
    "print(f\"{'Precision Score: ':18}{precision_score(y_test, y_pred):.3f}\")\n",
    "print(\"***********************\")\n",
    "print(f\"{'F2 Score: ':18}{fbeta_score(y_test, y_pred, beta=2):.3f}\")\n",
    "print(\"***********************\")"
   ]
  },
  {
   "cell_type": "markdown",
   "id": "11b52a86",
   "metadata": {},
   "source": [
    "# Neural Network with deafult parameters"
   ]
  },
  {
   "cell_type": "code",
   "execution_count": 37,
   "id": "ece3dfbc",
   "metadata": {},
   "outputs": [
    {
     "name": "stdout",
     "output_type": "stream",
     "text": [
      "CPU times: total: 1.02 s\n",
      "Wall time: 3.03 s\n"
     ]
    }
   ],
   "source": [
    "%%time\n",
    "ann = MLPClassifier(hidden_layer_sizes=(60,50,40), solver='adam', max_iter=1000,random_state =1)\n",
    "_ = ann.fit(X_train, y_train)\n"
   ]
  },
  {
   "cell_type": "code",
   "execution_count": 38,
   "id": "8b071fac",
   "metadata": {},
   "outputs": [
    {
     "name": "stdout",
     "output_type": "stream",
     "text": [
      "CPU times: total: 0 ns\n",
      "Wall time: 23.8 ms\n"
     ]
    }
   ],
   "source": [
    "%%time\n",
    "%%capture --no-display\n",
    "y_pred = ann.predict(X_test)\n",
    "print(confusion_matrix(y_test, y_pred))\n",
    "print(\"***********************\")\n",
    "print(f\"{'Accuracy Score: ':18}{accuracy_score(y_test, y_pred):.3f}\")\n",
    "print(f\"{'Recall Score:':18}{recall_score(y_test, y_pred):.3f}\")\n",
    "print(f\"{'Precision Score: ':18}{precision_score(y_test, y_pred):.3f}\")\n",
    "print(\"***********************\")\n",
    "print(f\"{'F2 Score: ':18}{fbeta_score(y_test, y_pred, beta=2):.3f}\")\n",
    "print(\"***********************\")"
   ]
  },
  {
   "cell_type": "markdown",
   "id": "054bee63",
   "metadata": {},
   "source": [
    "# Neural Network with hyperparameter tuning"
   ]
  },
  {
   "cell_type": "code",
   "execution_count": 39,
   "id": "046d693d",
   "metadata": {},
   "outputs": [
    {
     "name": "stdout",
     "output_type": "stream",
     "text": [
      "make_scorer(fbeta_score, greater_is_better=False, beta=2) score:  -0.9893877383520773\n",
      "parameters:  {'solver': 'adam', 'learning_rate': 'adaptive', 'hidden_layer_sizes': (60, 50, 40), 'alpha': 0.0001, 'activation': 'logistic'}\n",
      "CPU times: total: 953 ms\n",
      "Wall time: 22.6 s\n"
     ]
    }
   ],
   "source": [
    "%%time\n",
    "mlp_rs = MLPClassifier(max_iter=5000, random_state =1) #I fixed max_iter\n",
    "parameter_space = {\n",
    "    'hidden_layer_sizes': [(60,50,40),(10,)],\n",
    "    'activation': ['tanh', 'relu','identity','logistic'],\n",
    "    'solver': ['sgd', 'adam'],\n",
    "    'alpha': [0.0001, 0.05],\n",
    "    'learning_rate': ['constant','adaptive'],\n",
    "}\n",
    "from sklearn.model_selection import RandomizedSearchCV\n",
    "randomsearchAnn =  RandomizedSearchCV(mlp_rs, parameter_space,scoring=ftwo_scorer, n_jobs=-1, cv=5, random_state =123)\n",
    "randomsearchAnn.fit(X_train, y_train)\n",
    "print(ftwo_scorer, 'score: ', randomsearchAnn.best_score_)\n",
    "print('parameters: ', randomsearchAnn.best_params_)\n",
    "bestF2Ann = randomsearchAnn.best_estimator_"
   ]
  },
  {
   "cell_type": "code",
   "execution_count": 40,
   "id": "3f0d151a",
   "metadata": {},
   "outputs": [
    {
     "name": "stdout",
     "output_type": "stream",
     "text": [
      "CPU times: total: 0 ns\n",
      "Wall time: 7.86 ms\n"
     ]
    }
   ],
   "source": [
    "%%time\n",
    "%%capture --no-display\n",
    "y_pred = randomsearchAnn.predict(X_test)\n",
    "print(confusion_matrix(y_test, y_pred))\n",
    "print(\"***********************\")\n",
    "print(f\"{'Accuracy Score: ':18}{accuracy_score(y_test, y_pred):.3f}\")\n",
    "print(f\"{'Recall Score:':18}{recall_score(y_test, y_pred):.3f}\")\n",
    "print(f\"{'Precision Score: ':18}{precision_score(y_test, y_pred):.3f}\")\n",
    "print(\"***********************\")\n",
    "print(f\"{'F2 Score: ':18}{fbeta_score(y_test, y_pred, beta=2):.3f}\")\n",
    "print(\"***********************\")"
   ]
  },
  {
   "cell_type": "markdown",
   "id": "19ac388f",
   "metadata": {},
   "source": []
  },
  {
   "cell_type": "markdown",
   "id": "dd91d0df",
   "metadata": {},
   "source": [
    "Analysis/ Conclusion:-\n",
    "\n",
    "F2 Score of three models as follows\n",
    "1. KNN --> defalut F2 score = 0.975    and hyperparametered F2 score = 0.983\n",
    "2. XGBoost --> defalut F2 score =  0.989   and hyperparametered F2 score = 0.989\n",
    "3. Neural network --> defalut F2 score = 0.976   and hyperparametered F2 score = 0.989\n"
   ]
  },
  {
   "attachments": {
    "image.png": {
     "image/png": "[encoded data removed]"
    }
   },
   "cell_type": "markdown",
   "id": "bd662991",
   "metadata": {},
   "source": [
    "\tfit\tpred\n",
    "KNN\t0\t15.4 ms\n",
    "KNN Tuned\t3.96 s\t7.19 ms\n",
    "XGB\t55.6 ms\t3.89 ms\n",
    "XGB Tuned\t39 s\t40.3 ms\n",
    "ANN\t3.03 s\t23.8 ms\n",
    "ANN Tuned\t22.6 s\t7.86 ms\n",
    "![image.png](attachment:image.png)"
   ]
  },
  {
   "cell_type": "markdown",
   "id": "0424cb9c",
   "metadata": {},
   "source": [
    "By comparing all models of F2 scores, I got XGBoost and hyperparameter tuned neural network same 98.9%, by considering the computation cost we can say hyperparameter tuned neural network is best model of having F2 score 98.9%"
   ]
  }
 ],
 "metadata": {
  "kernelspec": {
   "display_name": "Python 3 (ipykernel)",
   "language": "python",
   "name": "python3"
  },
  "language_info": {
   "codemirror_mode": {
    "name": "ipython",
    "version": 3
   },
   "file_extension": ".py",
   "mimetype": "text/x-python",
   "name": "python",
   "nbconvert_exporter": "python",
   "pygments_lexer": "ipython3",
   "version": "3.9.12"
  }
 },
 "nbformat": 4,
 "nbformat_minor": 5
}
