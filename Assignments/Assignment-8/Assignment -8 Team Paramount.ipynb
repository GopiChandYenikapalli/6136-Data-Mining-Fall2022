{
 "cells": [
  {
   "cell_type": "markdown",
   "id": "75df8661",
   "metadata": {},
   "source": [
    "\n",
    "  # Assignment 8\n",
    "\n",
    "## Team Paramount\n",
    "\n",
    "  1. Akash Mishra \n",
    "  2. Gopi Chand Yenkipalli\n",
    "  3. Hiranmai Vallabhaneni\n",
    "  4. Rahul Bankey\n",
    "  5.Surya Teja Pidakala \n",
    "  6.Shanmukh Peela \n"
   ]
  },
  {
   "cell_type": "code",
   "execution_count": 1,
   "id": "a6e812e2",
   "metadata": {},
   "outputs": [
    {
     "name": "stderr",
     "output_type": "stream",
     "text": [
      "C:\\Users\\Gopi Chand\\anaconda3\\lib\\site-packages\\xgboost\\compat.py:36: FutureWarning: pandas.Int64Index is deprecated and will be removed from pandas in a future version. Use pandas.Index with the appropriate dtype instead.\n",
      "  from pandas import MultiIndex, Int64Index\n"
     ]
    }
   ],
   "source": [
    "import matplotlib.pyplot as plt\n",
    "import numpy as np\n",
    "import pandas as pd\n",
    "from sklearn.linear_model import LinearRegression\n",
    "from sklearn.preprocessing import PolynomialFeatures\n",
    "from sklearn.metrics import mean_squared_error, r2_score\n",
    "from sklearn.neighbors import KNeighborsRegressor\n",
    "from sklearn.neural_network import MLPRegressor\n",
    "from xgboost import XGBRegressor\n",
    "from sklearn.model_selection import train_test_split, cross_val_score, GridSearchCV"
   ]
  },
  {
   "cell_type": "code",
   "execution_count": null,
   "id": "98f57c87",
   "metadata": {},
   "outputs": [],
   "source": []
  },
  {
   "cell_type": "code",
   "execution_count": 2,
   "id": "d9979615",
   "metadata": {},
   "outputs": [
    {
     "data": {
      "text/html": [
       "<div>\n",
       "<style scoped>\n",
       "    .dataframe tbody tr th:only-of-type {\n",
       "        vertical-align: middle;\n",
       "    }\n",
       "\n",
       "    .dataframe tbody tr th {\n",
       "        vertical-align: top;\n",
       "    }\n",
       "\n",
       "    .dataframe thead th {\n",
       "        text-align: right;\n",
       "    }\n",
       "</style>\n",
       "<table border=\"1\" class=\"dataframe\">\n",
       "  <thead>\n",
       "    <tr style=\"text-align: right;\">\n",
       "      <th></th>\n",
       "      <th>input</th>\n",
       "      <th>target</th>\n",
       "    </tr>\n",
       "  </thead>\n",
       "  <tbody>\n",
       "    <tr>\n",
       "      <th>0</th>\n",
       "      <td>-7.30</td>\n",
       "      <td>2.451483e+05</td>\n",
       "    </tr>\n",
       "    <tr>\n",
       "      <th>1</th>\n",
       "      <td>-130.15</td>\n",
       "      <td>2.324013e+06</td>\n",
       "    </tr>\n",
       "    <tr>\n",
       "      <th>2</th>\n",
       "      <td>-106.01</td>\n",
       "      <td>9.672982e+05</td>\n",
       "    </tr>\n",
       "    <tr>\n",
       "      <th>3</th>\n",
       "      <td>-9.99</td>\n",
       "      <td>-3.043995e+05</td>\n",
       "    </tr>\n",
       "    <tr>\n",
       "      <th>4</th>\n",
       "      <td>-10.06</td>\n",
       "      <td>-1.013953e+06</td>\n",
       "    </tr>\n",
       "    <tr>\n",
       "      <th>...</th>\n",
       "      <td>...</td>\n",
       "      <td>...</td>\n",
       "    </tr>\n",
       "    <tr>\n",
       "      <th>1995</th>\n",
       "      <td>118.86</td>\n",
       "      <td>-3.455045e+05</td>\n",
       "    </tr>\n",
       "    <tr>\n",
       "      <th>1996</th>\n",
       "      <td>156.09</td>\n",
       "      <td>-9.674540e+05</td>\n",
       "    </tr>\n",
       "    <tr>\n",
       "      <th>1997</th>\n",
       "      <td>7.83</td>\n",
       "      <td>-4.231818e+05</td>\n",
       "    </tr>\n",
       "    <tr>\n",
       "      <th>1998</th>\n",
       "      <td>164.74</td>\n",
       "      <td>-2.286135e+05</td>\n",
       "    </tr>\n",
       "    <tr>\n",
       "      <th>1999</th>\n",
       "      <td>238.68</td>\n",
       "      <td>-8.707546e+05</td>\n",
       "    </tr>\n",
       "  </tbody>\n",
       "</table>\n",
       "<p>2000 rows × 2 columns</p>\n",
       "</div>"
      ],
      "text/plain": [
       "       input        target\n",
       "0      -7.30  2.451483e+05\n",
       "1    -130.15  2.324013e+06\n",
       "2    -106.01  9.672982e+05\n",
       "3      -9.99 -3.043995e+05\n",
       "4     -10.06 -1.013953e+06\n",
       "...      ...           ...\n",
       "1995  118.86 -3.455045e+05\n",
       "1996  156.09 -9.674540e+05\n",
       "1997    7.83 -4.231818e+05\n",
       "1998  164.74 -2.286135e+05\n",
       "1999  238.68 -8.707546e+05\n",
       "\n",
       "[2000 rows x 2 columns]"
      ]
     },
     "execution_count": 2,
     "metadata": {},
     "output_type": "execute_result"
    }
   ],
   "source": [
    "df = pd.read_csv(\"week09-a8-data.csv\")\n",
    "df"
   ]
  },
  {
   "cell_type": "code",
   "execution_count": 3,
   "id": "279caa0b",
   "metadata": {},
   "outputs": [
    {
     "data": {
      "text/plain": [
       "input     0\n",
       "target    0\n",
       "dtype: int64"
      ]
     },
     "execution_count": 3,
     "metadata": {},
     "output_type": "execute_result"
    }
   ],
   "source": [
    "df.isnull().sum()"
   ]
  },
  {
   "cell_type": "code",
   "execution_count": 4,
   "id": "ff8b2eaf",
   "metadata": {},
   "outputs": [
    {
     "data": {
      "text/plain": [
       "input     float64\n",
       "target    float64\n",
       "dtype: object"
      ]
     },
     "execution_count": 4,
     "metadata": {},
     "output_type": "execute_result"
    }
   ],
   "source": [
    "df.dtypes"
   ]
  },
  {
   "cell_type": "markdown",
   "id": "6f9c2549",
   "metadata": {},
   "source": [
    "Seperate out the input m(X) and the target (y)"
   ]
  },
  {
   "cell_type": "code",
   "execution_count": 5,
   "id": "d400bac4",
   "metadata": {},
   "outputs": [],
   "source": [
    "X=df.iloc[:,0:1].values\n",
    "y=df.iloc[:,1].values"
   ]
  },
  {
   "cell_type": "markdown",
   "id": "195407c1",
   "metadata": {},
   "source": [
    "## Explore the given data\n",
    "\n",
    "Often we will do much more than this, but at least look at things using a scatterplot"
   ]
  },
  {
   "cell_type": "code",
   "execution_count": 6,
   "id": "fbe6f0c9",
   "metadata": {},
   "outputs": [
    {
     "data": {
      "image/png": "[encoded data removed]",
      "text/plain": [
       "<Figure size 432x288 with 1 Axes>"
      ]
     },
     "metadata": {
      "needs_background": "light"
     },
     "output_type": "display_data"
    }
   ],
   "source": [
    "plt.scatter(X,y,color='red')\n",
    "plt.title('Scatterplot of given data')\n",
    "plt.xlabel('Input Values')\n",
    "plt.ylabel('Target Values')\n",
    "plt.show()"
   ]
  },
  {
   "cell_type": "markdown",
   "id": "0254e590",
   "metadata": {},
   "source": [
    "## spliting the data into training and test (70% training , 30% testing)"
   ]
  },
  {
   "cell_type": "code",
   "execution_count": 7,
   "id": "d0ffebb9",
   "metadata": {},
   "outputs": [],
   "source": [
    "# create the training set and the test set \n",
    "X_train, X_test, y_train, y_test = train_test_split(X,y, test_size=0.3, random_state=1)"
   ]
  },
  {
   "cell_type": "code",
   "execution_count": 8,
   "id": "b6d359c8",
   "metadata": {},
   "outputs": [],
   "source": [
    "from sklearn.preprocessing import StandardScaler\n",
    "scaler = StandardScaler()\n",
    "scaler.fit(X_train)\n",
    "X_train = scaler.transform(X_train)\n",
    "X_test = scaler.transform(X_test)"
   ]
  },
  {
   "cell_type": "markdown",
   "id": "902b93af",
   "metadata": {},
   "source": [
    "# KNN regression"
   ]
  },
  {
   "cell_type": "markdown",
   "id": "f2217f4c",
   "metadata": {},
   "source": [
    "here, first finding best k value using gridSearch"
   ]
  },
  {
   "cell_type": "code",
   "execution_count": 9,
   "id": "057c2a0a",
   "metadata": {},
   "outputs": [],
   "source": [
    "grid_params = { 'n_neighbors' : list(range(1,220,2)),\n",
    "               'weights' : ['distance'],\n",
    "               'metric' : ['minkowski','euclidean','manhattan']}"
   ]
  },
  {
   "cell_type": "code",
   "execution_count": 10,
   "id": "a531316d",
   "metadata": {},
   "outputs": [],
   "source": [
    "gs = GridSearchCV(KNeighborsRegressor(), grid_params, verbose = 1, cv=10, n_jobs = -1)"
   ]
  },
  {
   "cell_type": "code",
   "execution_count": 11,
   "id": "47caae52",
   "metadata": {},
   "outputs": [
    {
     "name": "stdout",
     "output_type": "stream",
     "text": [
      "Fitting 10 folds for each of 330 candidates, totalling 3300 fits\n"
     ]
    }
   ],
   "source": [
    "g_res = gs.fit(X_train, y_train)"
   ]
  },
  {
   "cell_type": "code",
   "execution_count": 12,
   "id": "ba205551",
   "metadata": {},
   "outputs": [
    {
     "data": {
      "text/plain": [
       "0.6023964762646074"
      ]
     },
     "execution_count": 12,
     "metadata": {},
     "output_type": "execute_result"
    }
   ],
   "source": [
    "g_res.best_score_"
   ]
  },
  {
   "cell_type": "code",
   "execution_count": 13,
   "id": "bff97e58",
   "metadata": {},
   "outputs": [
    {
     "data": {
      "text/plain": [
       "{'metric': 'minkowski', 'n_neighbors': 23, 'weights': 'distance'}"
      ]
     },
     "execution_count": 13,
     "metadata": {},
     "output_type": "execute_result"
    }
   ],
   "source": [
    "g_res.best_params_"
   ]
  },
  {
   "cell_type": "markdown",
   "id": "8183d2db",
   "metadata": {},
   "source": [
    "{'metric': 'minkowski', 'n_neighbors': 23, 'weights': 'distance'} which means at k = 23 we will get best scores or metrics"
   ]
  },
  {
   "cell_type": "code",
   "execution_count": 14,
   "id": "a3a2c13e",
   "metadata": {},
   "outputs": [],
   "source": [
    "knn = KNeighborsRegressor(n_neighbors =23, weights = 'distance',metric = 'minkowski')\n",
    "knn.fit(X_train, y_train)\n",
    "y_pred = knn.predict(X_test)"
   ]
  },
  {
   "cell_type": "code",
   "execution_count": 15,
   "id": "39d6d1c1",
   "metadata": {},
   "outputs": [
    {
     "data": {
      "image/png": "[encoded data removed]",
      "text/plain": [
       "<Figure size 432x288 with 1 Axes>"
      ]
     },
     "metadata": {
      "needs_background": "light"
     },
     "output_type": "display_data"
    }
   ],
   "source": [
    "X_grid=np.arange(min(X),max(X),0.1)\n",
    "X_grid=X_grid.reshape((len(X_grid),1))\n",
    "plt.scatter(X_train,y_train,color='red')\n",
    "plt.scatter(X_test,y_pred,color='blue')\n",
    "plt.title('KNN Regression Test')\n",
    "plt.xlabel('Input')\n",
    "plt.ylabel('Target')\n",
    "plt.show()"
   ]
  },
  {
   "cell_type": "code",
   "execution_count": 16,
   "id": "55785c36",
   "metadata": {},
   "outputs": [
    {
     "data": {
      "text/plain": [
       "580873.2530555852"
      ]
     },
     "execution_count": 16,
     "metadata": {},
     "output_type": "execute_result"
    }
   ],
   "source": [
    "mean_squared_error(y_test, y_pred)**(1/2)"
   ]
  },
  {
   "cell_type": "markdown",
   "id": "ccb298e8",
   "metadata": {},
   "source": [
    "at k =23 mean squared error is 580873.2530555852 which is better than at k =3 i.e 599771"
   ]
  },
  {
   "cell_type": "markdown",
   "id": "6a85f5f6",
   "metadata": {},
   "source": [
    "## XGBoost regression"
   ]
  },
  {
   "cell_type": "code",
   "execution_count": 17,
   "id": "5a19e690",
   "metadata": {},
   "outputs": [
    {
     "name": "stdout",
     "output_type": "stream",
     "text": [
      "[11:57:28] WARNING: C:\\Windows\\Temp\\abs_557yfx631l\\croots\\recipe\\xgboost-split_1659548953302\\work\\src\\learner.cc:576: \n",
      "Parameters: { \"randome_state\" } might not be used.\n",
      "\n",
      "  This could be a false alarm, with some parameters getting used by language bindings but\n",
      "  then being mistakenly passed down to XGBoost core, or some parameter actually being used\n",
      "  but getting flagged wrongly here. Please open an issue if you find any such cases.\n",
      "\n",
      "\n"
     ]
    }
   ],
   "source": [
    "xgb = XGBRegressor(randome_state=1)\n",
    "xgb.fit(X_train, y_train)\n",
    "y_pred = xgb.predict(X_test)"
   ]
  },
  {
   "cell_type": "markdown",
   "id": "b63523d0",
   "metadata": {},
   "source": [
    "Explore the results visually..."
   ]
  },
  {
   "cell_type": "code",
   "execution_count": 18,
   "id": "136b3a04",
   "metadata": {},
   "outputs": [
    {
     "data": {
      "image/png": "[encoded data removed]",
      "text/plain": [
       "<Figure size 432x288 with 1 Axes>"
      ]
     },
     "metadata": {
      "needs_background": "light"
     },
     "output_type": "display_data"
    }
   ],
   "source": [
    "X_grid=np.arange(min(X),max(X),0.1)\n",
    "X_grid=X_grid.reshape((len(X_grid),1))\n",
    "plt.scatter(X_train,y_train,color='red')\n",
    "plt.scatter(X_test,y_pred,color='blue')\n",
    "plt.title('XG Boost regression Test')\n",
    "plt.xlabel('Input')\n",
    "plt.ylabel('Target')\n",
    "plt.show()"
   ]
  },
  {
   "cell_type": "code",
   "execution_count": 19,
   "id": "b56c6602",
   "metadata": {},
   "outputs": [
    {
     "data": {
      "text/plain": [
       "549266.2409571942"
      ]
     },
     "execution_count": 19,
     "metadata": {},
     "output_type": "execute_result"
    }
   ],
   "source": [
    "mean_squared_error(y_test, y_pred)**(1/2)"
   ]
  },
  {
   "cell_type": "markdown",
   "id": "c2f10264",
   "metadata": {},
   "source": [
    "This is a signifianct improvement over the KNN model above, and does a better job at fitting the data."
   ]
  },
  {
   "cell_type": "markdown",
   "id": "adadd026",
   "metadata": {},
   "source": [
    "# Neural Networks for regression"
   ]
  },
  {
   "cell_type": "code",
   "execution_count": 20,
   "id": "5fc5639a",
   "metadata": {},
   "outputs": [],
   "source": [
    "ann = MLPRegressor(hidden_layer_sizes=(500,200,100,10), max_iter=1000)\n",
    "ann.fit(X_train, y_train)\n",
    "y_pred = ann.predict(X_test)"
   ]
  },
  {
   "cell_type": "markdown",
   "id": "fef58c34",
   "metadata": {},
   "source": [
    "Explore the results visually..."
   ]
  },
  {
   "cell_type": "code",
   "execution_count": 21,
   "id": "4dba0465",
   "metadata": {},
   "outputs": [
    {
     "data": {
      "image/png": "[encoded data removed]",
      "text/plain": [
       "<Figure size 432x288 with 1 Axes>"
      ]
     },
     "metadata": {
      "needs_background": "light"
     },
     "output_type": "display_data"
    }
   ],
   "source": [
    "X_grid=np.arange(min(X),max(X),0.1)\n",
    "X_grid=X_grid.reshape((len(X_grid),1))\n",
    "plt.scatter(X_train,y_train,color='red')\n",
    "plt.scatter(X_test,y_pred,color='blue')\n",
    "plt.title('Neural Network for regression Test')\n",
    "plt.xlabel('Input')\n",
    "plt.ylabel('Target')\n",
    "plt.show()"
   ]
  },
  {
   "cell_type": "code",
   "execution_count": 22,
   "id": "9a9a92cf",
   "metadata": {},
   "outputs": [
    {
     "data": {
      "text/plain": [
       "493330.6427915841"
      ]
     },
     "execution_count": 22,
     "metadata": {},
     "output_type": "execute_result"
    }
   ],
   "source": [
    "mean_squared_error(y_test, y_pred)**(1/2)"
   ]
  },
  {
   "cell_type": "markdown",
   "id": "b7631d60",
   "metadata": {},
   "source": [
    "here MLPRegression did much more significient job of data fitting over the KNN and XG Boost regression.\n",
    "KNN and XGBoost are indicating that they may be 'overfitting' the data and alot of distrubance and The MLPRegression has done an excellent job at identifing the underlying relationship.\n",
    "we can simple say that if we know or identify the data curve by seeing scatterplot we can apply direct linear regression or any polynomial regression otherwise we go with other techniques like KNN, XG Boost regression, Neural networks"
   ]
  },
  {
   "cell_type": "code",
   "execution_count": null,
   "id": "6a42aee8",
   "metadata": {},
   "outputs": [],
   "source": []
  }
 ],
 "metadata": {
  "kernelspec": {
   "display_name": "Python 3 (ipykernel)",
   "language": "python",
   "name": "python3"
  },
  "language_info": {
   "codemirror_mode": {
    "name": "ipython",
    "version": 3
   },
   "file_extension": ".py",
   "mimetype": "text/x-python",
   "name": "python",
   "nbconvert_exporter": "python",
   "pygments_lexer": "ipython3",
   "version": "3.9.12"
  }
 },
 "nbformat": 4,
 "nbformat_minor": 5
}
