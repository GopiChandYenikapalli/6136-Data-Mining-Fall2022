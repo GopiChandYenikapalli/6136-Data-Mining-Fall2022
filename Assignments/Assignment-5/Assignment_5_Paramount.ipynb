{
 "cells": [
  {
   "cell_type": "markdown",
   "id": "ea670795",
   "metadata": {},
   "source": [
    "# Cars Dataset Analysis\n",
    "\n"
   ]
  },
  {
   "cell_type": "markdown",
   "id": "a99cda50-30f8-4e38-8956-61e0288195b1",
   "metadata": {},
   "source": [
    "Team Members: Akash Mishra, Rahul Bankey, Gopi Chand Yenkipalli, Surya Teja Pidakala, Shanmukh Peela, Hiranmai Vallabhaneni "
   ]
  },
  {
   "cell_type": "markdown",
   "id": "0ff5c814",
   "metadata": {},
   "source": [
    "# Introduction and Overview\n",
    "\n",
    "In this project, we will be using a dataset containing cars information from Kaggle.\n",
    "\n",
    "Business Objective: This dataset is manually collected from observations. It helps us to build machine learning models to predict the quality of Car whether it is Cheap,Average or High.\n",
    "\n",
    "The dataset consists of 10 independent variables i.e  Year,Make,Model,Condition,Tranmission,Cylinders,Fuel,Odometer,Engine Power,Milage.\n",
    "\n",
    "Generally, the Price Range depends on these parameters. These parameters play a vital role in the predictive analysis of the price of the Car."
   ]
  },
  {
   "cell_type": "markdown",
   "id": "61ac494e",
   "metadata": {},
   "source": [
    "Usage:\n",
    "The target variable is the Price of the Car. \n",
    "\n",
    "Target:\n",
    "Cheap(0)\n",
    "Average(1)\n",
    "High(2)\n",
    "\n",
    "The Target variable gives the information about the Price range of car whether it is Cheap,Average or High."
   ]
  },
  {
   "cell_type": "markdown",
   "id": "6512a698",
   "metadata": {},
   "source": [
    "# Install and/or import necessary packages"
   ]
  },
  {
   "cell_type": "markdown",
   "id": "e91a36b2",
   "metadata": {},
   "source": [
    "Installation of the necessary packages and setting random seed"
   ]
  },
  {
   "cell_type": "code",
   "execution_count": 1,
   "id": "c2a17a2b",
   "metadata": {},
   "outputs": [
    {
     "name": "stderr",
     "output_type": "stream",
     "text": [
      "C:\\Users\\User\\anaconda3\\lib\\site-packages\\xgboost\\compat.py:36: FutureWarning: pandas.Int64Index is deprecated and will be removed from pandas in a future version. Use pandas.Index with the appropriate dtype instead.\n",
      "  from pandas import MultiIndex, Int64Index\n"
     ]
    }
   ],
   "source": [
    "import pandas as pd\n",
    "from sklearn.model_selection import train_test_split\n",
    "from sklearn.tree import DecisionTreeClassifier\n",
    "import numpy as np\n",
    "import matplotlib.pyplot as pltB\n",
    "from sklearn.metrics import confusion_matrix, accuracy_score, precision_score, recall_score ,f1_score,classification_report, make_scorer\n",
    "from sklearn.preprocessing import OrdinalEncoder\n",
    "from sklearn.preprocessing import LabelEncoder\n",
    "from sklearn.preprocessing import OneHotEncoder\n",
    "import matplotlib.pyplot as plt\n",
    "import seaborn as sns\n",
    "from sklearn.model_selection import train_test_split\n",
    "from sklearn.neighbors import KNeighborsClassifier\n",
    "from sklearn.tree import plot_tree\n",
    "import matplotlib.pyplot as plt\n",
    "from sklearn.tree import export_text\n",
    "from sklearn.utils import resample\n",
    "from sklearn import preprocessing\n",
    "from xgboost import XGBClassifier\n",
    "from sklearn.model_selection import train_test_split, cross_val_score, GridSearchCV\n",
    "from imblearn.over_sampling import RandomOverSampler\n",
    "from sklearn.ensemble import RandomForestClassifier, GradientBoostingClassifier, AdaBoostClassifier\n",
    "\n",
    "np.random.seed(1)"
   ]
  },
  {
   "cell_type": "markdown",
   "id": "501c6d2c",
   "metadata": {},
   "source": [
    "# Load, clean and prepare data for analysis"
   ]
  },
  {
   "cell_type": "markdown",
   "id": "b245c752",
   "metadata": {},
   "source": [
    "Read Cars file dataset"
   ]
  },
  {
   "cell_type": "code",
   "execution_count": 2,
   "id": "3bd6c524",
   "metadata": {},
   "outputs": [
    {
     "data": {
      "text/html": [
       "<div>\n",
       "<style scoped>\n",
       "    .dataframe tbody tr th:only-of-type {\n",
       "        vertical-align: middle;\n",
       "    }\n",
       "\n",
       "    .dataframe tbody tr th {\n",
       "        vertical-align: top;\n",
       "    }\n",
       "\n",
       "    .dataframe thead th {\n",
       "        text-align: right;\n",
       "    }\n",
       "</style>\n",
       "<table border=\"1\" class=\"dataframe\">\n",
       "  <thead>\n",
       "    <tr style=\"text-align: right;\">\n",
       "      <th></th>\n",
       "      <th>YEAR</th>\n",
       "      <th>MAKE</th>\n",
       "      <th>MODEL</th>\n",
       "      <th>CONDITION</th>\n",
       "      <th>TRANSMISSION</th>\n",
       "      <th>CYLINDERS</th>\n",
       "      <th>FUEL</th>\n",
       "      <th>ODOMETER</th>\n",
       "      <th>ENGINE POWER</th>\n",
       "      <th>MILAGE</th>\n",
       "      <th>Price</th>\n",
       "    </tr>\n",
       "  </thead>\n",
       "  <tbody>\n",
       "    <tr>\n",
       "      <th>0</th>\n",
       "      <td>2011</td>\n",
       "      <td>chevrolet</td>\n",
       "      <td>camaro</td>\n",
       "      <td>Excellent</td>\n",
       "      <td>Automatic</td>\n",
       "      <td>6</td>\n",
       "      <td>gas</td>\n",
       "      <td>12200</td>\n",
       "      <td>Avg CC</td>\n",
       "      <td>6</td>\n",
       "      <td>0</td>\n",
       "    </tr>\n",
       "    <tr>\n",
       "      <th>1</th>\n",
       "      <td>2012</td>\n",
       "      <td>chrysler</td>\n",
       "      <td>town &amp; country</td>\n",
       "      <td>Excellent</td>\n",
       "      <td>Manual</td>\n",
       "      <td>6</td>\n",
       "      <td>gas</td>\n",
       "      <td>111000</td>\n",
       "      <td>Low CC</td>\n",
       "      <td>11</td>\n",
       "      <td>0</td>\n",
       "    </tr>\n",
       "    <tr>\n",
       "      <th>2</th>\n",
       "      <td>2009</td>\n",
       "      <td>jeep</td>\n",
       "      <td>liberty</td>\n",
       "      <td>Excellent</td>\n",
       "      <td>Manual</td>\n",
       "      <td>6</td>\n",
       "      <td>gas</td>\n",
       "      <td>68650</td>\n",
       "      <td>Low CC</td>\n",
       "      <td>49</td>\n",
       "      <td>0</td>\n",
       "    </tr>\n",
       "    <tr>\n",
       "      <th>3</th>\n",
       "      <td>2011</td>\n",
       "      <td>buick</td>\n",
       "      <td>lacrosse</td>\n",
       "      <td>Excellent</td>\n",
       "      <td>Manual</td>\n",
       "      <td>6</td>\n",
       "      <td>gas</td>\n",
       "      <td>123562</td>\n",
       "      <td>High CC</td>\n",
       "      <td>40</td>\n",
       "      <td>0</td>\n",
       "    </tr>\n",
       "    <tr>\n",
       "      <th>4</th>\n",
       "      <td>2008</td>\n",
       "      <td>chevrolet</td>\n",
       "      <td>cobalt</td>\n",
       "      <td>Excellent</td>\n",
       "      <td>Automatic</td>\n",
       "      <td>4</td>\n",
       "      <td>gas</td>\n",
       "      <td>138001</td>\n",
       "      <td>Avg CC</td>\n",
       "      <td>33</td>\n",
       "      <td>0</td>\n",
       "    </tr>\n",
       "    <tr>\n",
       "      <th>5</th>\n",
       "      <td>2013</td>\n",
       "      <td>ford</td>\n",
       "      <td>econoline</td>\n",
       "      <td>Excellent</td>\n",
       "      <td>Manual</td>\n",
       "      <td>8</td>\n",
       "      <td>gas</td>\n",
       "      <td>69163</td>\n",
       "      <td>Avg CC</td>\n",
       "      <td>38</td>\n",
       "      <td>0</td>\n",
       "    </tr>\n",
       "    <tr>\n",
       "      <th>6</th>\n",
       "      <td>2009</td>\n",
       "      <td>kia</td>\n",
       "      <td>borrego</td>\n",
       "      <td>Excellent</td>\n",
       "      <td>Automatic</td>\n",
       "      <td>6</td>\n",
       "      <td>gas</td>\n",
       "      <td>117018</td>\n",
       "      <td>High CC</td>\n",
       "      <td>5</td>\n",
       "      <td>0</td>\n",
       "    </tr>\n",
       "    <tr>\n",
       "      <th>7</th>\n",
       "      <td>2008</td>\n",
       "      <td>ford</td>\n",
       "      <td>f250 xl diesel</td>\n",
       "      <td>Excellent</td>\n",
       "      <td>Manual</td>\n",
       "      <td>8</td>\n",
       "      <td>diesel</td>\n",
       "      <td>294950</td>\n",
       "      <td>Low CC</td>\n",
       "      <td>44</td>\n",
       "      <td>0</td>\n",
       "    </tr>\n",
       "    <tr>\n",
       "      <th>8</th>\n",
       "      <td>2015</td>\n",
       "      <td>ram</td>\n",
       "      <td>promaster city</td>\n",
       "      <td>Excellent</td>\n",
       "      <td>Automatic</td>\n",
       "      <td>4</td>\n",
       "      <td>gas</td>\n",
       "      <td>26313</td>\n",
       "      <td>Avg CC</td>\n",
       "      <td>11</td>\n",
       "      <td>0</td>\n",
       "    </tr>\n",
       "    <tr>\n",
       "      <th>9</th>\n",
       "      <td>2016</td>\n",
       "      <td>chevrolet</td>\n",
       "      <td>silverado 1500</td>\n",
       "      <td>Excellent</td>\n",
       "      <td>Automatic</td>\n",
       "      <td>8</td>\n",
       "      <td>gas</td>\n",
       "      <td>12458</td>\n",
       "      <td>Avg CC</td>\n",
       "      <td>25</td>\n",
       "      <td>2</td>\n",
       "    </tr>\n",
       "  </tbody>\n",
       "</table>\n",
       "</div>"
      ],
      "text/plain": [
       "   YEAR       MAKE           MODEL  CONDITION TRANSMISSION  CYLINDERS    FUEL  \\\n",
       "0  2011  chevrolet          camaro  Excellent    Automatic          6     gas   \n",
       "1  2012   chrysler  town & country  Excellent       Manual          6     gas   \n",
       "2  2009       jeep         liberty  Excellent       Manual          6     gas   \n",
       "3  2011      buick        lacrosse  Excellent       Manual          6     gas   \n",
       "4  2008  chevrolet          cobalt  Excellent    Automatic          4     gas   \n",
       "5  2013       ford       econoline  Excellent       Manual          8     gas   \n",
       "6  2009        kia         borrego  Excellent    Automatic          6     gas   \n",
       "7  2008       ford  f250 xl diesel  Excellent       Manual          8  diesel   \n",
       "8  2015        ram  promaster city  Excellent    Automatic          4     gas   \n",
       "9  2016  chevrolet  silverado 1500  Excellent    Automatic          8     gas   \n",
       "\n",
       "   ODOMETER ENGINE POWER  MILAGE  Price  \n",
       "0     12200       Avg CC       6      0  \n",
       "1    111000       Low CC      11      0  \n",
       "2     68650       Low CC      49      0  \n",
       "3    123562      High CC      40      0  \n",
       "4    138001       Avg CC      33      0  \n",
       "5     69163       Avg CC      38      0  \n",
       "6    117018      High CC       5      0  \n",
       "7    294950       Low CC      44      0  \n",
       "8     26313       Avg CC      11      0  \n",
       "9     12458       Avg CC      25      2  "
      ]
     },
     "execution_count": 2,
     "metadata": {},
     "output_type": "execute_result"
    }
   ],
   "source": [
    "cars_df = pd.read_csv('Cars Dataset.csv')\n",
    "cars_df.head(10)"
   ]
  },
  {
   "cell_type": "markdown",
   "id": "d813d462",
   "metadata": {},
   "source": [
    "Exploration of the columns to check the columns in them"
   ]
  },
  {
   "cell_type": "code",
   "execution_count": 3,
   "id": "a1a098b0",
   "metadata": {},
   "outputs": [
    {
     "data": {
      "text/plain": [
       "Index(['YEAR', 'MAKE', 'MODEL', 'CONDITION', 'TRANSMISSION', 'CYLINDERS',\n",
       "       'FUEL', 'ODOMETER', 'ENGINE POWER', 'MILAGE', 'Price'],\n",
       "      dtype='object')"
      ]
     },
     "execution_count": 3,
     "metadata": {},
     "output_type": "execute_result"
    }
   ],
   "source": [
    "cars_df.columns"
   ]
  },
  {
   "cell_type": "markdown",
   "id": "c05b5ac9",
   "metadata": {},
   "source": [
    "Check different values in the Target variable"
   ]
  },
  {
   "cell_type": "code",
   "execution_count": 4,
   "id": "f13b883a-35f5-4564-bc2f-25acc46b42b0",
   "metadata": {},
   "outputs": [
    {
     "data": {
      "text/plain": [
       "0    7016\n",
       "1    4763\n",
       "2     297\n",
       "Name: Price, dtype: int64"
      ]
     },
     "execution_count": 4,
     "metadata": {},
     "output_type": "execute_result"
    }
   ],
   "source": [
    "cars_df.Price.value_counts()"
   ]
  },
  {
   "cell_type": "markdown",
   "id": "2f924a43",
   "metadata": {},
   "source": [
    " Cleaning and Transforming the data"
   ]
  },
  {
   "cell_type": "code",
   "execution_count": 5,
   "id": "5311e141",
   "metadata": {},
   "outputs": [],
   "source": [
    "cars_df.columns = [s.strip().upper().replace(' ', '_') for s in cars_df.columns]"
   ]
  },
  {
   "cell_type": "code",
   "execution_count": 6,
   "id": "3d4ceadd",
   "metadata": {},
   "outputs": [
    {
     "data": {
      "text/plain": [
       "Index(['YEAR', 'MAKE', 'MODEL', 'CONDITION', 'TRANSMISSION', 'CYLINDERS',\n",
       "       'FUEL', 'ODOMETER', 'ENGINE_POWER', 'MILAGE', 'PRICE'],\n",
       "      dtype='object')"
      ]
     },
     "execution_count": 6,
     "metadata": {},
     "output_type": "execute_result"
    }
   ],
   "source": [
    "cars_df.columns"
   ]
  },
  {
   "cell_type": "code",
   "execution_count": 7,
   "id": "1a7fb537",
   "metadata": {},
   "outputs": [
    {
     "data": {
      "text/plain": [
       "<bound method DataFrame.info of        YEAR       MAKE           MODEL  CONDITION TRANSMISSION  CYLINDERS  \\\n",
       "0      2011  chevrolet          camaro  Excellent    Automatic          6   \n",
       "1      2012   chrysler  town & country  Excellent       Manual          6   \n",
       "2      2009       jeep         liberty  Excellent       Manual          6   \n",
       "3      2011      buick        lacrosse  Excellent       Manual          6   \n",
       "4      2008  chevrolet          cobalt  Excellent    Automatic          4   \n",
       "...     ...        ...             ...        ...          ...        ...   \n",
       "12071  2015  chevrolet       silverado  Excellent       Manual          8   \n",
       "12072  2018     toyota          tacoma  Excellent    Automatic          6   \n",
       "12073  2017       ford        f-250 sd  Excellent       Manual          8   \n",
       "12074  2017        ram   1500 crew cab  Excellent       Manual          8   \n",
       "12075  2015        gmc          sierra  Excellent       Manual          8   \n",
       "\n",
       "         FUEL  ODOMETER ENGINE_POWER  MILAGE  PRICE  \n",
       "0         gas     12200       Avg CC       6      0  \n",
       "1         gas    111000       Low CC      11      0  \n",
       "2         gas     68650       Low CC      49      0  \n",
       "3         gas    123562      High CC      40      0  \n",
       "4         gas    138001       Avg CC      33      0  \n",
       "...       ...       ...          ...     ...    ...  \n",
       "12071  diesel    170781       Low CC      48      1  \n",
       "12072     gas      9561       Low CC      37      1  \n",
       "12073  diesel    125780       Low CC      33      1  \n",
       "12074     gas     21141       Low CC      37      1  \n",
       "12075     gas     54110       Low CC       8      1  \n",
       "\n",
       "[12076 rows x 11 columns]>"
      ]
     },
     "execution_count": 7,
     "metadata": {},
     "output_type": "execute_result"
    }
   ],
   "source": [
    "cars_df.info"
   ]
  },
  {
   "cell_type": "markdown",
   "id": "c73d90be",
   "metadata": {},
   "source": [
    "Checking the null values in the columns"
   ]
  },
  {
   "cell_type": "code",
   "execution_count": 8,
   "id": "01f8a81d-73b6-4e4f-aaf8-0180c6b24c96",
   "metadata": {},
   "outputs": [
    {
     "data": {
      "text/plain": [
       "YEAR            0\n",
       "MAKE            0\n",
       "MODEL           0\n",
       "CONDITION       0\n",
       "TRANSMISSION    0\n",
       "CYLINDERS       0\n",
       "FUEL            0\n",
       "ODOMETER        0\n",
       "ENGINE_POWER    0\n",
       "MILAGE          0\n",
       "PRICE           0\n",
       "dtype: int64"
      ]
     },
     "execution_count": 8,
     "metadata": {},
     "output_type": "execute_result"
    }
   ],
   "source": [
    "cars_df.isna().sum()"
   ]
  },
  {
   "cell_type": "markdown",
   "id": "b2fca725",
   "metadata": {},
   "source": [
    "Checking the data types of the columns"
   ]
  },
  {
   "cell_type": "code",
   "execution_count": 9,
   "id": "cc245f0d-a764-4847-9379-09425e8fa424",
   "metadata": {},
   "outputs": [
    {
     "data": {
      "text/plain": [
       "YEAR             int64\n",
       "MAKE            object\n",
       "MODEL           object\n",
       "CONDITION       object\n",
       "TRANSMISSION    object\n",
       "CYLINDERS        int64\n",
       "FUEL            object\n",
       "ODOMETER         int64\n",
       "ENGINE_POWER    object\n",
       "MILAGE           int64\n",
       "PRICE            int64\n",
       "dtype: object"
      ]
     },
     "execution_count": 9,
     "metadata": {},
     "output_type": "execute_result"
    }
   ],
   "source": [
    "cars_df.dtypes"
   ]
  },
  {
   "cell_type": "markdown",
   "id": "947ba787",
   "metadata": {},
   "source": [
    "Changing the object columns to categorical"
   ]
  },
  {
   "cell_type": "code",
   "execution_count": 10,
   "id": "f23c9523-2d39-447b-bcff-90310c191207",
   "metadata": {},
   "outputs": [],
   "source": [
    "cars_df['PRICE']=cars_df['PRICE'].astype('category')\n",
    "cars_df['MAKE']=cars_df['MAKE'].astype('category')\n",
    "cars_df['MODEL']=cars_df['MODEL'].astype('category')\n",
    "cars_df['CONDITION']=cars_df['CONDITION'].astype('category')\n",
    "cars_df['TRANSMISSION']=cars_df['TRANSMISSION'].astype('category')\n",
    "cars_df['FUEL']=cars_df['FUEL'].astype('category')\n",
    "cars_df['ENGINE_POWER']=cars_df['ENGINE_POWER'].astype('category')"
   ]
  },
  {
   "cell_type": "code",
   "execution_count": 11,
   "id": "b977879a-7197-4ae8-87e8-7d29bb36d189",
   "metadata": {},
   "outputs": [
    {
     "data": {
      "text/plain": [
       "YEAR               int64\n",
       "MAKE            category\n",
       "MODEL           category\n",
       "CONDITION       category\n",
       "TRANSMISSION    category\n",
       "CYLINDERS          int64\n",
       "FUEL            category\n",
       "ODOMETER           int64\n",
       "ENGINE_POWER    category\n",
       "MILAGE             int64\n",
       "PRICE           category\n",
       "dtype: object"
      ]
     },
     "execution_count": 11,
     "metadata": {},
     "output_type": "execute_result"
    }
   ],
   "source": [
    "cars_df.dtypes"
   ]
  },
  {
   "cell_type": "markdown",
   "id": "9a5d8d01",
   "metadata": {},
   "source": [
    "seprating the target values from the other variables"
   ]
  },
  {
   "cell_type": "code",
   "execution_count": 12,
   "id": "b1e7cecb-838d-4c72-a811-b1de6adf0e7a",
   "metadata": {},
   "outputs": [
    {
     "data": {
      "text/html": [
       "<div>\n",
       "<style scoped>\n",
       "    .dataframe tbody tr th:only-of-type {\n",
       "        vertical-align: middle;\n",
       "    }\n",
       "\n",
       "    .dataframe tbody tr th {\n",
       "        vertical-align: top;\n",
       "    }\n",
       "\n",
       "    .dataframe thead th {\n",
       "        text-align: right;\n",
       "    }\n",
       "</style>\n",
       "<table border=\"1\" class=\"dataframe\">\n",
       "  <thead>\n",
       "    <tr style=\"text-align: right;\">\n",
       "      <th></th>\n",
       "      <th>YEAR</th>\n",
       "      <th>MAKE</th>\n",
       "      <th>MODEL</th>\n",
       "      <th>CONDITION</th>\n",
       "      <th>TRANSMISSION</th>\n",
       "      <th>CYLINDERS</th>\n",
       "      <th>FUEL</th>\n",
       "      <th>ODOMETER</th>\n",
       "      <th>ENGINE_POWER</th>\n",
       "      <th>MILAGE</th>\n",
       "      <th>PRICE</th>\n",
       "    </tr>\n",
       "  </thead>\n",
       "  <tbody>\n",
       "    <tr>\n",
       "      <th>0</th>\n",
       "      <td>2011</td>\n",
       "      <td>chevrolet</td>\n",
       "      <td>camaro</td>\n",
       "      <td>Excellent</td>\n",
       "      <td>Automatic</td>\n",
       "      <td>6</td>\n",
       "      <td>gas</td>\n",
       "      <td>12200</td>\n",
       "      <td>Avg CC</td>\n",
       "      <td>6</td>\n",
       "      <td>0</td>\n",
       "    </tr>\n",
       "    <tr>\n",
       "      <th>1</th>\n",
       "      <td>2012</td>\n",
       "      <td>chrysler</td>\n",
       "      <td>town &amp; country</td>\n",
       "      <td>Excellent</td>\n",
       "      <td>Manual</td>\n",
       "      <td>6</td>\n",
       "      <td>gas</td>\n",
       "      <td>111000</td>\n",
       "      <td>Low CC</td>\n",
       "      <td>11</td>\n",
       "      <td>0</td>\n",
       "    </tr>\n",
       "    <tr>\n",
       "      <th>2</th>\n",
       "      <td>2009</td>\n",
       "      <td>jeep</td>\n",
       "      <td>liberty</td>\n",
       "      <td>Excellent</td>\n",
       "      <td>Manual</td>\n",
       "      <td>6</td>\n",
       "      <td>gas</td>\n",
       "      <td>68650</td>\n",
       "      <td>Low CC</td>\n",
       "      <td>49</td>\n",
       "      <td>0</td>\n",
       "    </tr>\n",
       "    <tr>\n",
       "      <th>3</th>\n",
       "      <td>2011</td>\n",
       "      <td>buick</td>\n",
       "      <td>lacrosse</td>\n",
       "      <td>Excellent</td>\n",
       "      <td>Manual</td>\n",
       "      <td>6</td>\n",
       "      <td>gas</td>\n",
       "      <td>123562</td>\n",
       "      <td>High CC</td>\n",
       "      <td>40</td>\n",
       "      <td>0</td>\n",
       "    </tr>\n",
       "    <tr>\n",
       "      <th>4</th>\n",
       "      <td>2008</td>\n",
       "      <td>chevrolet</td>\n",
       "      <td>cobalt</td>\n",
       "      <td>Excellent</td>\n",
       "      <td>Automatic</td>\n",
       "      <td>4</td>\n",
       "      <td>gas</td>\n",
       "      <td>138001</td>\n",
       "      <td>Avg CC</td>\n",
       "      <td>33</td>\n",
       "      <td>0</td>\n",
       "    </tr>\n",
       "  </tbody>\n",
       "</table>\n",
       "</div>"
      ],
      "text/plain": [
       "   YEAR       MAKE           MODEL  CONDITION TRANSMISSION  CYLINDERS FUEL  \\\n",
       "0  2011  chevrolet          camaro  Excellent    Automatic          6  gas   \n",
       "1  2012   chrysler  town & country  Excellent       Manual          6  gas   \n",
       "2  2009       jeep         liberty  Excellent       Manual          6  gas   \n",
       "3  2011      buick        lacrosse  Excellent       Manual          6  gas   \n",
       "4  2008  chevrolet          cobalt  Excellent    Automatic          4  gas   \n",
       "\n",
       "   ODOMETER ENGINE_POWER  MILAGE PRICE  \n",
       "0     12200       Avg CC       6     0  \n",
       "1    111000       Low CC      11     0  \n",
       "2     68650       Low CC      49     0  \n",
       "3    123562      High CC      40     0  \n",
       "4    138001       Avg CC      33     0  "
      ]
     },
     "execution_count": 12,
     "metadata": {},
     "output_type": "execute_result"
    }
   ],
   "source": [
    "target = 'PRICE'\n",
    "predictors = list(cars_df.columns)\n",
    "predictors.remove(target)\n",
    "cars_df.head()"
   ]
  },
  {
   "cell_type": "code",
   "execution_count": 13,
   "id": "5004ecae-391a-4802-973b-9339338b07cf",
   "metadata": {},
   "outputs": [
    {
     "name": "stdout",
     "output_type": "stream",
     "text": [
      "['YEAR', 'MAKE', 'MODEL', 'CONDITION', 'TRANSMISSION', 'CYLINDERS', 'FUEL', 'ODOMETER', 'ENGINE_POWER', 'MILAGE']\n"
     ]
    }
   ],
   "source": [
    "print(predictors)"
   ]
  },
  {
   "cell_type": "code",
   "execution_count": 14,
   "id": "c034e006-46c3-450e-9f39-ee84494fa609",
   "metadata": {},
   "outputs": [
    {
     "name": "stdout",
     "output_type": "stream",
     "text": [
      "PRICE\n"
     ]
    }
   ],
   "source": [
    "print(target)"
   ]
  },
  {
   "cell_type": "markdown",
   "id": "9624c44b",
   "metadata": {},
   "source": [
    "Fit and Transformation of the variables"
   ]
  },
  {
   "cell_type": "code",
   "execution_count": 15,
   "id": "56f80a2e-5f6d-417f-a6f2-356a5c0c54de",
   "metadata": {},
   "outputs": [
    {
     "data": {
      "text/html": [
       "<div>\n",
       "<style scoped>\n",
       "    .dataframe tbody tr th:only-of-type {\n",
       "        vertical-align: middle;\n",
       "    }\n",
       "\n",
       "    .dataframe tbody tr th {\n",
       "        vertical-align: top;\n",
       "    }\n",
       "\n",
       "    .dataframe thead th {\n",
       "        text-align: right;\n",
       "    }\n",
       "</style>\n",
       "<table border=\"1\" class=\"dataframe\">\n",
       "  <thead>\n",
       "    <tr style=\"text-align: right;\">\n",
       "      <th></th>\n",
       "      <th>YEAR</th>\n",
       "      <th>MAKE</th>\n",
       "      <th>MODEL</th>\n",
       "      <th>CONDITION</th>\n",
       "      <th>TRANSMISSION</th>\n",
       "      <th>CYLINDERS</th>\n",
       "      <th>FUEL</th>\n",
       "      <th>ODOMETER</th>\n",
       "      <th>ENGINE_POWER</th>\n",
       "      <th>MILAGE</th>\n",
       "      <th>PRICE</th>\n",
       "    </tr>\n",
       "  </thead>\n",
       "  <tbody>\n",
       "    <tr>\n",
       "      <th>0</th>\n",
       "      <td>2011</td>\n",
       "      <td>7.0</td>\n",
       "      <td>667.0</td>\n",
       "      <td>0.0</td>\n",
       "      <td>0.0</td>\n",
       "      <td>6</td>\n",
       "      <td>1.0</td>\n",
       "      <td>12200</td>\n",
       "      <td>0.0</td>\n",
       "      <td>6</td>\n",
       "      <td>0</td>\n",
       "    </tr>\n",
       "    <tr>\n",
       "      <th>1</th>\n",
       "      <td>2012</td>\n",
       "      <td>8.0</td>\n",
       "      <td>2777.0</td>\n",
       "      <td>0.0</td>\n",
       "      <td>1.0</td>\n",
       "      <td>6</td>\n",
       "      <td>1.0</td>\n",
       "      <td>111000</td>\n",
       "      <td>2.0</td>\n",
       "      <td>11</td>\n",
       "      <td>0</td>\n",
       "    </tr>\n",
       "    <tr>\n",
       "      <th>2</th>\n",
       "      <td>2009</td>\n",
       "      <td>21.0</td>\n",
       "      <td>1825.0</td>\n",
       "      <td>0.0</td>\n",
       "      <td>1.0</td>\n",
       "      <td>6</td>\n",
       "      <td>1.0</td>\n",
       "      <td>68650</td>\n",
       "      <td>2.0</td>\n",
       "      <td>49</td>\n",
       "      <td>0</td>\n",
       "    </tr>\n",
       "    <tr>\n",
       "      <th>3</th>\n",
       "      <td>2011</td>\n",
       "      <td>5.0</td>\n",
       "      <td>1786.0</td>\n",
       "      <td>0.0</td>\n",
       "      <td>1.0</td>\n",
       "      <td>6</td>\n",
       "      <td>1.0</td>\n",
       "      <td>123562</td>\n",
       "      <td>1.0</td>\n",
       "      <td>40</td>\n",
       "      <td>0</td>\n",
       "    </tr>\n",
       "    <tr>\n",
       "      <th>4</th>\n",
       "      <td>2008</td>\n",
       "      <td>7.0</td>\n",
       "      <td>801.0</td>\n",
       "      <td>0.0</td>\n",
       "      <td>0.0</td>\n",
       "      <td>4</td>\n",
       "      <td>1.0</td>\n",
       "      <td>138001</td>\n",
       "      <td>0.0</td>\n",
       "      <td>33</td>\n",
       "      <td>0</td>\n",
       "    </tr>\n",
       "    <tr>\n",
       "      <th>5</th>\n",
       "      <td>2013</td>\n",
       "      <td>13.0</td>\n",
       "      <td>1054.0</td>\n",
       "      <td>0.0</td>\n",
       "      <td>1.0</td>\n",
       "      <td>8</td>\n",
       "      <td>1.0</td>\n",
       "      <td>69163</td>\n",
       "      <td>0.0</td>\n",
       "      <td>38</td>\n",
       "      <td>0</td>\n",
       "    </tr>\n",
       "    <tr>\n",
       "      <th>6</th>\n",
       "      <td>2009</td>\n",
       "      <td>22.0</td>\n",
       "      <td>606.0</td>\n",
       "      <td>0.0</td>\n",
       "      <td>0.0</td>\n",
       "      <td>6</td>\n",
       "      <td>1.0</td>\n",
       "      <td>117018</td>\n",
       "      <td>1.0</td>\n",
       "      <td>5</td>\n",
       "      <td>0</td>\n",
       "    </tr>\n",
       "    <tr>\n",
       "      <th>7</th>\n",
       "      <td>2008</td>\n",
       "      <td>13.0</td>\n",
       "      <td>1432.0</td>\n",
       "      <td>0.0</td>\n",
       "      <td>1.0</td>\n",
       "      <td>8</td>\n",
       "      <td>0.0</td>\n",
       "      <td>294950</td>\n",
       "      <td>2.0</td>\n",
       "      <td>44</td>\n",
       "      <td>0</td>\n",
       "    </tr>\n",
       "    <tr>\n",
       "      <th>8</th>\n",
       "      <td>2015</td>\n",
       "      <td>32.0</td>\n",
       "      <td>2124.0</td>\n",
       "      <td>0.0</td>\n",
       "      <td>0.0</td>\n",
       "      <td>4</td>\n",
       "      <td>1.0</td>\n",
       "      <td>26313</td>\n",
       "      <td>0.0</td>\n",
       "      <td>11</td>\n",
       "      <td>0</td>\n",
       "    </tr>\n",
       "    <tr>\n",
       "      <th>9</th>\n",
       "      <td>2016</td>\n",
       "      <td>7.0</td>\n",
       "      <td>2468.0</td>\n",
       "      <td>0.0</td>\n",
       "      <td>0.0</td>\n",
       "      <td>8</td>\n",
       "      <td>1.0</td>\n",
       "      <td>12458</td>\n",
       "      <td>0.0</td>\n",
       "      <td>25</td>\n",
       "      <td>2</td>\n",
       "    </tr>\n",
       "    <tr>\n",
       "      <th>10</th>\n",
       "      <td>2006</td>\n",
       "      <td>13.0</td>\n",
       "      <td>1429.0</td>\n",
       "      <td>0.0</td>\n",
       "      <td>0.0</td>\n",
       "      <td>8</td>\n",
       "      <td>0.0</td>\n",
       "      <td>335044</td>\n",
       "      <td>2.0</td>\n",
       "      <td>6</td>\n",
       "      <td>0</td>\n",
       "    </tr>\n",
       "    <tr>\n",
       "      <th>11</th>\n",
       "      <td>2002</td>\n",
       "      <td>23.0</td>\n",
       "      <td>1122.0</td>\n",
       "      <td>0.0</td>\n",
       "      <td>0.0</td>\n",
       "      <td>6</td>\n",
       "      <td>1.0</td>\n",
       "      <td>152000</td>\n",
       "      <td>0.0</td>\n",
       "      <td>18</td>\n",
       "      <td>0</td>\n",
       "    </tr>\n",
       "    <tr>\n",
       "      <th>12</th>\n",
       "      <td>2014</td>\n",
       "      <td>7.0</td>\n",
       "      <td>2468.0</td>\n",
       "      <td>0.0</td>\n",
       "      <td>1.0</td>\n",
       "      <td>8</td>\n",
       "      <td>1.0</td>\n",
       "      <td>48304</td>\n",
       "      <td>1.0</td>\n",
       "      <td>43</td>\n",
       "      <td>0</td>\n",
       "    </tr>\n",
       "    <tr>\n",
       "      <th>13</th>\n",
       "      <td>2016</td>\n",
       "      <td>36.0</td>\n",
       "      <td>2867.0</td>\n",
       "      <td>0.0</td>\n",
       "      <td>1.0</td>\n",
       "      <td>8</td>\n",
       "      <td>1.0</td>\n",
       "      <td>48879</td>\n",
       "      <td>2.0</td>\n",
       "      <td>8</td>\n",
       "      <td>0</td>\n",
       "    </tr>\n",
       "    <tr>\n",
       "      <th>14</th>\n",
       "      <td>2015</td>\n",
       "      <td>21.0</td>\n",
       "      <td>2964.0</td>\n",
       "      <td>0.0</td>\n",
       "      <td>1.0</td>\n",
       "      <td>6</td>\n",
       "      <td>1.0</td>\n",
       "      <td>49040</td>\n",
       "      <td>0.0</td>\n",
       "      <td>14</td>\n",
       "      <td>1</td>\n",
       "    </tr>\n",
       "    <tr>\n",
       "      <th>15</th>\n",
       "      <td>1999</td>\n",
       "      <td>36.0</td>\n",
       "      <td>686.0</td>\n",
       "      <td>0.0</td>\n",
       "      <td>1.0</td>\n",
       "      <td>6</td>\n",
       "      <td>1.0</td>\n",
       "      <td>164780</td>\n",
       "      <td>0.0</td>\n",
       "      <td>17</td>\n",
       "      <td>0</td>\n",
       "    </tr>\n",
       "    <tr>\n",
       "      <th>16</th>\n",
       "      <td>2002</td>\n",
       "      <td>31.0</td>\n",
       "      <td>2803.0</td>\n",
       "      <td>0.0</td>\n",
       "      <td>0.0</td>\n",
       "      <td>8</td>\n",
       "      <td>1.0</td>\n",
       "      <td>63400</td>\n",
       "      <td>1.0</td>\n",
       "      <td>12</td>\n",
       "      <td>1</td>\n",
       "    </tr>\n",
       "    <tr>\n",
       "      <th>17</th>\n",
       "      <td>2012</td>\n",
       "      <td>37.0</td>\n",
       "      <td>1754.0</td>\n",
       "      <td>0.0</td>\n",
       "      <td>0.0</td>\n",
       "      <td>4</td>\n",
       "      <td>0.0</td>\n",
       "      <td>82000</td>\n",
       "      <td>2.0</td>\n",
       "      <td>7</td>\n",
       "      <td>0</td>\n",
       "    </tr>\n",
       "    <tr>\n",
       "      <th>18</th>\n",
       "      <td>2002</td>\n",
       "      <td>30.0</td>\n",
       "      <td>1536.0</td>\n",
       "      <td>0.0</td>\n",
       "      <td>0.0</td>\n",
       "      <td>6</td>\n",
       "      <td>1.0</td>\n",
       "      <td>117000</td>\n",
       "      <td>0.0</td>\n",
       "      <td>16</td>\n",
       "      <td>0</td>\n",
       "    </tr>\n",
       "    <tr>\n",
       "      <th>19</th>\n",
       "      <td>2007</td>\n",
       "      <td>23.0</td>\n",
       "      <td>2264.0</td>\n",
       "      <td>0.0</td>\n",
       "      <td>0.0</td>\n",
       "      <td>6</td>\n",
       "      <td>1.0</td>\n",
       "      <td>135982</td>\n",
       "      <td>2.0</td>\n",
       "      <td>15</td>\n",
       "      <td>0</td>\n",
       "    </tr>\n",
       "  </tbody>\n",
       "</table>\n",
       "</div>"
      ],
      "text/plain": [
       "    YEAR  MAKE   MODEL  CONDITION  TRANSMISSION  CYLINDERS  FUEL  ODOMETER  \\\n",
       "0   2011   7.0   667.0        0.0           0.0          6   1.0     12200   \n",
       "1   2012   8.0  2777.0        0.0           1.0          6   1.0    111000   \n",
       "2   2009  21.0  1825.0        0.0           1.0          6   1.0     68650   \n",
       "3   2011   5.0  1786.0        0.0           1.0          6   1.0    123562   \n",
       "4   2008   7.0   801.0        0.0           0.0          4   1.0    138001   \n",
       "5   2013  13.0  1054.0        0.0           1.0          8   1.0     69163   \n",
       "6   2009  22.0   606.0        0.0           0.0          6   1.0    117018   \n",
       "7   2008  13.0  1432.0        0.0           1.0          8   0.0    294950   \n",
       "8   2015  32.0  2124.0        0.0           0.0          4   1.0     26313   \n",
       "9   2016   7.0  2468.0        0.0           0.0          8   1.0     12458   \n",
       "10  2006  13.0  1429.0        0.0           0.0          8   0.0    335044   \n",
       "11  2002  23.0  1122.0        0.0           0.0          6   1.0    152000   \n",
       "12  2014   7.0  2468.0        0.0           1.0          8   1.0     48304   \n",
       "13  2016  36.0  2867.0        0.0           1.0          8   1.0     48879   \n",
       "14  2015  21.0  2964.0        0.0           1.0          6   1.0     49040   \n",
       "15  1999  36.0   686.0        0.0           1.0          6   1.0    164780   \n",
       "16  2002  31.0  2803.0        0.0           0.0          8   1.0     63400   \n",
       "17  2012  37.0  1754.0        0.0           0.0          4   0.0     82000   \n",
       "18  2002  30.0  1536.0        0.0           0.0          6   1.0    117000   \n",
       "19  2007  23.0  2264.0        0.0           0.0          6   1.0    135982   \n",
       "\n",
       "    ENGINE_POWER  MILAGE PRICE  \n",
       "0            0.0       6     0  \n",
       "1            2.0      11     0  \n",
       "2            2.0      49     0  \n",
       "3            1.0      40     0  \n",
       "4            0.0      33     0  \n",
       "5            0.0      38     0  \n",
       "6            1.0       5     0  \n",
       "7            2.0      44     0  \n",
       "8            0.0      11     0  \n",
       "9            0.0      25     2  \n",
       "10           2.0       6     0  \n",
       "11           0.0      18     0  \n",
       "12           1.0      43     0  \n",
       "13           2.0       8     0  \n",
       "14           0.0      14     1  \n",
       "15           0.0      17     0  \n",
       "16           1.0      12     1  \n",
       "17           2.0       7     0  \n",
       "18           0.0      16     0  \n",
       "19           2.0      15     0  "
      ]
     },
     "execution_count": 15,
     "metadata": {},
     "output_type": "execute_result"
    }
   ],
   "source": [
    "temp=OrdinalEncoder()\n",
    "#cars_df.YEAR=temp.fit_transform(cars_df[['YEAR']])\n",
    "cars_df.MAKE=temp.fit_transform(cars_df[['MAKE']])\n",
    "cars_df.MODEL=temp.fit_transform(cars_df[['MODEL']])\n",
    "cars_df.CONDITION=temp.fit_transform(cars_df[['CONDITION']])\n",
    "cars_df.TRANSMISSION=temp.fit_transform(cars_df[['TRANSMISSION']])\n",
    "#cars_df.CYLINDERS=temp.fit_transform(cars_df[['CYLINDERS']])\n",
    "#cars_df.ODOMETER=temp.fit_transform(cars_df[['ODOMETER']])\n",
    "cars_df.FUEL=temp.fit_transform(cars_df[['FUEL']])\n",
    "cars_df.ENGINE_POWER=temp.fit_transform(cars_df[['ENGINE_POWER']])\n",
    "#cars_df.MILAGE=temp.fit_transform(cars_df[['MILAGE']])\n",
    "cars_df.head(20)"
   ]
  },
  {
   "cell_type": "code",
   "execution_count": 16,
   "id": "a3ff9a29-77d9-4ced-9435-b5e2136379a3",
   "metadata": {},
   "outputs": [
    {
     "data": {
      "text/plain": [
       "YEAR              int64\n",
       "MAKE            float64\n",
       "MODEL           float64\n",
       "CONDITION       float64\n",
       "TRANSMISSION    float64\n",
       "CYLINDERS         int64\n",
       "FUEL            float64\n",
       "ODOMETER          int64\n",
       "ENGINE_POWER    float64\n",
       "MILAGE            int64\n",
       "PRICE             int64\n",
       "dtype: object"
      ]
     },
     "execution_count": 16,
     "metadata": {},
     "output_type": "execute_result"
    }
   ],
   "source": [
    "enc = LabelEncoder() \n",
    "cars_df[target]=enc.fit_transform(cars_df[target])\n",
    "cars_df.dtypes"
   ]
  },
  {
   "cell_type": "code",
   "execution_count": 17,
   "id": "6a997114-c597-43f0-bde2-32b83ba5da2f",
   "metadata": {},
   "outputs": [
    {
     "data": {
      "text/html": [
       "<div>\n",
       "<style scoped>\n",
       "    .dataframe tbody tr th:only-of-type {\n",
       "        vertical-align: middle;\n",
       "    }\n",
       "\n",
       "    .dataframe tbody tr th {\n",
       "        vertical-align: top;\n",
       "    }\n",
       "\n",
       "    .dataframe thead th {\n",
       "        text-align: right;\n",
       "    }\n",
       "</style>\n",
       "<table border=\"1\" class=\"dataframe\">\n",
       "  <thead>\n",
       "    <tr style=\"text-align: right;\">\n",
       "      <th></th>\n",
       "      <th>YEAR</th>\n",
       "      <th>MAKE</th>\n",
       "      <th>MODEL</th>\n",
       "      <th>CONDITION</th>\n",
       "      <th>TRANSMISSION</th>\n",
       "      <th>CYLINDERS</th>\n",
       "      <th>FUEL</th>\n",
       "      <th>ODOMETER</th>\n",
       "      <th>ENGINE_POWER</th>\n",
       "      <th>MILAGE</th>\n",
       "      <th>PRICE</th>\n",
       "    </tr>\n",
       "  </thead>\n",
       "  <tbody>\n",
       "    <tr>\n",
       "      <th>0</th>\n",
       "      <td>2011</td>\n",
       "      <td>7.0</td>\n",
       "      <td>667.0</td>\n",
       "      <td>0.0</td>\n",
       "      <td>0.0</td>\n",
       "      <td>6</td>\n",
       "      <td>1.0</td>\n",
       "      <td>12200</td>\n",
       "      <td>0.0</td>\n",
       "      <td>6</td>\n",
       "      <td>0</td>\n",
       "    </tr>\n",
       "    <tr>\n",
       "      <th>1</th>\n",
       "      <td>2012</td>\n",
       "      <td>8.0</td>\n",
       "      <td>2777.0</td>\n",
       "      <td>0.0</td>\n",
       "      <td>1.0</td>\n",
       "      <td>6</td>\n",
       "      <td>1.0</td>\n",
       "      <td>111000</td>\n",
       "      <td>2.0</td>\n",
       "      <td>11</td>\n",
       "      <td>0</td>\n",
       "    </tr>\n",
       "    <tr>\n",
       "      <th>2</th>\n",
       "      <td>2009</td>\n",
       "      <td>21.0</td>\n",
       "      <td>1825.0</td>\n",
       "      <td>0.0</td>\n",
       "      <td>1.0</td>\n",
       "      <td>6</td>\n",
       "      <td>1.0</td>\n",
       "      <td>68650</td>\n",
       "      <td>2.0</td>\n",
       "      <td>49</td>\n",
       "      <td>0</td>\n",
       "    </tr>\n",
       "    <tr>\n",
       "      <th>3</th>\n",
       "      <td>2011</td>\n",
       "      <td>5.0</td>\n",
       "      <td>1786.0</td>\n",
       "      <td>0.0</td>\n",
       "      <td>1.0</td>\n",
       "      <td>6</td>\n",
       "      <td>1.0</td>\n",
       "      <td>123562</td>\n",
       "      <td>1.0</td>\n",
       "      <td>40</td>\n",
       "      <td>0</td>\n",
       "    </tr>\n",
       "    <tr>\n",
       "      <th>4</th>\n",
       "      <td>2008</td>\n",
       "      <td>7.0</td>\n",
       "      <td>801.0</td>\n",
       "      <td>0.0</td>\n",
       "      <td>0.0</td>\n",
       "      <td>4</td>\n",
       "      <td>1.0</td>\n",
       "      <td>138001</td>\n",
       "      <td>0.0</td>\n",
       "      <td>33</td>\n",
       "      <td>0</td>\n",
       "    </tr>\n",
       "  </tbody>\n",
       "</table>\n",
       "</div>"
      ],
      "text/plain": [
       "   YEAR  MAKE   MODEL  CONDITION  TRANSMISSION  CYLINDERS  FUEL  ODOMETER  \\\n",
       "0  2011   7.0   667.0        0.0           0.0          6   1.0     12200   \n",
       "1  2012   8.0  2777.0        0.0           1.0          6   1.0    111000   \n",
       "2  2009  21.0  1825.0        0.0           1.0          6   1.0     68650   \n",
       "3  2011   5.0  1786.0        0.0           1.0          6   1.0    123562   \n",
       "4  2008   7.0   801.0        0.0           0.0          4   1.0    138001   \n",
       "\n",
       "   ENGINE_POWER  MILAGE  PRICE  \n",
       "0           0.0       6      0  \n",
       "1           2.0      11      0  \n",
       "2           2.0      49      0  \n",
       "3           1.0      40      0  \n",
       "4           0.0      33      0  "
      ]
     },
     "execution_count": 17,
     "metadata": {},
     "output_type": "execute_result"
    }
   ],
   "source": [
    "cars_df.head()"
   ]
  },
  {
   "cell_type": "code",
   "execution_count": 18,
   "id": "d32b6fe3",
   "metadata": {},
   "outputs": [
    {
     "data": {
      "text/html": [
       "<div>\n",
       "<style scoped>\n",
       "    .dataframe tbody tr th:only-of-type {\n",
       "        vertical-align: middle;\n",
       "    }\n",
       "\n",
       "    .dataframe tbody tr th {\n",
       "        vertical-align: top;\n",
       "    }\n",
       "\n",
       "    .dataframe thead th {\n",
       "        text-align: right;\n",
       "    }\n",
       "</style>\n",
       "<table border=\"1\" class=\"dataframe\">\n",
       "  <thead>\n",
       "    <tr style=\"text-align: right;\">\n",
       "      <th></th>\n",
       "      <th>YEAR</th>\n",
       "      <th>MAKE</th>\n",
       "      <th>MODEL</th>\n",
       "      <th>CONDITION</th>\n",
       "      <th>TRANSMISSION</th>\n",
       "      <th>CYLINDERS</th>\n",
       "      <th>FUEL</th>\n",
       "      <th>ODOMETER</th>\n",
       "      <th>ENGINE_POWER</th>\n",
       "      <th>MILAGE</th>\n",
       "      <th>PRICE</th>\n",
       "    </tr>\n",
       "  </thead>\n",
       "  <tbody>\n",
       "    <tr>\n",
       "      <th>count</th>\n",
       "      <td>12076.000000</td>\n",
       "      <td>12076.000000</td>\n",
       "      <td>12076.000000</td>\n",
       "      <td>12076.000000</td>\n",
       "      <td>12076.000000</td>\n",
       "      <td>12076.000000</td>\n",
       "      <td>12076.000000</td>\n",
       "      <td>12076.000000</td>\n",
       "      <td>12076.000000</td>\n",
       "      <td>12076.000000</td>\n",
       "      <td>12076.000000</td>\n",
       "    </tr>\n",
       "    <tr>\n",
       "      <th>mean</th>\n",
       "      <td>2010.063183</td>\n",
       "      <td>17.613117</td>\n",
       "      <td>1589.043806</td>\n",
       "      <td>0.022607</td>\n",
       "      <td>0.400629</td>\n",
       "      <td>6.427708</td>\n",
       "      <td>0.850364</td>\n",
       "      <td>94208.968367</td>\n",
       "      <td>1.530142</td>\n",
       "      <td>27.543557</td>\n",
       "      <td>0.443607</td>\n",
       "    </tr>\n",
       "    <tr>\n",
       "      <th>std</th>\n",
       "      <td>9.202758</td>\n",
       "      <td>10.447140</td>\n",
       "      <td>895.049776</td>\n",
       "      <td>0.148653</td>\n",
       "      <td>0.490046</td>\n",
       "      <td>1.523097</td>\n",
       "      <td>0.356729</td>\n",
       "      <td>61173.220056</td>\n",
       "      <td>0.790420</td>\n",
       "      <td>13.202121</td>\n",
       "      <td>0.544089</td>\n",
       "    </tr>\n",
       "    <tr>\n",
       "      <th>min</th>\n",
       "      <td>1927.000000</td>\n",
       "      <td>0.000000</td>\n",
       "      <td>0.000000</td>\n",
       "      <td>0.000000</td>\n",
       "      <td>0.000000</td>\n",
       "      <td>4.000000</td>\n",
       "      <td>0.000000</td>\n",
       "      <td>0.000000</td>\n",
       "      <td>0.000000</td>\n",
       "      <td>5.000000</td>\n",
       "      <td>0.000000</td>\n",
       "    </tr>\n",
       "    <tr>\n",
       "      <th>25%</th>\n",
       "      <td>2007.000000</td>\n",
       "      <td>8.000000</td>\n",
       "      <td>866.000000</td>\n",
       "      <td>0.000000</td>\n",
       "      <td>0.000000</td>\n",
       "      <td>6.000000</td>\n",
       "      <td>1.000000</td>\n",
       "      <td>44299.500000</td>\n",
       "      <td>1.000000</td>\n",
       "      <td>16.000000</td>\n",
       "      <td>0.000000</td>\n",
       "    </tr>\n",
       "    <tr>\n",
       "      <th>50%</th>\n",
       "      <td>2012.000000</td>\n",
       "      <td>13.000000</td>\n",
       "      <td>1531.000000</td>\n",
       "      <td>0.000000</td>\n",
       "      <td>0.000000</td>\n",
       "      <td>6.000000</td>\n",
       "      <td>1.000000</td>\n",
       "      <td>88495.000000</td>\n",
       "      <td>2.000000</td>\n",
       "      <td>28.000000</td>\n",
       "      <td>0.000000</td>\n",
       "    </tr>\n",
       "    <tr>\n",
       "      <th>75%</th>\n",
       "      <td>2015.000000</td>\n",
       "      <td>27.000000</td>\n",
       "      <td>2467.000000</td>\n",
       "      <td>0.000000</td>\n",
       "      <td>1.000000</td>\n",
       "      <td>8.000000</td>\n",
       "      <td>1.000000</td>\n",
       "      <td>131903.000000</td>\n",
       "      <td>2.000000</td>\n",
       "      <td>39.000000</td>\n",
       "      <td>1.000000</td>\n",
       "    </tr>\n",
       "    <tr>\n",
       "      <th>max</th>\n",
       "      <td>2020.000000</td>\n",
       "      <td>38.000000</td>\n",
       "      <td>3075.000000</td>\n",
       "      <td>1.000000</td>\n",
       "      <td>1.000000</td>\n",
       "      <td>8.000000</td>\n",
       "      <td>1.000000</td>\n",
       "      <td>469000.000000</td>\n",
       "      <td>2.000000</td>\n",
       "      <td>50.000000</td>\n",
       "      <td>2.000000</td>\n",
       "    </tr>\n",
       "  </tbody>\n",
       "</table>\n",
       "</div>"
      ],
      "text/plain": [
       "               YEAR          MAKE         MODEL     CONDITION  TRANSMISSION  \\\n",
       "count  12076.000000  12076.000000  12076.000000  12076.000000  12076.000000   \n",
       "mean    2010.063183     17.613117   1589.043806      0.022607      0.400629   \n",
       "std        9.202758     10.447140    895.049776      0.148653      0.490046   \n",
       "min     1927.000000      0.000000      0.000000      0.000000      0.000000   \n",
       "25%     2007.000000      8.000000    866.000000      0.000000      0.000000   \n",
       "50%     2012.000000     13.000000   1531.000000      0.000000      0.000000   \n",
       "75%     2015.000000     27.000000   2467.000000      0.000000      1.000000   \n",
       "max     2020.000000     38.000000   3075.000000      1.000000      1.000000   \n",
       "\n",
       "          CYLINDERS          FUEL       ODOMETER  ENGINE_POWER        MILAGE  \\\n",
       "count  12076.000000  12076.000000   12076.000000  12076.000000  12076.000000   \n",
       "mean       6.427708      0.850364   94208.968367      1.530142     27.543557   \n",
       "std        1.523097      0.356729   61173.220056      0.790420     13.202121   \n",
       "min        4.000000      0.000000       0.000000      0.000000      5.000000   \n",
       "25%        6.000000      1.000000   44299.500000      1.000000     16.000000   \n",
       "50%        6.000000      1.000000   88495.000000      2.000000     28.000000   \n",
       "75%        8.000000      1.000000  131903.000000      2.000000     39.000000   \n",
       "max        8.000000      1.000000  469000.000000      2.000000     50.000000   \n",
       "\n",
       "              PRICE  \n",
       "count  12076.000000  \n",
       "mean       0.443607  \n",
       "std        0.544089  \n",
       "min        0.000000  \n",
       "25%        0.000000  \n",
       "50%        0.000000  \n",
       "75%        1.000000  \n",
       "max        2.000000  "
      ]
     },
     "execution_count": 18,
     "metadata": {},
     "output_type": "execute_result"
    }
   ],
   "source": [
    "cars_df.describe()"
   ]
  },
  {
   "cell_type": "code",
   "execution_count": 19,
   "id": "ccefc86f-3fa8-49a7-b302-b93dd85a5bd0",
   "metadata": {},
   "outputs": [
    {
     "data": {
      "text/plain": [
       "0    7016\n",
       "1    4763\n",
       "2     297\n",
       "Name: PRICE, dtype: int64"
      ]
     },
     "execution_count": 19,
     "metadata": {},
     "output_type": "execute_result"
    }
   ],
   "source": [
    "cars_df['PRICE'].value_counts()"
   ]
  },
  {
   "cell_type": "code",
   "execution_count": 20,
   "id": "e6eff4ea-1fa4-4cbd-a8a3-d5c7b7640d8e",
   "metadata": {},
   "outputs": [
    {
     "data": {
      "text/plain": [
       "(12076, 11)"
      ]
     },
     "execution_count": 20,
     "metadata": {},
     "output_type": "execute_result"
    }
   ],
   "source": [
    "cars_df.shape"
   ]
  },
  {
   "cell_type": "markdown",
   "id": "2022830b",
   "metadata": {},
   "source": [
    "# Partitioning data into training and test data sets\n"
   ]
  },
  {
   "cell_type": "markdown",
   "id": "497a114c",
   "metadata": {},
   "source": [
    "We've decided to utilize a training/test split of the data at 70% training and 30% testing. This percentage split ratio is inline with common practice for small to medium sized datasets, which this data represents. Moreover, we have decided not to do a three way data split, as we are only testing two models and we wish to allocated as much data as possible to training and validation steps."
   ]
  },
  {
   "cell_type": "code",
   "execution_count": 21,
   "id": "ccd6a26c-1c6c-406d-89b1-01409fa7478e",
   "metadata": {},
   "outputs": [],
   "source": [
    "# construct datasets for analysis\n",
    "target = 'PRICE'\n",
    "predictors = list(cars_df.columns)\n",
    "predictors.remove(target)\n",
    "X = cars_df[predictors]\n",
    "y = cars_df[target]"
   ]
  },
  {
   "cell_type": "code",
   "execution_count": 22,
   "id": "aa033dc5-5bee-4e29-a29a-e3c7314db3f9",
   "metadata": {},
   "outputs": [],
   "source": [
    "# create the training set and the test set \n",
    "X_train, X_test, y_train, y_test = train_test_split(X,y, test_size=0.3, random_state=1)"
   ]
  },
  {
   "cell_type": "code",
   "execution_count": 23,
   "id": "0e7d996d-4f46-41a6-b619-6e4ad327d0b4",
   "metadata": {},
   "outputs": [
    {
     "data": {
      "text/plain": [
       "0    4909\n",
       "1    3338\n",
       "2     206\n",
       "Name: PRICE, dtype: int64"
      ]
     },
     "execution_count": 23,
     "metadata": {},
     "output_type": "execute_result"
    }
   ],
   "source": [
    "y_train.value_counts()"
   ]
  },
  {
   "cell_type": "markdown",
   "id": "513f889f",
   "metadata": {},
   "source": [
    "# Address any data imbalances"
   ]
  },
  {
   "cell_type": "markdown",
   "id": "2c44d17b",
   "metadata": {},
   "source": [
    "We will utilize an oversamplying technique to address any necessary date balancing."
   ]
  },
  {
   "cell_type": "code",
   "execution_count": 24,
   "id": "9fa8d570-3e61-4887-b10f-dfebac1d1ac0",
   "metadata": {},
   "outputs": [],
   "source": [
    "from imblearn.under_sampling import RandomUnderSampler\n",
    "from sklearn.utils import resample"
   ]
  },
  {
   "cell_type": "code",
   "execution_count": 25,
   "id": "6bf5459a",
   "metadata": {},
   "outputs": [
    {
     "data": {
      "text/plain": [
       "2    4909\n",
       "0    4909\n",
       "1    4909\n",
       "Name: PRICE, dtype: int64"
      ]
     },
     "execution_count": 25,
     "metadata": {},
     "output_type": "execute_result"
    }
   ],
   "source": [
    "ros = RandomOverSampler(random_state=1)\n",
    "X_train, y_train = ros.fit_resample(X_train, y_train)\n",
    "y_train.value_counts()"
   ]
  },
  {
   "cell_type": "markdown",
   "id": "ce15c125",
   "metadata": {},
   "source": [
    "Check whether the values of target are equal or not"
   ]
  },
  {
   "cell_type": "code",
   "execution_count": 26,
   "id": "ccfc98a0-cbf4-4825-aeb8-90ba4b713561",
   "metadata": {},
   "outputs": [
    {
     "data": {
      "image/png": "[encoded data removed]",
      "text/plain": [
       "<Figure size 432x288 with 1 Axes>"
      ]
     },
     "metadata": {
      "needs_background": "light"
     },
     "output_type": "display_data"
    }
   ],
   "source": [
    "import matplotlib.pyplot as plt\n",
    "count = y_train.value_counts()\n",
    "count.plot.bar()\n",
    "plt.ylabel('Number of records')\n",
    "plt.xlabel('Target Class')\n",
    "plt.show()"
   ]
  },
  {
   "cell_type": "markdown",
   "id": "fd97c16e",
   "metadata": {},
   "source": [
    "# Scaling the dataset"
   ]
  },
  {
   "cell_type": "markdown",
   "id": "d7af7843",
   "metadata": {},
   "source": [
    "creating a standard scaler and fit it to the training set of predictors"
   ]
  },
  {
   "cell_type": "code",
   "execution_count": 27,
   "id": "b4cb69bf",
   "metadata": {},
   "outputs": [],
   "source": [
    "from sklearn.preprocessing import StandardScaler\n",
    "scaler = StandardScaler()\n",
    "scaler.fit(X_train)\n",
    "X_train = scaler.transform(X_train)\n",
    "X_test = scaler.transform(X_test)"
   ]
  },
  {
   "cell_type": "markdown",
   "id": "baf8ea3d-b0fd-46af-80a3-d59fe58a5e0f",
   "metadata": {},
   "source": [
    "# Train a k-NN model\n",
    "\n",
    "Since we know the k-NN models are very sensitive to differences in scale, we have rescaled our variables before fitting the model."
   ]
  },
  {
   "cell_type": "code",
   "execution_count": 28,
   "id": "76f08cba-069a-4ae6-8277-83d02647bbbf",
   "metadata": {},
   "outputs": [],
   "source": [
    "knn = KNeighborsClassifier(n_neighbors = int(len(y_train)**(1/2)), metric='euclidean')\n",
    "knn.fit(X_train, y_train)\n",
    "y_pred = knn.predict(X_test)"
   ]
  },
  {
   "cell_type": "code",
   "execution_count": 29,
   "id": "2cdc8233-fd13-45f6-8f8b-af5c71d5260a",
   "metadata": {},
   "outputs": [
    {
     "data": {
      "text/plain": [
       "array([[1707,  301,   99],\n",
       "       [  98,  949,  378],\n",
       "       [   1,   27,   63]], dtype=int64)"
      ]
     },
     "execution_count": 29,
     "metadata": {},
     "output_type": "execute_result"
    }
   ],
   "source": [
    "from sklearn.metrics import confusion_matrix\n",
    "confusion_matrix(y_test, y_pred)"
   ]
  },
  {
   "cell_type": "markdown",
   "id": "fdefe64f",
   "metadata": {},
   "source": [
    "Checking the all the 4 paramters with average as 'micro', 'macro', 'weighted'"
   ]
  },
  {
   "cell_type": "code",
   "execution_count": 31,
   "id": "6c75e034-8c71-4960-8479-62af644272eb",
   "metadata": {},
   "outputs": [
    {
     "data": {
      "text/plain": [
       "0.7504830251173061"
      ]
     },
     "execution_count": 31,
     "metadata": {},
     "output_type": "execute_result"
    }
   ],
   "source": [
    "accuracy_score(y_test, y_pred)"
   ]
  },
  {
   "cell_type": "code",
   "execution_count": 32,
   "id": "a6f34276-56c4-4360-87b1-7a8cf6f14078",
   "metadata": {},
   "outputs": [
    {
     "data": {
      "text/plain": [
       "0.7504830251173061"
      ]
     },
     "execution_count": 32,
     "metadata": {},
     "output_type": "execute_result"
    }
   ],
   "source": [
    "precision_score(y_test, y_pred, average='micro')"
   ]
  },
  {
   "cell_type": "code",
   "execution_count": 33,
   "id": "65939c2c-bddf-4a67-a2c5-f16b2443292a",
   "metadata": {},
   "outputs": [
    {
     "data": {
      "text/plain": [
       "0.6016657980171666"
      ]
     },
     "execution_count": 33,
     "metadata": {},
     "output_type": "execute_result"
    }
   ],
   "source": [
    "precision_score(y_test, y_pred, average='macro')"
   ]
  },
  {
   "cell_type": "code",
   "execution_count": 34,
   "id": "552eb08c-2dc3-47c1-afa8-96f63e58a15a",
   "metadata": {},
   "outputs": [
    {
     "data": {
      "text/plain": [
       "0.8449082448606827"
      ]
     },
     "execution_count": 34,
     "metadata": {},
     "output_type": "execute_result"
    }
   ],
   "source": [
    "precision_score(y_test, y_pred, average='weighted')"
   ]
  },
  {
   "cell_type": "code",
   "execution_count": 35,
   "id": "0ab95602-a386-423b-a07f-d6d859d01a40",
   "metadata": {},
   "outputs": [
    {
     "data": {
      "text/plain": [
       "0.7504830251173061"
      ]
     },
     "execution_count": 35,
     "metadata": {},
     "output_type": "execute_result"
    }
   ],
   "source": [
    "recall_score(y_test, y_pred, average='micro')"
   ]
  },
  {
   "cell_type": "code",
   "execution_count": 36,
   "id": "52e157cf-cf94-49f9-a528-a71d168467bf",
   "metadata": {},
   "outputs": [
    {
     "data": {
      "text/plain": [
       "0.7228097417920814"
      ]
     },
     "execution_count": 36,
     "metadata": {},
     "output_type": "execute_result"
    }
   ],
   "source": [
    "recall_score(y_test, y_pred, average='macro')"
   ]
  },
  {
   "cell_type": "code",
   "execution_count": 37,
   "id": "4ba78e6d-26e0-4779-a6d8-99d76e44c0a1",
   "metadata": {},
   "outputs": [
    {
     "data": {
      "text/plain": [
       "0.7504830251173061"
      ]
     },
     "execution_count": 37,
     "metadata": {},
     "output_type": "execute_result"
    }
   ],
   "source": [
    "recall_score(y_test, y_pred, average='weighted')"
   ]
  },
  {
   "cell_type": "code",
   "execution_count": 38,
   "id": "133de2f1-136a-464a-9bcd-553b620569d0",
   "metadata": {},
   "outputs": [
    {
     "data": {
      "text/plain": [
       "0.7504830251173061"
      ]
     },
     "execution_count": 38,
     "metadata": {},
     "output_type": "execute_result"
    }
   ],
   "source": [
    "f1_score(y_test, y_pred, average='micro')"
   ]
  },
  {
   "cell_type": "code",
   "execution_count": 39,
   "id": "d678b4ea-5441-428d-84b2-72945f113e0d",
   "metadata": {},
   "outputs": [
    {
     "data": {
      "text/plain": [
       "0.5915340129075998"
      ]
     },
     "execution_count": 39,
     "metadata": {},
     "output_type": "execute_result"
    }
   ],
   "source": [
    "f1_score(y_test, y_pred, average='macro')"
   ]
  },
  {
   "cell_type": "code",
   "execution_count": 40,
   "id": "a4fe0ea7-dc29-4726-8c0b-1aa416c86438",
   "metadata": {},
   "outputs": [
    {
     "data": {
      "text/plain": [
       "0.7886998631514797"
      ]
     },
     "execution_count": 40,
     "metadata": {},
     "output_type": "execute_result"
    }
   ],
   "source": [
    "f1_score(y_test, y_pred, average='weighted')"
   ]
  },
  {
   "cell_type": "code",
   "execution_count": 41,
   "id": "6db97cbf-5d0f-494b-a51c-9bd8d07881b1",
   "metadata": {},
   "outputs": [
    {
     "name": "stdout",
     "output_type": "stream",
     "text": [
      "              precision    recall  f1-score   support\n",
      "\n",
      "           0       0.95      0.81      0.87      2107\n",
      "           1       0.74      0.67      0.70      1425\n",
      "           2       0.12      0.69      0.20        91\n",
      "\n",
      "    accuracy                           0.75      3623\n",
      "   macro avg       0.60      0.72      0.59      3623\n",
      "weighted avg       0.84      0.75      0.79      3623\n",
      "\n"
     ]
    }
   ],
   "source": [
    "print(classification_report(y_test, y_pred))"
   ]
  },
  {
   "cell_type": "markdown",
   "id": "5091007c",
   "metadata": {},
   "source": [
    "Checking for all the K values "
   ]
  },
  {
   "cell_type": "code",
   "execution_count": 42,
   "id": "25557e51-e90f-40b8-91d3-8b1292e42462",
   "metadata": {},
   "outputs": [],
   "source": [
    "avg_method = 'weighted'\n",
    "results = []\n",
    "for avg_method in ['micro', 'macro', 'weighted']:\n",
    "    for k in range(1,int(len(y_test)**0.5)*2,2): #k values from 1 to root of n\n",
    "        knn = KNeighborsClassifier(n_neighbors=k,  metric='euclidean')\n",
    "        knn.fit(X_train, y_train)\n",
    "        y_pred = knn.predict(X_test)\n",
    "\n",
    "        results.append({ \n",
    "            \n",
    "                'avg_method': avg_method,\n",
    "                'k':k,\n",
    "                'accuracy': accuracy_score(y_test, y_pred),\n",
    "                'precision': precision_score(y_test, y_pred, average=avg_method, zero_division=0),\n",
    "                'recall':recall_score(y_test, y_pred, average=avg_method),\n",
    "                'f1': f1_score(y_test, y_pred, average=avg_method),\n",
    "        })"
   ]
  },
  {
   "cell_type": "code",
   "execution_count": 43,
   "id": "c9a7e226-6712-4f1e-8983-b0ebb79e3118",
   "metadata": {},
   "outputs": [
    {
     "data": {
      "text/html": [
       "<div>\n",
       "<style scoped>\n",
       "    .dataframe tbody tr th:only-of-type {\n",
       "        vertical-align: middle;\n",
       "    }\n",
       "\n",
       "    .dataframe tbody tr th {\n",
       "        vertical-align: top;\n",
       "    }\n",
       "\n",
       "    .dataframe thead th {\n",
       "        text-align: right;\n",
       "    }\n",
       "</style>\n",
       "<table border=\"1\" class=\"dataframe\">\n",
       "  <thead>\n",
       "    <tr style=\"text-align: right;\">\n",
       "      <th></th>\n",
       "      <th>avg_method</th>\n",
       "      <th>k</th>\n",
       "      <th>accuracy</th>\n",
       "      <th>precision</th>\n",
       "      <th>recall</th>\n",
       "      <th>f1</th>\n",
       "    </tr>\n",
       "  </thead>\n",
       "  <tbody>\n",
       "    <tr>\n",
       "      <th>0</th>\n",
       "      <td>micro</td>\n",
       "      <td>1</td>\n",
       "      <td>0.855092</td>\n",
       "      <td>0.855092</td>\n",
       "      <td>0.855092</td>\n",
       "      <td>0.855092</td>\n",
       "    </tr>\n",
       "    <tr>\n",
       "      <th>1</th>\n",
       "      <td>micro</td>\n",
       "      <td>3</td>\n",
       "      <td>0.850952</td>\n",
       "      <td>0.850952</td>\n",
       "      <td>0.850952</td>\n",
       "      <td>0.850952</td>\n",
       "    </tr>\n",
       "    <tr>\n",
       "      <th>2</th>\n",
       "      <td>micro</td>\n",
       "      <td>5</td>\n",
       "      <td>0.844880</td>\n",
       "      <td>0.844880</td>\n",
       "      <td>0.844880</td>\n",
       "      <td>0.844880</td>\n",
       "    </tr>\n",
       "    <tr>\n",
       "      <th>3</th>\n",
       "      <td>micro</td>\n",
       "      <td>7</td>\n",
       "      <td>0.843776</td>\n",
       "      <td>0.843776</td>\n",
       "      <td>0.843776</td>\n",
       "      <td>0.843776</td>\n",
       "    </tr>\n",
       "    <tr>\n",
       "      <th>4</th>\n",
       "      <td>micro</td>\n",
       "      <td>9</td>\n",
       "      <td>0.837152</td>\n",
       "      <td>0.837152</td>\n",
       "      <td>0.837152</td>\n",
       "      <td>0.837152</td>\n",
       "    </tr>\n",
       "    <tr>\n",
       "      <th>...</th>\n",
       "      <td>...</td>\n",
       "      <td>...</td>\n",
       "      <td>...</td>\n",
       "      <td>...</td>\n",
       "      <td>...</td>\n",
       "      <td>...</td>\n",
       "    </tr>\n",
       "    <tr>\n",
       "      <th>175</th>\n",
       "      <td>weighted</td>\n",
       "      <td>111</td>\n",
       "      <td>0.754623</td>\n",
       "      <td>0.850145</td>\n",
       "      <td>0.754623</td>\n",
       "      <td>0.792949</td>\n",
       "    </tr>\n",
       "    <tr>\n",
       "      <th>176</th>\n",
       "      <td>weighted</td>\n",
       "      <td>113</td>\n",
       "      <td>0.756555</td>\n",
       "      <td>0.849790</td>\n",
       "      <td>0.756555</td>\n",
       "      <td>0.794127</td>\n",
       "    </tr>\n",
       "    <tr>\n",
       "      <th>177</th>\n",
       "      <td>weighted</td>\n",
       "      <td>115</td>\n",
       "      <td>0.756555</td>\n",
       "      <td>0.848956</td>\n",
       "      <td>0.756555</td>\n",
       "      <td>0.793870</td>\n",
       "    </tr>\n",
       "    <tr>\n",
       "      <th>178</th>\n",
       "      <td>weighted</td>\n",
       "      <td>117</td>\n",
       "      <td>0.754623</td>\n",
       "      <td>0.847526</td>\n",
       "      <td>0.754623</td>\n",
       "      <td>0.792135</td>\n",
       "    </tr>\n",
       "    <tr>\n",
       "      <th>179</th>\n",
       "      <td>weighted</td>\n",
       "      <td>119</td>\n",
       "      <td>0.752691</td>\n",
       "      <td>0.846144</td>\n",
       "      <td>0.752691</td>\n",
       "      <td>0.790520</td>\n",
       "    </tr>\n",
       "  </tbody>\n",
       "</table>\n",
       "<p>180 rows × 6 columns</p>\n",
       "</div>"
      ],
      "text/plain": [
       "    avg_method    k  accuracy  precision    recall        f1\n",
       "0        micro    1  0.855092   0.855092  0.855092  0.855092\n",
       "1        micro    3  0.850952   0.850952  0.850952  0.850952\n",
       "2        micro    5  0.844880   0.844880  0.844880  0.844880\n",
       "3        micro    7  0.843776   0.843776  0.843776  0.843776\n",
       "4        micro    9  0.837152   0.837152  0.837152  0.837152\n",
       "..         ...  ...       ...        ...       ...       ...\n",
       "175   weighted  111  0.754623   0.850145  0.754623  0.792949\n",
       "176   weighted  113  0.756555   0.849790  0.756555  0.794127\n",
       "177   weighted  115  0.756555   0.848956  0.756555  0.793870\n",
       "178   weighted  117  0.754623   0.847526  0.754623  0.792135\n",
       "179   weighted  119  0.752691   0.846144  0.752691  0.790520\n",
       "\n",
       "[180 rows x 6 columns]"
      ]
     },
     "execution_count": 43,
     "metadata": {},
     "output_type": "execute_result"
    }
   ],
   "source": [
    "results_df = pd.DataFrame(results)  \n",
    "results_df"
   ]
  },
  {
   "cell_type": "code",
   "execution_count": 45,
   "id": "7862ca96-08cc-4c6b-b27f-a9b9c6209ebb",
   "metadata": {},
   "outputs": [],
   "source": [
    "#results_df.best_score_"
   ]
  },
  {
   "cell_type": "markdown",
   "id": "44bb6656",
   "metadata": {},
   "source": [
    " the best accuracy by Knn came out with k = 1 having value 85.5% with default paramaters."
   ]
  },
  {
   "cell_type": "markdown",
   "id": "4da90000",
   "metadata": {},
   "source": [
    "## KNN with Hyperparameter tuning"
   ]
  },
  {
   "cell_type": "markdown",
   "id": "00aea8e1",
   "metadata": {},
   "source": [
    "As we can see from the confusion matrix that the values for TP,FP,FN,TN has a lot of difference, we are taking accuracy as it is the most contributing metric. "
   ]
  },
  {
   "cell_type": "code",
   "execution_count": 48,
   "id": "467fc70f-839e-434d-8e19-ba7d19de5866",
   "metadata": {},
   "outputs": [
    {
     "name": "stdout",
     "output_type": "stream",
     "text": [
      "120\n"
     ]
    }
   ],
   "source": [
    "print(int(len(y_test)**0.5)*2 )"
   ]
  },
  {
   "cell_type": "code",
   "execution_count": 49,
   "id": "d11e03fd-72b2-4aa9-b822-0b9095e56fa4",
   "metadata": {},
   "outputs": [],
   "source": [
    "grid_params = { 'n_neighbors' : list(range(1,120,2)),\n",
    "               'weights' : ['uniform','distance'],\n",
    "               'metric' : ['minkowski','euclidean','manhattan']}"
   ]
  },
  {
   "cell_type": "code",
   "execution_count": 50,
   "id": "9df7096e-3094-4328-ac06-7e0668f98e0d",
   "metadata": {},
   "outputs": [],
   "source": [
    "gs = GridSearchCV(KNeighborsClassifier(), grid_params, verbose = 1, cv=10, n_jobs = -1)"
   ]
  },
  {
   "cell_type": "code",
   "execution_count": 51,
   "id": "7b7268e7-69af-4904-a984-21caae607b23",
   "metadata": {},
   "outputs": [
    {
     "name": "stdout",
     "output_type": "stream",
     "text": [
      "Fitting 10 folds for each of 360 candidates, totalling 3600 fits\n"
     ]
    }
   ],
   "source": [
    "g_res = gs.fit(X_train, y_train)"
   ]
  },
  {
   "cell_type": "code",
   "execution_count": 52,
   "id": "4d8f59c8-602d-40a8-a782-85ccd6eef856",
   "metadata": {},
   "outputs": [
    {
     "data": {
      "text/plain": [
       "0.938485261887895"
      ]
     },
     "execution_count": 52,
     "metadata": {},
     "output_type": "execute_result"
    }
   ],
   "source": [
    "g_res.best_score_"
   ]
  },
  {
   "cell_type": "code",
   "execution_count": 53,
   "id": "55c40780-4fa1-465e-92f8-755783d763db",
   "metadata": {},
   "outputs": [
    {
     "data": {
      "text/plain": [
       "{'metric': 'manhattan', 'n_neighbors': 1, 'weights': 'uniform'}"
      ]
     },
     "execution_count": 53,
     "metadata": {},
     "output_type": "execute_result"
    }
   ],
   "source": [
    "g_res.best_params_"
   ]
  },
  {
   "cell_type": "code",
   "execution_count": 54,
   "id": "f78b847f-59d5-4139-a05d-b329e746b307",
   "metadata": {},
   "outputs": [
    {
     "data": {
      "text/plain": [
       "KNeighborsClassifier(algorithm='brute', n_neighbors=1)"
      ]
     },
     "execution_count": 54,
     "metadata": {},
     "output_type": "execute_result"
    }
   ],
   "source": [
    "knn = KNeighborsClassifier(n_neighbors = 1, weights = 'uniform',algorithm = 'brute',metric = 'minkowski')\n",
    "knn.fit(X_train, y_train)"
   ]
  },
  {
   "cell_type": "code",
   "execution_count": 55,
   "id": "7f1137fd-7e58-47b2-b554-cacd984c57e3",
   "metadata": {},
   "outputs": [],
   "source": [
    "y_hat = knn.predict(X_train)\n",
    "y_knn = knn.predict(X_test)"
   ]
  },
  {
   "cell_type": "code",
   "execution_count": 56,
   "id": "f555cde3-c37d-4500-a86e-336b6cd3d0c7",
   "metadata": {},
   "outputs": [],
   "source": [
    "from sklearn import metrics"
   ]
  },
  {
   "cell_type": "code",
   "execution_count": 57,
   "id": "cead3b86-d2af-475f-8d2a-3f37aa72ce75",
   "metadata": {},
   "outputs": [
    {
     "name": "stdout",
     "output_type": "stream",
     "text": [
      "Training set accuracy:  1.0\n",
      "Test set accuracy:  0.85509246480817\n"
     ]
    }
   ],
   "source": [
    "print('Training set accuracy: ', metrics.accuracy_score(y_train, y_hat))\n",
    "print('Test set accuracy: ',metrics.accuracy_score(y_test, y_knn))"
   ]
  },
  {
   "cell_type": "code",
   "execution_count": 58,
   "id": "37ceb473-4f3e-4b75-bbf2-69a564939626",
   "metadata": {},
   "outputs": [
    {
     "name": "stdout",
     "output_type": "stream",
     "text": [
      "[[1881  216   10]\n",
      " [ 197 1186   42]\n",
      " [   5   55   31]]\n"
     ]
    }
   ],
   "source": [
    "cm = confusion_matrix(y_test, y_knn)\n",
    "print(cm)"
   ]
  },
  {
   "cell_type": "code",
   "execution_count": 59,
   "id": "46e4f721-8bac-42ed-a66f-93d0b3746333",
   "metadata": {},
   "outputs": [
    {
     "name": "stdout",
     "output_type": "stream",
     "text": [
      "              precision    recall  f1-score   support\n",
      "\n",
      "           0       0.90      0.89      0.90      2107\n",
      "           1       0.81      0.83      0.82      1425\n",
      "           2       0.37      0.34      0.36        91\n",
      "\n",
      "    accuracy                           0.86      3623\n",
      "   macro avg       0.70      0.69      0.69      3623\n",
      "weighted avg       0.85      0.86      0.85      3623\n",
      "\n"
     ]
    }
   ],
   "source": [
    "from sklearn.metrics import classification_report\n",
    "print(classification_report(y_test, y_knn))"
   ]
  },
  {
   "cell_type": "code",
   "execution_count": 60,
   "id": "06b3b1ae-164e-4ef8-83d2-9e356a538319",
   "metadata": {},
   "outputs": [],
   "source": [
    "from sklearn.model_selection import cross_val_score\n",
    "scores = cross_val_score(knn, X, y, cv =10)"
   ]
  },
  {
   "cell_type": "code",
   "execution_count": 61,
   "id": "9162a5bc-f7c1-4e36-9eee-a4ed7da654b8",
   "metadata": {},
   "outputs": [
    {
     "name": "stdout",
     "output_type": "stream",
     "text": [
      "Model accuracy:  0.7937206115540144\n"
     ]
    }
   ],
   "source": [
    "print('Model accuracy: ',np.mean(scores))"
   ]
  },
  {
   "cell_type": "markdown",
   "id": "6c548ab9",
   "metadata": {},
   "source": [
    "As seen from the above method of hypertuning we can say that the model accuracy decreased from to 85% to 79% with k = 1."
   ]
  },
  {
   "cell_type": "markdown",
   "id": "e8041a5f",
   "metadata": {},
   "source": [
    "# Decision Tree"
   ]
  },
  {
   "cell_type": "markdown",
   "id": "3094d417",
   "metadata": {},
   "source": [
    "Running Decision Tree algorithm "
   ]
  },
  {
   "cell_type": "code",
   "execution_count": 62,
   "id": "7c0e0588",
   "metadata": {},
   "outputs": [
    {
     "data": {
      "text/html": [
       "<div>\n",
       "<style scoped>\n",
       "    .dataframe tbody tr th:only-of-type {\n",
       "        vertical-align: middle;\n",
       "    }\n",
       "\n",
       "    .dataframe tbody tr th {\n",
       "        vertical-align: top;\n",
       "    }\n",
       "\n",
       "    .dataframe thead th {\n",
       "        text-align: right;\n",
       "    }\n",
       "</style>\n",
       "<table border=\"1\" class=\"dataframe\">\n",
       "  <thead>\n",
       "    <tr style=\"text-align: right;\">\n",
       "      <th></th>\n",
       "      <th>YEAR</th>\n",
       "      <th>MAKE</th>\n",
       "      <th>MODEL</th>\n",
       "      <th>CONDITION</th>\n",
       "      <th>TRANSMISSION</th>\n",
       "      <th>CYLINDERS</th>\n",
       "      <th>FUEL</th>\n",
       "      <th>ODOMETER</th>\n",
       "      <th>ENGINE_POWER</th>\n",
       "      <th>MILAGE</th>\n",
       "      <th>PRICE</th>\n",
       "    </tr>\n",
       "  </thead>\n",
       "  <tbody>\n",
       "    <tr>\n",
       "      <th>0</th>\n",
       "      <td>2011</td>\n",
       "      <td>7.0</td>\n",
       "      <td>667.0</td>\n",
       "      <td>0.0</td>\n",
       "      <td>0.0</td>\n",
       "      <td>6</td>\n",
       "      <td>1.0</td>\n",
       "      <td>12200</td>\n",
       "      <td>0.0</td>\n",
       "      <td>6</td>\n",
       "      <td>0</td>\n",
       "    </tr>\n",
       "    <tr>\n",
       "      <th>1</th>\n",
       "      <td>2012</td>\n",
       "      <td>8.0</td>\n",
       "      <td>2777.0</td>\n",
       "      <td>0.0</td>\n",
       "      <td>1.0</td>\n",
       "      <td>6</td>\n",
       "      <td>1.0</td>\n",
       "      <td>111000</td>\n",
       "      <td>2.0</td>\n",
       "      <td>11</td>\n",
       "      <td>0</td>\n",
       "    </tr>\n",
       "    <tr>\n",
       "      <th>2</th>\n",
       "      <td>2009</td>\n",
       "      <td>21.0</td>\n",
       "      <td>1825.0</td>\n",
       "      <td>0.0</td>\n",
       "      <td>1.0</td>\n",
       "      <td>6</td>\n",
       "      <td>1.0</td>\n",
       "      <td>68650</td>\n",
       "      <td>2.0</td>\n",
       "      <td>49</td>\n",
       "      <td>0</td>\n",
       "    </tr>\n",
       "    <tr>\n",
       "      <th>3</th>\n",
       "      <td>2011</td>\n",
       "      <td>5.0</td>\n",
       "      <td>1786.0</td>\n",
       "      <td>0.0</td>\n",
       "      <td>1.0</td>\n",
       "      <td>6</td>\n",
       "      <td>1.0</td>\n",
       "      <td>123562</td>\n",
       "      <td>1.0</td>\n",
       "      <td>40</td>\n",
       "      <td>0</td>\n",
       "    </tr>\n",
       "    <tr>\n",
       "      <th>4</th>\n",
       "      <td>2008</td>\n",
       "      <td>7.0</td>\n",
       "      <td>801.0</td>\n",
       "      <td>0.0</td>\n",
       "      <td>0.0</td>\n",
       "      <td>4</td>\n",
       "      <td>1.0</td>\n",
       "      <td>138001</td>\n",
       "      <td>0.0</td>\n",
       "      <td>33</td>\n",
       "      <td>0</td>\n",
       "    </tr>\n",
       "    <tr>\n",
       "      <th>...</th>\n",
       "      <td>...</td>\n",
       "      <td>...</td>\n",
       "      <td>...</td>\n",
       "      <td>...</td>\n",
       "      <td>...</td>\n",
       "      <td>...</td>\n",
       "      <td>...</td>\n",
       "      <td>...</td>\n",
       "      <td>...</td>\n",
       "      <td>...</td>\n",
       "      <td>...</td>\n",
       "    </tr>\n",
       "    <tr>\n",
       "      <th>12071</th>\n",
       "      <td>2015</td>\n",
       "      <td>7.0</td>\n",
       "      <td>2467.0</td>\n",
       "      <td>0.0</td>\n",
       "      <td>1.0</td>\n",
       "      <td>8</td>\n",
       "      <td>0.0</td>\n",
       "      <td>170781</td>\n",
       "      <td>2.0</td>\n",
       "      <td>48</td>\n",
       "      <td>1</td>\n",
       "    </tr>\n",
       "    <tr>\n",
       "      <th>12072</th>\n",
       "      <td>2018</td>\n",
       "      <td>36.0</td>\n",
       "      <td>2697.0</td>\n",
       "      <td>0.0</td>\n",
       "      <td>0.0</td>\n",
       "      <td>6</td>\n",
       "      <td>1.0</td>\n",
       "      <td>9561</td>\n",
       "      <td>2.0</td>\n",
       "      <td>37</td>\n",
       "      <td>1</td>\n",
       "    </tr>\n",
       "    <tr>\n",
       "      <th>12073</th>\n",
       "      <td>2017</td>\n",
       "      <td>13.0</td>\n",
       "      <td>1306.0</td>\n",
       "      <td>0.0</td>\n",
       "      <td>1.0</td>\n",
       "      <td>8</td>\n",
       "      <td>0.0</td>\n",
       "      <td>125780</td>\n",
       "      <td>2.0</td>\n",
       "      <td>33</td>\n",
       "      <td>1</td>\n",
       "    </tr>\n",
       "    <tr>\n",
       "      <th>12074</th>\n",
       "      <td>2017</td>\n",
       "      <td>32.0</td>\n",
       "      <td>33.0</td>\n",
       "      <td>0.0</td>\n",
       "      <td>1.0</td>\n",
       "      <td>8</td>\n",
       "      <td>1.0</td>\n",
       "      <td>21141</td>\n",
       "      <td>2.0</td>\n",
       "      <td>37</td>\n",
       "      <td>1</td>\n",
       "    </tr>\n",
       "    <tr>\n",
       "      <th>12075</th>\n",
       "      <td>2015</td>\n",
       "      <td>14.0</td>\n",
       "      <td>2392.0</td>\n",
       "      <td>0.0</td>\n",
       "      <td>1.0</td>\n",
       "      <td>8</td>\n",
       "      <td>1.0</td>\n",
       "      <td>54110</td>\n",
       "      <td>2.0</td>\n",
       "      <td>8</td>\n",
       "      <td>1</td>\n",
       "    </tr>\n",
       "  </tbody>\n",
       "</table>\n",
       "<p>12076 rows × 11 columns</p>\n",
       "</div>"
      ],
      "text/plain": [
       "       YEAR  MAKE   MODEL  CONDITION  TRANSMISSION  CYLINDERS  FUEL  ODOMETER  \\\n",
       "0      2011   7.0   667.0        0.0           0.0          6   1.0     12200   \n",
       "1      2012   8.0  2777.0        0.0           1.0          6   1.0    111000   \n",
       "2      2009  21.0  1825.0        0.0           1.0          6   1.0     68650   \n",
       "3      2011   5.0  1786.0        0.0           1.0          6   1.0    123562   \n",
       "4      2008   7.0   801.0        0.0           0.0          4   1.0    138001   \n",
       "...     ...   ...     ...        ...           ...        ...   ...       ...   \n",
       "12071  2015   7.0  2467.0        0.0           1.0          8   0.0    170781   \n",
       "12072  2018  36.0  2697.0        0.0           0.0          6   1.0      9561   \n",
       "12073  2017  13.0  1306.0        0.0           1.0          8   0.0    125780   \n",
       "12074  2017  32.0    33.0        0.0           1.0          8   1.0     21141   \n",
       "12075  2015  14.0  2392.0        0.0           1.0          8   1.0     54110   \n",
       "\n",
       "       ENGINE_POWER  MILAGE  PRICE  \n",
       "0               0.0       6      0  \n",
       "1               2.0      11      0  \n",
       "2               2.0      49      0  \n",
       "3               1.0      40      0  \n",
       "4               0.0      33      0  \n",
       "...             ...     ...    ...  \n",
       "12071           2.0      48      1  \n",
       "12072           2.0      37      1  \n",
       "12073           2.0      33      1  \n",
       "12074           2.0      37      1  \n",
       "12075           2.0       8      1  \n",
       "\n",
       "[12076 rows x 11 columns]"
      ]
     },
     "execution_count": 62,
     "metadata": {},
     "output_type": "execute_result"
    }
   ],
   "source": [
    "cars_df"
   ]
  },
  {
   "cell_type": "code",
   "execution_count": 63,
   "id": "80a3ea55",
   "metadata": {},
   "outputs": [
    {
     "data": {
      "text/html": [
       "<div>\n",
       "<style scoped>\n",
       "    .dataframe tbody tr th:only-of-type {\n",
       "        vertical-align: middle;\n",
       "    }\n",
       "\n",
       "    .dataframe tbody tr th {\n",
       "        vertical-align: top;\n",
       "    }\n",
       "\n",
       "    .dataframe thead th {\n",
       "        text-align: right;\n",
       "    }\n",
       "</style>\n",
       "<table border=\"1\" class=\"dataframe\">\n",
       "  <thead>\n",
       "    <tr style=\"text-align: right;\">\n",
       "      <th></th>\n",
       "      <th>YEAR</th>\n",
       "      <th>MAKE</th>\n",
       "      <th>MODEL</th>\n",
       "      <th>CONDITION</th>\n",
       "      <th>TRANSMISSION</th>\n",
       "      <th>CYLINDERS</th>\n",
       "      <th>FUEL</th>\n",
       "      <th>ODOMETER</th>\n",
       "      <th>ENGINE_POWER</th>\n",
       "      <th>MILAGE</th>\n",
       "    </tr>\n",
       "  </thead>\n",
       "  <tbody>\n",
       "    <tr>\n",
       "      <th>0</th>\n",
       "      <td>2011</td>\n",
       "      <td>7.0</td>\n",
       "      <td>667.0</td>\n",
       "      <td>0.0</td>\n",
       "      <td>0.0</td>\n",
       "      <td>6</td>\n",
       "      <td>1.0</td>\n",
       "      <td>12200</td>\n",
       "      <td>0.0</td>\n",
       "      <td>6</td>\n",
       "    </tr>\n",
       "    <tr>\n",
       "      <th>1</th>\n",
       "      <td>2012</td>\n",
       "      <td>8.0</td>\n",
       "      <td>2777.0</td>\n",
       "      <td>0.0</td>\n",
       "      <td>1.0</td>\n",
       "      <td>6</td>\n",
       "      <td>1.0</td>\n",
       "      <td>111000</td>\n",
       "      <td>2.0</td>\n",
       "      <td>11</td>\n",
       "    </tr>\n",
       "    <tr>\n",
       "      <th>2</th>\n",
       "      <td>2009</td>\n",
       "      <td>21.0</td>\n",
       "      <td>1825.0</td>\n",
       "      <td>0.0</td>\n",
       "      <td>1.0</td>\n",
       "      <td>6</td>\n",
       "      <td>1.0</td>\n",
       "      <td>68650</td>\n",
       "      <td>2.0</td>\n",
       "      <td>49</td>\n",
       "    </tr>\n",
       "    <tr>\n",
       "      <th>3</th>\n",
       "      <td>2011</td>\n",
       "      <td>5.0</td>\n",
       "      <td>1786.0</td>\n",
       "      <td>0.0</td>\n",
       "      <td>1.0</td>\n",
       "      <td>6</td>\n",
       "      <td>1.0</td>\n",
       "      <td>123562</td>\n",
       "      <td>1.0</td>\n",
       "      <td>40</td>\n",
       "    </tr>\n",
       "    <tr>\n",
       "      <th>4</th>\n",
       "      <td>2008</td>\n",
       "      <td>7.0</td>\n",
       "      <td>801.0</td>\n",
       "      <td>0.0</td>\n",
       "      <td>0.0</td>\n",
       "      <td>4</td>\n",
       "      <td>1.0</td>\n",
       "      <td>138001</td>\n",
       "      <td>0.0</td>\n",
       "      <td>33</td>\n",
       "    </tr>\n",
       "    <tr>\n",
       "      <th>...</th>\n",
       "      <td>...</td>\n",
       "      <td>...</td>\n",
       "      <td>...</td>\n",
       "      <td>...</td>\n",
       "      <td>...</td>\n",
       "      <td>...</td>\n",
       "      <td>...</td>\n",
       "      <td>...</td>\n",
       "      <td>...</td>\n",
       "      <td>...</td>\n",
       "    </tr>\n",
       "    <tr>\n",
       "      <th>12071</th>\n",
       "      <td>2015</td>\n",
       "      <td>7.0</td>\n",
       "      <td>2467.0</td>\n",
       "      <td>0.0</td>\n",
       "      <td>1.0</td>\n",
       "      <td>8</td>\n",
       "      <td>0.0</td>\n",
       "      <td>170781</td>\n",
       "      <td>2.0</td>\n",
       "      <td>48</td>\n",
       "    </tr>\n",
       "    <tr>\n",
       "      <th>12072</th>\n",
       "      <td>2018</td>\n",
       "      <td>36.0</td>\n",
       "      <td>2697.0</td>\n",
       "      <td>0.0</td>\n",
       "      <td>0.0</td>\n",
       "      <td>6</td>\n",
       "      <td>1.0</td>\n",
       "      <td>9561</td>\n",
       "      <td>2.0</td>\n",
       "      <td>37</td>\n",
       "    </tr>\n",
       "    <tr>\n",
       "      <th>12073</th>\n",
       "      <td>2017</td>\n",
       "      <td>13.0</td>\n",
       "      <td>1306.0</td>\n",
       "      <td>0.0</td>\n",
       "      <td>1.0</td>\n",
       "      <td>8</td>\n",
       "      <td>0.0</td>\n",
       "      <td>125780</td>\n",
       "      <td>2.0</td>\n",
       "      <td>33</td>\n",
       "    </tr>\n",
       "    <tr>\n",
       "      <th>12074</th>\n",
       "      <td>2017</td>\n",
       "      <td>32.0</td>\n",
       "      <td>33.0</td>\n",
       "      <td>0.0</td>\n",
       "      <td>1.0</td>\n",
       "      <td>8</td>\n",
       "      <td>1.0</td>\n",
       "      <td>21141</td>\n",
       "      <td>2.0</td>\n",
       "      <td>37</td>\n",
       "    </tr>\n",
       "    <tr>\n",
       "      <th>12075</th>\n",
       "      <td>2015</td>\n",
       "      <td>14.0</td>\n",
       "      <td>2392.0</td>\n",
       "      <td>0.0</td>\n",
       "      <td>1.0</td>\n",
       "      <td>8</td>\n",
       "      <td>1.0</td>\n",
       "      <td>54110</td>\n",
       "      <td>2.0</td>\n",
       "      <td>8</td>\n",
       "    </tr>\n",
       "  </tbody>\n",
       "</table>\n",
       "<p>12076 rows × 10 columns</p>\n",
       "</div>"
      ],
      "text/plain": [
       "       YEAR  MAKE   MODEL  CONDITION  TRANSMISSION  CYLINDERS  FUEL  ODOMETER  \\\n",
       "0      2011   7.0   667.0        0.0           0.0          6   1.0     12200   \n",
       "1      2012   8.0  2777.0        0.0           1.0          6   1.0    111000   \n",
       "2      2009  21.0  1825.0        0.0           1.0          6   1.0     68650   \n",
       "3      2011   5.0  1786.0        0.0           1.0          6   1.0    123562   \n",
       "4      2008   7.0   801.0        0.0           0.0          4   1.0    138001   \n",
       "...     ...   ...     ...        ...           ...        ...   ...       ...   \n",
       "12071  2015   7.0  2467.0        0.0           1.0          8   0.0    170781   \n",
       "12072  2018  36.0  2697.0        0.0           0.0          6   1.0      9561   \n",
       "12073  2017  13.0  1306.0        0.0           1.0          8   0.0    125780   \n",
       "12074  2017  32.0    33.0        0.0           1.0          8   1.0     21141   \n",
       "12075  2015  14.0  2392.0        0.0           1.0          8   1.0     54110   \n",
       "\n",
       "       ENGINE_POWER  MILAGE  \n",
       "0               0.0       6  \n",
       "1               2.0      11  \n",
       "2               2.0      49  \n",
       "3               1.0      40  \n",
       "4               0.0      33  \n",
       "...             ...     ...  \n",
       "12071           2.0      48  \n",
       "12072           2.0      37  \n",
       "12073           2.0      33  \n",
       "12074           2.0      37  \n",
       "12075           2.0       8  \n",
       "\n",
       "[12076 rows x 10 columns]"
      ]
     },
     "execution_count": 63,
     "metadata": {},
     "output_type": "execute_result"
    }
   ],
   "source": [
    "X = cars_df[predictors]\n",
    "X"
   ]
  },
  {
   "cell_type": "code",
   "execution_count": 64,
   "id": "00cb8e52",
   "metadata": {},
   "outputs": [
    {
     "data": {
      "text/plain": [
       "0        0\n",
       "1        0\n",
       "2        0\n",
       "3        0\n",
       "4        0\n",
       "        ..\n",
       "12071    1\n",
       "12072    1\n",
       "12073    1\n",
       "12074    1\n",
       "12075    1\n",
       "Name: PRICE, Length: 12076, dtype: int64"
      ]
     },
     "execution_count": 64,
     "metadata": {},
     "output_type": "execute_result"
    }
   ],
   "source": [
    "y = cars_df[target]\n",
    "y"
   ]
  },
  {
   "cell_type": "code",
   "execution_count": 65,
   "id": "0816f709",
   "metadata": {},
   "outputs": [],
   "source": [
    "train_X,valid_X,train_y,valid_y = train_test_split(X,y,test_size = 0.3,random_state = 1)"
   ]
  },
  {
   "cell_type": "markdown",
   "id": "45d25a6a",
   "metadata": {},
   "source": [
    "Creating the decision tree using the default parameters"
   ]
  },
  {
   "cell_type": "code",
   "execution_count": 66,
   "id": "42044597",
   "metadata": {},
   "outputs": [],
   "source": [
    "dtree = DecisionTreeClassifier(random_state = 1)"
   ]
  },
  {
   "cell_type": "markdown",
   "id": "0ffd1a27",
   "metadata": {},
   "source": [
    "Fitting the model to train the dataset"
   ]
  },
  {
   "cell_type": "code",
   "execution_count": 67,
   "id": "c7f538dd",
   "metadata": {},
   "outputs": [
    {
     "data": {
      "text/plain": [
       "DecisionTreeClassifier(random_state=1)"
      ]
     },
     "execution_count": 67,
     "metadata": {},
     "output_type": "execute_result"
    }
   ],
   "source": [
    "dtree.fit(train_X,train_y)"
   ]
  },
  {
   "cell_type": "markdown",
   "id": "4b50e951",
   "metadata": {},
   "source": [
    "# Review of the performance of the model on the validation/test data"
   ]
  },
  {
   "cell_type": "code",
   "execution_count": 68,
   "id": "d669c2d1",
   "metadata": {},
   "outputs": [
    {
     "data": {
      "text/plain": [
       "{'ccp_alpha': 0.0,\n",
       " 'class_weight': None,\n",
       " 'criterion': 'gini',\n",
       " 'max_depth': None,\n",
       " 'max_features': None,\n",
       " 'max_leaf_nodes': None,\n",
       " 'min_impurity_decrease': 0.0,\n",
       " 'min_samples_leaf': 1,\n",
       " 'min_samples_split': 2,\n",
       " 'min_weight_fraction_leaf': 0.0,\n",
       " 'random_state': 1,\n",
       " 'splitter': 'best'}"
      ]
     },
     "execution_count": 68,
     "metadata": {},
     "output_type": "execute_result"
    }
   ],
   "source": [
    "dtree.get_params()"
   ]
  },
  {
   "cell_type": "code",
   "execution_count": 69,
   "id": "a0ef5764",
   "metadata": {},
   "outputs": [
    {
     "name": "stdout",
     "output_type": "stream",
     "text": [
      "24\n",
      "869\n"
     ]
    }
   ],
   "source": [
    "print(dtree.get_depth())\n",
    "print(dtree.get_n_leaves())"
   ]
  },
  {
   "cell_type": "code",
   "execution_count": 70,
   "id": "d4875b77",
   "metadata": {},
   "outputs": [
    {
     "name": "stdout",
     "output_type": "stream",
     "text": [
      "Confusion Matrix:  [[1932  170    5]\n",
      " [ 184 1200   41]\n",
      " [   6   46   39]]\n",
      "Accuracy score:  0.875241512558653\n",
      "Precision score:  0.8743370500672324\n",
      "Recall score:  0.875241512558653\n",
      "F1 Score: \n",
      " 0.8747663096764084\n"
     ]
    }
   ],
   "source": [
    "validation_predictions = dtree.predict(valid_X)\n",
    "print('Confusion Matrix: ', confusion_matrix(valid_y, validation_predictions))\n",
    "print('Accuracy score: ', accuracy_score(valid_y, validation_predictions))\n",
    "print('Precision score: ', precision_score(valid_y, validation_predictions, average ='weighted', zero_division=0))\n",
    "#precisionScore_sklearn_microavg = precision_score(valid_y, validation_predictions, average='macro')\n",
    "print('Recall score: ', recall_score(valid_y, validation_predictions,average='weighted'))\n",
    "print('F1 Score: \\n', f1_score(valid_y, validation_predictions,average='weighted'))"
   ]
  },
  {
   "cell_type": "code",
   "execution_count": 71,
   "id": "51e1676c",
   "metadata": {},
   "outputs": [
    {
     "name": "stdout",
     "output_type": "stream",
     "text": [
      "Confusion Matrix:\n",
      " [[4909    0    0]\n",
      " [   0 3338    0]\n",
      " [   0    0  206]]\n",
      "Accuracy score:\n",
      " 1.0\n",
      "Precision score:\n",
      " 1.0\n",
      "Recall score:\n",
      " 1.0\n",
      "F1 Score: \n",
      " 1.0\n"
     ]
    }
   ],
   "source": [
    "train_predictions = dtree.predict(train_X)\n",
    "\n",
    "print('Confusion Matrix:\\n', confusion_matrix(train_y, train_predictions))\n",
    "print('Accuracy score:\\n', accuracy_score(train_y, train_predictions))\n",
    "print('Precision score:\\n', precision_score(train_y, train_predictions,average ='weighted', zero_division=0))\n",
    "print('Recall score:\\n', recall_score(train_y, train_predictions,average ='weighted'))\n",
    "print('F1 Score: \\n', f1_score(train_y, train_predictions,average ='weighted'))"
   ]
  },
  {
   "cell_type": "code",
   "execution_count": 72,
   "id": "5501bb78",
   "metadata": {},
   "outputs": [
    {
     "name": "stdout",
     "output_type": "stream",
     "text": [
      "              precision    recall  f1-score   support\n",
      "\n",
      "           1       0.91      0.92      0.91      2107\n",
      "           0       0.85      0.84      0.84      1425\n",
      "           2       0.46      0.43      0.44        91\n",
      "\n",
      "    accuracy                           0.88      3623\n",
      "   macro avg       0.74      0.73      0.73      3623\n",
      "weighted avg       0.87      0.88      0.87      3623\n",
      "\n"
     ]
    }
   ],
   "source": [
    "print(classification_report(valid_y, dtree.predict(valid_X), target_names=['1','0','2']))"
   ]
  },
  {
   "cell_type": "markdown",
   "id": "2048fd3d",
   "metadata": {},
   "source": [
    "The accuracy of the model using the decision tree technique for validation is 87.5% and The accuracy of the model using the Decision tree technique for the test value is 1."
   ]
  },
  {
   "cell_type": "markdown",
   "id": "46c5413f",
   "metadata": {},
   "source": [
    "## Decision Tree with hyper paramater tuning"
   ]
  },
  {
   "cell_type": "markdown",
   "id": "554aa245",
   "metadata": {},
   "source": [
    "The below paramters are the one that could affect model fit.\n",
    "\n",
    "1.criterion\n",
    "\n",
    "2.max_depth\n",
    "\n",
    "3.min_samples_split\n",
    "\n",
    "4.min_samples_leaf\n",
    "\n",
    "5.max_leaf_nodes\n",
    "\n",
    "6.min_impurity_decrease\n",
    "\n",
    "We have taken them into the consideration."
   ]
  },
  {
   "cell_type": "code",
   "execution_count": 73,
   "id": "8790d650",
   "metadata": {},
   "outputs": [],
   "source": [
    "# Criterion used to guide data splits\n",
    "criterion = ['gini', 'entropy']\n",
    "\n",
    "# Maximum number of levels in tree. If None, then nodes are expanded until all leaves are pure or until all \n",
    "# leaves contain less than min_samples_split samples.\n",
    "# default = None\n",
    "max_depth = [int(x) for x in np.linspace(1, 4000, 15)]\n",
    "max_depth.append(None)\n",
    "\n",
    "# Minimum number of samples required to split a node\n",
    "# default is 2\n",
    "min_samples_split = [int(x) for x in np.linspace(2, 500, 15)]\n",
    "\n",
    "# Minimum number of samples required at each leaf node\n",
    "# default = 1 \n",
    "min_samples_leaf = [int(x) for x in np.linspace(1, 1000, 15)]\n",
    "\n",
    "# max_leaf_nodes  - Grow trees with max_leaf_nodes in best-first fashion.\n",
    "# If None then unlimited number of leaf nodes.\n",
    "# default=None \n",
    "max_leaf_nodes = [int(x) for x in np.linspace(2, len(valid_y), 15)]\n",
    "max_leaf_nodes.append(None)\n",
    "\n",
    "# min_impurity_decrease - A node will be split if this split induces a decrease of the impurity greater than or equal to this value.\n",
    "# default=0.0\n",
    "min_impurity_decrease = [x for x in np.arange(0.0, 0.01, 0.0001).round(5)]\n",
    "\n",
    "# Create the random grid\n",
    "param_grid_random = { 'criterion': criterion,\n",
    "                      'max_depth': max_depth,\n",
    "                      'min_samples_split': min_samples_split,\n",
    "                      'min_samples_leaf' : min_samples_leaf,\n",
    "                      'max_leaf_nodes' : max_leaf_nodes,\n",
    "                      'min_impurity_decrease' : min_impurity_decrease,\n",
    "                     }\n",
    "\n"
   ]
  },
  {
   "cell_type": "code",
   "execution_count": 74,
   "id": "345883af",
   "metadata": {},
   "outputs": [],
   "source": [
    "from sklearn.model_selection import GridSearchCV, RandomizedSearchCV\n",
    "dtree_default = DecisionTreeClassifier(random_state=1)\n",
    "# change n_iter to 200_000 for full run\n",
    "best_random_search_model = RandomizedSearchCV(\n",
    "        estimator=DecisionTreeClassifier(random_state=1), \n",
    "        scoring='accuracy', \n",
    "        param_distributions=param_grid_random, \n",
    "        n_iter = 2000, \n",
    "        cv=10, \n",
    "        verbose=0, \n",
    "        n_jobs = -1\n",
    "    )\n",
    "_ = best_random_search_model.fit(train_X, train_y)"
   ]
  },
  {
   "cell_type": "code",
   "execution_count": 75,
   "id": "63dd1e00",
   "metadata": {},
   "outputs": [
    {
     "name": "stdout",
     "output_type": "stream",
     "text": [
      "Best parameters found:  {'min_samples_split': 2, 'min_samples_leaf': 1, 'min_impurity_decrease': 0.0005, 'max_leaf_nodes': 2588, 'max_depth': 2857, 'criterion': 'entropy'}\n"
     ]
    }
   ],
   "source": [
    "random_search_best_params = best_random_search_model.best_params_\n",
    "print('Best parameters found: ', random_search_best_params)"
   ]
  },
  {
   "cell_type": "code",
   "execution_count": 76,
   "id": "04ed2872-5065-4a69-bb89-6e4ba7d12644",
   "metadata": {},
   "outputs": [
    {
     "name": "stdout",
     "output_type": "stream",
     "text": [
      "Best score is 0.8900977800159471\n"
     ]
    }
   ],
   "source": [
    "print('Best score is {}'.format(best_random_search_model.best_score_))"
   ]
  },
  {
   "cell_type": "markdown",
   "id": "35aadc84",
   "metadata": {},
   "source": [
    "As seen from the above hypertuning model of Decision tree the accuracy of the model has increased from 87.5% to 89.0%"
   ]
  },
  {
   "cell_type": "markdown",
   "id": "431226b7",
   "metadata": {},
   "source": [
    "# Test the performance of the model using identified parameters"
   ]
  },
  {
   "cell_type": "code",
   "execution_count": 77,
   "id": "3702c7d2",
   "metadata": {},
   "outputs": [
    {
     "name": "stdout",
     "output_type": "stream",
     "text": [
      "Confusion Matrix:  [[1710  299   98]\n",
      " [  97  954  374]\n",
      " [   1   27   63]]\n",
      "Accuracy score:\n",
      " 0.7526911399392768\n",
      "Precision score:\n",
      " 0.8461438978590637\n",
      "Recall score:\n",
      " 0.7526911399392768\n",
      "F1 Score: \n",
      " 0.7905196321396081\n"
     ]
    }
   ],
   "source": [
    "validation_predictions = best_random_search_model.predict(valid_X)\n",
    "\n",
    "print('Confusion Matrix: ', confusion_matrix(valid_y, y_pred))\n",
    "print('Accuracy score:\\n', accuracy_score(valid_y, y_pred))\n",
    "print('Precision score:\\n', precision_score(valid_y, y_pred,average ='weighted', zero_division=0))\n",
    "print('Recall score:\\n', recall_score(valid_y, y_pred,average ='weighted'))\n",
    "print('F1 Score: \\n', f1_score(valid_y, y_pred,average ='weighted'))"
   ]
  },
  {
   "cell_type": "code",
   "execution_count": 78,
   "id": "fa20d6d5",
   "metadata": {},
   "outputs": [
    {
     "data": {
      "text/plain": [
       "{'min_samples_split': 2,\n",
       " 'min_samples_leaf': 1,\n",
       " 'min_impurity_decrease': 0.0005,\n",
       " 'max_leaf_nodes': 2588,\n",
       " 'max_depth': 2857,\n",
       " 'criterion': 'entropy'}"
      ]
     },
     "execution_count": 78,
     "metadata": {},
     "output_type": "execute_result"
    }
   ],
   "source": [
    "random_search_best_params"
   ]
  },
  {
   "cell_type": "code",
   "execution_count": 79,
   "id": "77a66971-3a7d-4dd8-a2ff-1617d373e694",
   "metadata": {},
   "outputs": [],
   "source": [
    "dtree_accuracy = accuracy_score(valid_y, y_pred)"
   ]
  },
  {
   "cell_type": "markdown",
   "id": "5f60af35",
   "metadata": {},
   "source": [
    "# Prediction with RandomForest (using default parameters)"
   ]
  },
  {
   "cell_type": "markdown",
   "id": "3e65b1aa",
   "metadata": {},
   "source": [
    "Using random forest with default parameters\n",
    "\n",
    "n_estimators: The number of trees in the forsest\n",
    "    \n",
    "A deeper tree might increase the performance, but also the complexity and chances to overfit.\n",
    "\n",
    "The value must be an integer greater than 0. Default is 100.\n",
    "\n",
    "max_depth: The maximum depth per tree.\n",
    "\n",
    "Deeper trees might increase the performance, but also the complexity and chances to overfit.\n",
    "\n",
    "The value must be an integer greater than 0. Default is None, which allows the tree to grow without constraint."
   ]
  },
  {
   "cell_type": "code",
   "execution_count": 80,
   "id": "6e8970ab",
   "metadata": {},
   "outputs": [],
   "source": [
    "rforest = RandomForestClassifier(random_state=1)"
   ]
  },
  {
   "cell_type": "code",
   "execution_count": 81,
   "id": "13f5c563",
   "metadata": {},
   "outputs": [],
   "source": [
    "_ = rforest.fit(train_X, train_y)"
   ]
  },
  {
   "cell_type": "code",
   "execution_count": 82,
   "id": "959b258c",
   "metadata": {},
   "outputs": [],
   "source": [
    "y_pred = rforest.predict(valid_X)"
   ]
  },
  {
   "cell_type": "code",
   "execution_count": 83,
   "id": "7a0b9b8f",
   "metadata": {},
   "outputs": [
    {
     "name": "stdout",
     "output_type": "stream",
     "text": [
      "Confusion Matrix:  [[1994  113    0]\n",
      " [ 118 1299    8]\n",
      " [   6   55   30]]\n",
      "      Model             Score       \n",
      "Accuracy score:\n",
      " 0.9171956941760971\n",
      "Precision score:\n",
      " 0.915621287604534\n",
      "Recall score:\n",
      " 0.9171956941760971\n",
      "F1 Score: \n",
      " 0.9139577579015159\n"
     ]
    }
   ],
   "source": [
    "print('Confusion Matrix: ', confusion_matrix(valid_y, y_pred))\n",
    "print(f\"{'Model':^18}{'Score':^18}\")\n",
    "print('Accuracy score:\\n', accuracy_score(valid_y, y_pred))\n",
    "print('Precision score:\\n', precision_score(valid_y, y_pred,average ='weighted',zero_division=0))\n",
    "print('Recall score:\\n', recall_score(valid_y, y_pred,average ='weighted'))\n",
    "print('F1 Score: \\n', f1_score(valid_y, y_pred,average ='weighted'))"
   ]
  },
  {
   "cell_type": "markdown",
   "id": "73e0a687",
   "metadata": {},
   "source": [
    "# Prediction with RandomForest (using hyperparameter tuning)"
   ]
  },
  {
   "cell_type": "code",
   "execution_count": 84,
   "id": "2df8348d",
   "metadata": {},
   "outputs": [],
   "source": [
    "# Criterion used to guide data splits\n",
    "criterion = ['gini', 'entropy', 'log_loss']\n",
    "\n",
    "# Maximum number of levels in tree. If None, then nodes are expanded until all leaves are pure or until all \n",
    "# leaves contain less than min_samples_split samples.\n",
    "# default = None\n",
    "max_depth = [int(x) for x in np.linspace(1, 4000, 50)]\n",
    "max_depth.append(None)\n",
    "\n",
    "# Minimum number of samples required to split a node\n",
    "# default is 2\n",
    "min_samples_split = [int(x) for x in np.linspace(2, 500, 50)]\n",
    "\n",
    "# Minimum number of samples required at each leaf node\n",
    "# default = 1 \n",
    "min_samples_leaf = [int(x) for x in np.linspace(1, 1000, 50)]\n",
    "\n",
    "# max_leaf_nodes  - Grow trees with max_leaf_nodes in best-first fashion.\n",
    "# If None then unlimited number of leaf nodes.\n",
    "# default=None \n",
    "max_leaf_nodes = [int(x) for x in np.linspace(2, len(valid_y), 50)]\n",
    "max_leaf_nodes.append(None)\n",
    "\n",
    "# min_impurity_decrease - A node will be split if this split induces a decrease of the impurity greater than or equal to this value.\n",
    "# default=0.0\n",
    "min_impurity_decrease = [x for x in np.arange(0.0, 0.01, 0.0001).round(5)]\n",
    "\n",
    "# Create the random grid\n",
    "param_grid_random = { 'criterion': criterion,\n",
    "                      'max_depth': max_depth,\n",
    "                      'min_samples_split': min_samples_split,\n",
    "                      'min_samples_leaf' : min_samples_leaf,\n",
    "                      'max_leaf_nodes' : max_leaf_nodes,\n",
    "                      'min_impurity_decrease' : min_impurity_decrease,\n",
    "                     }\n",
    "\n"
   ]
  },
  {
   "cell_type": "code",
   "execution_count": 85,
   "id": "8ea34b0e",
   "metadata": {},
   "outputs": [
    {
     "name": "stderr",
     "output_type": "stream",
     "text": [
      "C:\\Users\\User\\anaconda3\\lib\\site-packages\\sklearn\\model_selection\\_validation.py:372: FitFailedWarning: \n",
      "1790 fits failed out of a total of 5000.\n",
      "The score on these train-test partitions for these parameters will be set to nan.\n",
      "If these failures are not expected, you can try to debug them by setting error_score='raise'.\n",
      "\n",
      "Below are more details about the failures:\n",
      "--------------------------------------------------------------------------------\n",
      "1790 fits failed with the following error:\n",
      "Traceback (most recent call last):\n",
      "  File \"C:\\Users\\User\\anaconda3\\lib\\site-packages\\sklearn\\model_selection\\_validation.py\", line 680, in _fit_and_score\n",
      "    estimator.fit(X_train, y_train, **fit_params)\n",
      "  File \"C:\\Users\\User\\anaconda3\\lib\\site-packages\\sklearn\\ensemble\\_forest.py\", line 450, in fit\n",
      "    trees = Parallel(\n",
      "  File \"C:\\Users\\User\\anaconda3\\lib\\site-packages\\joblib\\parallel.py\", line 1043, in __call__\n",
      "    if self.dispatch_one_batch(iterator):\n",
      "  File \"C:\\Users\\User\\anaconda3\\lib\\site-packages\\joblib\\parallel.py\", line 861, in dispatch_one_batch\n",
      "    self._dispatch(tasks)\n",
      "  File \"C:\\Users\\User\\anaconda3\\lib\\site-packages\\joblib\\parallel.py\", line 779, in _dispatch\n",
      "    job = self._backend.apply_async(batch, callback=cb)\n",
      "  File \"C:\\Users\\User\\anaconda3\\lib\\site-packages\\joblib\\_parallel_backends.py\", line 208, in apply_async\n",
      "    result = ImmediateResult(func)\n",
      "  File \"C:\\Users\\User\\anaconda3\\lib\\site-packages\\joblib\\_parallel_backends.py\", line 572, in __init__\n",
      "    self.results = batch()\n",
      "  File \"C:\\Users\\User\\anaconda3\\lib\\site-packages\\joblib\\parallel.py\", line 262, in __call__\n",
      "    return [func(*args, **kwargs)\n",
      "  File \"C:\\Users\\User\\anaconda3\\lib\\site-packages\\joblib\\parallel.py\", line 262, in <listcomp>\n",
      "    return [func(*args, **kwargs)\n",
      "  File \"C:\\Users\\User\\anaconda3\\lib\\site-packages\\sklearn\\utils\\fixes.py\", line 216, in __call__\n",
      "    return self.function(*args, **kwargs)\n",
      "  File \"C:\\Users\\User\\anaconda3\\lib\\site-packages\\sklearn\\ensemble\\_forest.py\", line 185, in _parallel_build_trees\n",
      "    tree.fit(X, y, sample_weight=curr_sample_weight, check_input=False)\n",
      "  File \"C:\\Users\\User\\anaconda3\\lib\\site-packages\\sklearn\\tree\\_classes.py\", line 937, in fit\n",
      "    super().fit(\n",
      "  File \"C:\\Users\\User\\anaconda3\\lib\\site-packages\\sklearn\\tree\\_classes.py\", line 352, in fit\n",
      "    criterion = CRITERIA_CLF[self.criterion](\n",
      "KeyError: 'log_loss'\n",
      "\n",
      "  warnings.warn(some_fits_failed_message, FitFailedWarning)\n",
      "C:\\Users\\User\\anaconda3\\lib\\site-packages\\sklearn\\model_selection\\_search.py:969: UserWarning: One or more of the test scores are non-finite: [0.80255711 0.8059871  0.79959937 0.82160197 0.87081301 0.84230168\n",
      "        nan        nan        nan 0.87258774 0.80160966 0.8169898\n",
      " 0.80279282 0.80255711 0.8064602         nan 0.81142949 0.868803\n",
      " 0.80610601        nan 0.86347993 0.85673731 0.80208318 0.86537328\n",
      " 0.76245191        nan 0.85685188 0.84987117 0.8029113  0.8102455\n",
      " 0.87388812        nan 0.81497811 0.80314798 0.86962902 0.80717123\n",
      " 0.87116888        nan 0.80279282        nan 0.80113713 0.7965237\n",
      " 0.82739897 0.80066376 0.80705275        nan        nan 0.80539609\n",
      " 0.86868466 0.86596122 0.80847203        nan 0.81698966        nan\n",
      " 0.80965434        nan        nan 0.86146838        nan        nan\n",
      "        nan        nan 0.86939192 0.80409403        nan 0.88228727\n",
      "        nan 0.80184635 0.8205387  0.8732957         nan 0.84939779\n",
      " 0.86407123        nan        nan 0.87542742 0.86217396 0.87637361\n",
      " 0.79687831 0.80314757        nan 0.85093597 0.79735127 0.87294109\n",
      " 0.84005651 0.87365073        nan        nan        nan 0.79676081\n",
      "        nan 0.81237652 0.87258564        nan 0.8109564  0.87329794\n",
      "        nan        nan 0.80918111 0.86620113 0.87530698 0.86087666\n",
      " 0.80705247        nan        nan 0.86880132 0.86478213 0.83970176\n",
      " 0.81060095        nan 0.78622994 0.83497055        nan 0.78220739\n",
      "        nan        nan 0.80515898 0.85034887        nan 0.87518906\n",
      "        nan        nan        nan        nan        nan 0.79983563\n",
      " 0.82491488 0.80693441        nan 0.81923888 0.83071272 0.87507253\n",
      " 0.80220152 0.78741296 0.80847203 0.80622379        nan 0.79877069\n",
      " 0.88181627        nan        nan 0.79332872 0.85720495 0.81592499\n",
      "        nan 0.80622337 0.86998587 0.80113727 0.78019584 0.86915621\n",
      " 0.81036468        nan        nan        nan 0.79297341 0.84643963\n",
      " 0.79392099        nan 0.87282303 0.8167527  0.80279268        nan\n",
      " 0.86063648 0.80279379        nan        nan        nan        nan\n",
      "        nan        nan 0.81095584        nan 0.82964679 0.81474212\n",
      "        nan        nan        nan 0.80929959 0.80740722 0.79758781\n",
      "        nan 0.85247555        nan        nan        nan        nan\n",
      " 0.87341419        nan 0.86288836 0.81840936 0.80054597 0.80740722\n",
      " 0.80717067 0.80468659 0.83840027        nan 0.80421377 0.79439395\n",
      " 0.86501728        nan 0.7993631  0.88004169        nan 0.80149188\n",
      "        nan        nan 0.79664205        nan 0.80515856        nan\n",
      " 0.85377691 0.7839831         nan 0.87258858 0.87294375 0.80799838\n",
      " 0.86217396        nan 0.80113727 0.87092968 0.8068162  0.8154519\n",
      " 0.85282891 0.79463063        nan 0.79723292        nan 0.851291\n",
      " 0.80161022 0.84892848 0.80811728        nan 0.80445018 0.80870858\n",
      "        nan 0.8680914  0.8006639  0.87743702 0.81119169 0.81450515\n",
      "        nan        nan        nan 0.87258537        nan 0.80172885\n",
      " 0.77960482        nan 0.81628058 0.797115          nan 0.78197113\n",
      " 0.86241163        nan 0.80634185 0.80764433 0.86182313 0.86738022\n",
      " 0.80740736        nan        nan 0.8066966  0.88252591 0.8072886\n",
      "        nan 0.78587491 0.78220739        nan 0.81154769 0.86963042\n",
      " 0.79877055        nan 0.86170548 0.79794284        nan        nan\n",
      " 0.81060207        nan        nan        nan 0.79853442 0.85378055\n",
      " 0.8673833  0.85117252        nan 0.79723292 0.87684768        nan\n",
      " 0.79936296 0.7581945         nan 0.8644264  0.80539525 0.80728832\n",
      " 0.79167247        nan        nan        nan 0.80042721        nan\n",
      " 0.87495293 0.80078168        nan 0.80930029        nan 0.75736623\n",
      " 0.86844769 0.86442528 0.80232042 0.87365353        nan        nan\n",
      " 0.85318547 0.77960482        nan        nan        nan        nan\n",
      "        nan 0.8074075         nan 0.82645306 0.8124943  0.80362122\n",
      "        nan 0.83662666 0.85094073 0.78528488 0.80717095 0.86407165\n",
      " 0.80184719 0.81048386        nan 0.80397653 0.80019052        nan\n",
      " 0.8066973  0.8058689         nan 0.86312504 0.83000378 0.81367717\n",
      " 0.81805573        nan 0.80090086 0.78019584        nan        nan\n",
      " 0.80894596 0.89328983        nan 0.80788087        nan 0.80243849\n",
      " 0.87211311        nan 0.86122792 0.8613471  0.81545232 0.86028537\n",
      " 0.86537259        nan        nan 0.7941574  0.87211507        nan\n",
      "        nan 0.8013734         nan 0.80811756        nan        nan\n",
      "        nan 0.84147355 0.86075944 0.8309508  0.87530726 0.87542658\n",
      "        nan        nan 0.84609062 0.79451201        nan 0.80421293\n",
      "        nan 0.79640578 0.81557024 0.87353267 0.80137382 0.80894582\n",
      "        nan 0.7969968  0.85425056 0.874479   0.8199474  0.86560913\n",
      "        nan        nan 0.86347993 0.85614126 0.80279282        nan\n",
      " 0.80137326 0.87033852 0.81095682 0.80705233        nan 0.80717053\n",
      "        nan        nan        nan 0.81557052        nan 0.80575028\n",
      " 0.80385846 0.86406773 0.84975366 0.80646076 0.78019584 0.81166674\n",
      " 0.87507393 0.80930057        nan 0.86750164 0.81639879 0.82467805\n",
      " 0.87021906 0.87010338        nan 0.78019584 0.79616825 0.80563291\n",
      "        nan        nan 0.8593389  0.87424483        nan        nan\n",
      "        nan        nan 0.83970274        nan        nan 0.80220264\n",
      "        nan 0.78705821 0.78279911        nan        nan 0.80338467\n",
      "        nan        nan        nan 0.7881233  0.80527802 0.81864507\n",
      " 0.80397597 0.79936268 0.86253361        nan 0.86276945 0.81852784\n",
      "        nan 0.86537231        nan        nan 0.80208318 0.80078224\n",
      " 0.8454989  0.80172885 0.85957643 0.797115   0.78291745 0.7941574\n",
      " 0.87649083        nan 0.8718788         nan 0.80799852 0.79888945\n",
      " 0.87365143        nan 0.86679005 0.81107446        nan 0.87448123\n",
      "        nan 0.82491488        nan        nan        nan        nan\n",
      "        nan 0.87353253 0.80161036 0.80705261 0.79723334 0.87530894\n",
      " 0.80527816        nan]\n",
      "  warnings.warn(\n"
     ]
    }
   ],
   "source": [
    "rforest = RandomForestClassifier(random_state=1)\n",
    "\n",
    "best_random_search_model = RandomizedSearchCV(\n",
    "        estimator=RandomForestClassifier(random_state=1), \n",
    "        scoring='accuracy', \n",
    "        param_distributions=param_grid_random, \n",
    "        n_iter = 500, \n",
    "        cv=10, \n",
    "        verbose=0, \n",
    "        n_jobs = -1\n",
    "    )\n",
    "_ = best_random_search_model.fit(train_X, train_y)"
   ]
  },
  {
   "cell_type": "code",
   "execution_count": 86,
   "id": "e7c4884c",
   "metadata": {},
   "outputs": [
    {
     "name": "stdout",
     "output_type": "stream",
     "text": [
      "Best parameters found:  {'min_samples_split': 42, 'min_samples_leaf': 1, 'min_impurity_decrease': 0.0011, 'max_leaf_nodes': 445, 'max_depth': None, 'criterion': 'entropy'}\n"
     ]
    }
   ],
   "source": [
    "random_search_best_params = best_random_search_model.best_params_\n",
    "print('Best parameters found: ', random_search_best_params)"
   ]
  },
  {
   "cell_type": "code",
   "execution_count": 87,
   "id": "504efd8c-9c45-486b-9667-81855f1d6134",
   "metadata": {},
   "outputs": [
    {
     "name": "stdout",
     "output_type": "stream",
     "text": [
      "Best score is 0.8932898289199436\n"
     ]
    }
   ],
   "source": [
    "print('Best score is {}'.format(best_random_search_model.best_score_))"
   ]
  },
  {
   "cell_type": "code",
   "execution_count": 88,
   "id": "fe5a10b7",
   "metadata": {},
   "outputs": [
    {
     "name": "stdout",
     "output_type": "stream",
     "text": [
      "Confusion Matrix:  [[1982  125    0]\n",
      " [ 152 1273    0]\n",
      " [   6   85    0]]\n",
      "Accuracy score:\n",
      " 0.8984267181893458\n",
      "Precision score:\n",
      " 0.8762488352717361\n",
      "Recall score:\n",
      " 0.8984267181893458\n",
      "F1 Score: \n",
      " 0.8871679611517417\n"
     ]
    }
   ],
   "source": [
    "y_pred = best_random_search_model.predict(valid_X)\n",
    "print('Confusion Matrix: ', confusion_matrix(valid_y, y_pred))\n",
    "print('Accuracy score:\\n', accuracy_score(valid_y, y_pred))\n",
    "print('Precision score:\\n', precision_score(valid_y, y_pred,average ='weighted', zero_division=0))\n",
    "print('Recall score:\\n', recall_score(valid_y, y_pred,average ='weighted'))\n",
    "print('F1 Score: \\n', f1_score(valid_y, y_pred,average ='weighted'))\n"
   ]
  },
  {
   "cell_type": "code",
   "execution_count": 89,
   "id": "62a90d4c-ebbf-47a2-845c-9540176e0cce",
   "metadata": {},
   "outputs": [],
   "source": [
    "rforest_accuracy = accuracy_score(valid_y, y_pred)"
   ]
  },
  {
   "cell_type": "markdown",
   "id": "a1f8ef7a",
   "metadata": {},
   "source": [
    "The accuracy of random forest algorithm with default values came out to be 91% and with the usage of hyperparameter tuning it turned out to be 89.8% which is less than default values "
   ]
  },
  {
   "cell_type": "markdown",
   "id": "f814ddf8",
   "metadata": {},
   "source": [
    "# Prediction with ADABoost (using default parameters)"
   ]
  },
  {
   "cell_type": "markdown",
   "id": "b237ec4a",
   "metadata": {},
   "source": [
    "Using ADA Boost:\n",
    "\n",
    "* max_depth: The maximum depth per tree. \n",
    "    - A deeper tree might increase the performance, but also the complexity and chances to overfit.\n",
    "    - The value must be an integer greater than 0. Default is None (meaning, the tree can grow to a point where all leaves have 1 observation).\n",
    "* learning_rate: The learning rate determines the step size at each iteration while your model optimizes toward its objective. \n",
    "    - A low learning rate makes computation slower, and requires more rounds to achieve the same reduction in residual error as a model with a high learning rate. But it optimizes the chances to reach the best optimum.\n",
    "    - Larger learning rates may not converge on a solution.\n",
    "    - The value must be between 0 and 1. Default is 0.3.\n",
    "* n_estimators: The number of trees in our ensemble. \n",
    "    - Equivalent to the number of boosting rounds.\n",
    "    - The value must be an integer greater than 0. Default is 100."
   ]
  },
  {
   "cell_type": "code",
   "execution_count": 90,
   "id": "700dd335",
   "metadata": {},
   "outputs": [],
   "source": [
    "aboost = AdaBoostClassifier(random_state=1)\n",
    "\n",
    "#aboost = AdaBoostClassifier(random_state=random_seed, base_estimator=DecisionTreeClassifier(max_depth=4, random_state=random_seed))\n",
    "#aboost = AdaBoostClassifier(random_state=random_seed, n_estimators=1000)"
   ]
  },
  {
   "cell_type": "code",
   "execution_count": 91,
   "id": "402d9df7",
   "metadata": {},
   "outputs": [],
   "source": [
    "_ = aboost.fit(train_X, train_y)"
   ]
  },
  {
   "cell_type": "code",
   "execution_count": 92,
   "id": "70eb1c04",
   "metadata": {},
   "outputs": [],
   "source": [
    "y_pred = aboost.predict(valid_X)"
   ]
  },
  {
   "cell_type": "code",
   "execution_count": 93,
   "id": "97b7d153",
   "metadata": {
    "scrolled": true,
    "tags": []
   },
   "outputs": [
    {
     "name": "stdout",
     "output_type": "stream",
     "text": [
      "Confusion Matrix:  [[1950  153    4]\n",
      " [ 206 1209   10]\n",
      " [   5   84    2]]\n",
      "Accuracy score:\n",
      " 0.8724813690311897\n",
      "Precision score:\n",
      " 0.8567732452978626\n",
      "Recall score:\n",
      " 0.8724813690311897\n",
      "F1 Score: \n",
      " 0.8636176184001552\n"
     ]
    }
   ],
   "source": [
    "print('Confusion Matrix: ', confusion_matrix(valid_y, y_pred))\n",
    "print('Accuracy score:\\n', accuracy_score(valid_y, y_pred))\n",
    "print('Precision score:\\n', precision_score(valid_y, y_pred,average ='weighted', zero_division=0))\n",
    "print('Recall score:\\n', recall_score(valid_y, y_pred,average ='weighted'))\n",
    "print('F1 Score: \\n', f1_score(valid_y, y_pred,average ='weighted'))\n"
   ]
  },
  {
   "cell_type": "markdown",
   "id": "7ce4cf57",
   "metadata": {},
   "source": [
    "The accuracy score in ADABoost came out to be 87.2% with the default parameters."
   ]
  },
  {
   "cell_type": "markdown",
   "id": "75493d8e",
   "metadata": {},
   "source": [
    "# Prediction with ADABoost (using hyperparameter tuning)"
   ]
  },
  {
   "cell_type": "code",
   "execution_count": 94,
   "id": "b569f559",
   "metadata": {},
   "outputs": [],
   "source": [
    "# Criterion used to guide data splits\n",
    "criterion = ['gini', 'entropy']\n",
    "\n",
    "n_estimators = [int(x) for x in np.linspace(1, 4000, 50)]\n",
    "n_estimators.append(None)\n",
    "\n",
    "\n",
    "learning_rate = [(0.97 + x / 100) for x in range(0, 10)]\n",
    "\n",
    "# Create the random grid\n",
    "param_grid_random = { #'criterion': criterion,\n",
    "                      \n",
    "                     'n_estimators': n_estimators,\n",
    "                     'learning_rate': learning_rate,                     \n",
    "                     #'algorithm': algorithm,                     \n",
    "                      #'min_samples_split': min_samples_split,\n",
    "                      #'min_samples_leaf' : min_samples_leaf,\n",
    "                      #'max_leaf_nodes' : max_leaf_nodes,\n",
    "                      #'min_impurity_decrease' : min_impurity_decrease,\n",
    "                     }\n"
   ]
  },
  {
   "cell_type": "code",
   "execution_count": 95,
   "id": "7ef3693b-b61d-4382-b5fe-0c6b0d3bd81c",
   "metadata": {},
   "outputs": [
    {
     "data": {
      "text/plain": [
       "dict_keys(['algorithm', 'base_estimator', 'learning_rate', 'n_estimators', 'random_state'])"
      ]
     },
     "execution_count": 95,
     "metadata": {},
     "output_type": "execute_result"
    }
   ],
   "source": [
    "estimator= AdaBoostClassifier(random_state= 1)\n",
    "estimator.get_params().keys()"
   ]
  },
  {
   "cell_type": "code",
   "execution_count": 96,
   "id": "738e3191",
   "metadata": {},
   "outputs": [
    {
     "name": "stderr",
     "output_type": "stream",
     "text": [
      "C:\\Users\\User\\anaconda3\\lib\\site-packages\\sklearn\\model_selection\\_validation.py:372: FitFailedWarning: \n",
      "10 fits failed out of a total of 500.\n",
      "The score on these train-test partitions for these parameters will be set to nan.\n",
      "If these failures are not expected, you can try to debug them by setting error_score='raise'.\n",
      "\n",
      "Below are more details about the failures:\n",
      "--------------------------------------------------------------------------------\n",
      "10 fits failed with the following error:\n",
      "Traceback (most recent call last):\n",
      "  File \"C:\\Users\\User\\anaconda3\\lib\\site-packages\\sklearn\\model_selection\\_validation.py\", line 680, in _fit_and_score\n",
      "    estimator.fit(X_train, y_train, **fit_params)\n",
      "  File \"C:\\Users\\User\\anaconda3\\lib\\site-packages\\sklearn\\ensemble\\_weight_boosting.py\", line 486, in fit\n",
      "    return super().fit(X, y, sample_weight)\n",
      "  File \"C:\\Users\\User\\anaconda3\\lib\\site-packages\\sklearn\\ensemble\\_weight_boosting.py\", line 132, in fit\n",
      "    self._validate_estimator()\n",
      "  File \"C:\\Users\\User\\anaconda3\\lib\\site-packages\\sklearn\\ensemble\\_weight_boosting.py\", line 490, in _validate_estimator\n",
      "    super()._validate_estimator(default=DecisionTreeClassifier(max_depth=1))\n",
      "  File \"C:\\Users\\User\\anaconda3\\lib\\site-packages\\sklearn\\ensemble\\_base.py\", line 131, in _validate_estimator\n",
      "    raise ValueError(\n",
      "ValueError: n_estimators must be an integer, got <class 'NoneType'>.\n",
      "\n",
      "  warnings.warn(some_fits_failed_message, FitFailedWarning)\n",
      "C:\\Users\\User\\anaconda3\\lib\\site-packages\\sklearn\\model_selection\\_search.py:969: UserWarning: One or more of the test scores are non-finite: [0.83141508 0.81686041 0.82490565 0.82324856 0.83318953 0.82892764\n",
      " 0.82443395 0.8299944  0.82975772 0.8282201  0.82822094 0.82443311\n",
      " 0.75665785 0.82952117 0.82218501 0.83449019 0.84986375 0.8223035\n",
      " 0.82810189 0.82478828 0.85022284 0.82810161 0.8277456  0.83461077\n",
      " 0.8150847  0.82751074 0.83034985        nan 0.82951907 0.82526068\n",
      " 0.82609188 0.83342538 0.82668317 0.82597213 0.86075244 0.82928546\n",
      " 0.81461273 0.82774672 0.82715892 0.8254982  0.82822108 0.75665785\n",
      " 0.82289521 0.82940045 0.82987662 0.83011191 0.82810147 0.82301523\n",
      " 0.82502581 0.82881307]\n",
      "  warnings.warn(\n"
     ]
    }
   ],
   "source": [
    "aboost = AdaBoostClassifier(random_state=1)\n",
    "best_random_search_model = RandomizedSearchCV(\n",
    "        estimator= AdaBoostClassifier(random_state=1), \n",
    "        scoring='accuracy', \n",
    "        param_distributions=param_grid_random, \n",
    "        n_iter = 50, \n",
    "        cv=10, \n",
    "        verbose=0, \n",
    "        n_jobs = -1\n",
    "    )\n",
    "_ = best_random_search_model.fit(train_X, train_y)"
   ]
  },
  {
   "cell_type": "code",
   "execution_count": 97,
   "id": "0836b681",
   "metadata": {},
   "outputs": [
    {
     "name": "stdout",
     "output_type": "stream",
     "text": [
      "Best parameters found:  {'n_estimators': 164, 'learning_rate': 1.0}\n"
     ]
    }
   ],
   "source": [
    "random_search_best_params = best_random_search_model.best_params_\n",
    "print('Best parameters found: ', random_search_best_params)"
   ]
  },
  {
   "cell_type": "code",
   "execution_count": 98,
   "id": "e2f892d5",
   "metadata": {},
   "outputs": [
    {
     "name": "stdout",
     "output_type": "stream",
     "text": [
      "Confusion Matrix:  [[1934  170    3]\n",
      " [ 171 1240   14]\n",
      " [   4   78    9]]\n",
      "Accuracy score:\n",
      " 0.8785536847916091\n",
      "Precision score:\n",
      " 0.8697670315840778\n",
      "Recall score:\n",
      " 0.8785536847916091\n",
      "F1 Score: \n",
      " 0.8722784512827153\n"
     ]
    }
   ],
   "source": [
    "y_pred = best_random_search_model.predict(valid_X)\n",
    "print('Confusion Matrix: ', confusion_matrix(valid_y, y_pred))\n",
    "print('Accuracy score:\\n', accuracy_score(valid_y, y_pred))\n",
    "print('Precision score:\\n', precision_score(valid_y, y_pred,average ='weighted', zero_division=0))\n",
    "print('Recall score:\\n', recall_score(valid_y, y_pred,average ='weighted'))\n",
    "print('F1 Score: \\n', f1_score(valid_y, y_pred,average ='weighted'))"
   ]
  },
  {
   "cell_type": "markdown",
   "id": "d2a16733",
   "metadata": {},
   "source": [
    "The accuracy of the ADABoost with hyperparameter turned out to be 87.8% which is the sight increase then the default values "
   ]
  },
  {
   "cell_type": "code",
   "execution_count": 99,
   "id": "d0e56241",
   "metadata": {},
   "outputs": [],
   "source": [
    "aboost_accuracy = accuracy_score(valid_y, y_pred)"
   ]
  },
  {
   "cell_type": "markdown",
   "id": "fc3d8fd0",
   "metadata": {},
   "source": [
    "# Prediction with GradientBoostingClassifier (using default parameters)"
   ]
  },
  {
   "cell_type": "code",
   "execution_count": 100,
   "id": "d4de3bdb",
   "metadata": {},
   "outputs": [],
   "source": [
    "gboost = GradientBoostingClassifier(random_state=1)"
   ]
  },
  {
   "cell_type": "code",
   "execution_count": 101,
   "id": "21005e27",
   "metadata": {},
   "outputs": [],
   "source": [
    "_ = gboost.fit(train_X, train_y)"
   ]
  },
  {
   "cell_type": "code",
   "execution_count": 102,
   "id": "3d35c4e6",
   "metadata": {},
   "outputs": [],
   "source": [
    "y_pred = gboost.predict(valid_X)"
   ]
  },
  {
   "cell_type": "code",
   "execution_count": 103,
   "id": "082ec634",
   "metadata": {},
   "outputs": [
    {
     "name": "stdout",
     "output_type": "stream",
     "text": [
      "Confusion Matrix:  [[1985  121    1]\n",
      " [ 127 1291    7]\n",
      " [   5   64   22]]\n",
      "Accuracy score:\n",
      " 0.9102953353574386\n",
      "Precision score:\n",
      " 0.9077419634586277\n",
      "Recall score:\n",
      " 0.9102953353574386\n",
      "F1 Score: \n",
      " 0.9057950883416322\n"
     ]
    }
   ],
   "source": [
    "print('Confusion Matrix: ', confusion_matrix(valid_y, y_pred))\n",
    "print('Accuracy score:\\n', accuracy_score(valid_y, y_pred))\n",
    "print('Precision score:\\n', precision_score(valid_y, y_pred,average ='weighted', zero_division=0))\n",
    "print('Recall score:\\n', recall_score(valid_y, y_pred,average ='weighted'))\n",
    "print('F1 Score: \\n', f1_score(valid_y, y_pred,average ='weighted'))"
   ]
  },
  {
   "cell_type": "markdown",
   "id": "6b578197",
   "metadata": {},
   "source": [
    "Accuracy score of Gradient Boost Classifier with default values is 91%."
   ]
  },
  {
   "cell_type": "markdown",
   "id": "aac6ba52",
   "metadata": {},
   "source": [
    "# Prediction with GradientBoostingClassifier (using hyperparameter tuning)"
   ]
  },
  {
   "cell_type": "code",
   "execution_count": 104,
   "id": "7f9bf7e2",
   "metadata": {},
   "outputs": [],
   "source": [
    "# Criterion used to guide data splits\n",
    "criterion = ['squared_error']\n",
    "\n",
    "# Maximum number of levels in tree. If None, then nodes are expanded until all leaves are pure or until all \n",
    "# leaves contain less than min_samples_split samples.\n",
    "# default = None\n",
    "max_depth = [int(x) for x in np.linspace(1, 4000, 50)]\n",
    "max_depth.append(None)\n",
    "\n",
    "# Minimum number of samples required to split a node\n",
    "# default is 2\n",
    "min_samples_split = [int(x) for x in np.linspace(2, 500, 50)]\n",
    "\n",
    "# Minimum number of samples required at each leaf node\n",
    "# default = 1 \n",
    "min_samples_leaf = [int(x) for x in np.linspace(1, 1000, 50)]\n",
    "\n",
    "# max_leaf_nodes  - Grow trees with max_leaf_nodes in best-first fashion.\n",
    "# If None then unlimited number of leaf nodes.\n",
    "# default=None \n",
    "max_leaf_nodes = [int(x) for x in np.linspace(2, len(valid_y), 50)]\n",
    "max_leaf_nodes.append(None)\n",
    "# min_impurity_decrease - A node will be split if this split induces a decrease of the impurity greater than or equal to this value.\n",
    "# default=0.0\n",
    "min_impurity_decrease = [x for x in np.arange(0.0, 0.01, 0.0001).round(5)]\n",
    "\n",
    "# Create the random grid\n",
    "param_grid_random = { 'criterion': criterion,\n",
    "                      'max_depth': max_depth,\n",
    "                      'min_samples_split': min_samples_split,\n",
    "                      'min_samples_leaf' : min_samples_leaf,\n",
    "                      'max_leaf_nodes' : max_leaf_nodes,\n",
    "                      'min_impurity_decrease' : min_impurity_decrease,\n",
    "                     }\n"
   ]
  },
  {
   "cell_type": "code",
   "execution_count": 105,
   "id": "4b3f9bce",
   "metadata": {},
   "outputs": [],
   "source": [
    "gboost = GradientBoostingClassifier(random_state=1)\n",
    "\n",
    "best_random_search_model = RandomizedSearchCV(\n",
    "        estimator=GradientBoostingClassifier(random_state=1), \n",
    "        scoring='accuracy', \n",
    "        param_distributions=param_grid_random, \n",
    "        n_iter = 125, \n",
    "        cv=10, \n",
    "        verbose=0, \n",
    "        n_jobs = -1\n",
    "    )\n",
    "_ = best_random_search_model.fit(train_X, train_y)"
   ]
  },
  {
   "cell_type": "code",
   "execution_count": 106,
   "id": "9a5874e3",
   "metadata": {},
   "outputs": [
    {
     "name": "stdout",
     "output_type": "stream",
     "text": [
      "Best parameters found:  {'min_samples_split': 378, 'min_samples_leaf': 21, 'min_impurity_decrease': 0.0001, 'max_leaf_nodes': 2588, 'max_depth': 1633, 'criterion': 'squared_error'}\n"
     ]
    }
   ],
   "source": [
    "random_search_best_params = best_random_search_model.best_params_\n",
    "print('Best parameters found: ', random_search_best_params)"
   ]
  },
  {
   "cell_type": "code",
   "execution_count": 107,
   "id": "8001b7e4-78c1-4f73-9ab9-0b76f8581748",
   "metadata": {},
   "outputs": [
    {
     "name": "stdout",
     "output_type": "stream",
     "text": [
      "Best score is 0.9027532278596109\n"
     ]
    }
   ],
   "source": [
    "print('Best score is {}'.format(best_random_search_model.best_score_))"
   ]
  },
  {
   "cell_type": "code",
   "execution_count": 108,
   "id": "b9ef8d35",
   "metadata": {},
   "outputs": [
    {
     "name": "stdout",
     "output_type": "stream",
     "text": [
      "Confusion Matrix:  [[1984  123    0]\n",
      " [ 138 1281    6]\n",
      " [   3   75   13]]\n",
      "Accuracy score:\n",
      " 0.9047750483025118\n",
      "Precision score:\n",
      " 0.9008243775216292\n",
      "Recall score:\n",
      " 0.9047750483025118\n",
      "F1 Score: \n",
      " 0.8982197846116959\n"
     ]
    }
   ],
   "source": [
    "y_pred = best_random_search_model.predict(valid_X)\n",
    "print('Confusion Matrix: ', confusion_matrix(valid_y, y_pred))\n",
    "print('Accuracy score:\\n', accuracy_score(valid_y, y_pred))\n",
    "print('Precision score:\\n', precision_score(valid_y, y_pred,average ='weighted',zero_division=0))\n",
    "print('Recall score:\\n', recall_score(valid_y, y_pred,average ='weighted'))\n",
    "print('F1 Score: \\n', f1_score(valid_y, y_pred,average ='weighted'))"
   ]
  },
  {
   "cell_type": "markdown",
   "id": "c7ec439f",
   "metadata": {},
   "source": [
    "Accuracy score of Gradient Boost Classifier with hyperparameter tuning is 90% which is a slight decrease from the default values"
   ]
  },
  {
   "cell_type": "code",
   "execution_count": 109,
   "id": "1aed6475-4cdf-4c11-8f4f-7bdba556320d",
   "metadata": {},
   "outputs": [],
   "source": [
    "gboost_accuracy = accuracy_score(valid_y, y_pred)"
   ]
  },
  {
   "cell_type": "markdown",
   "id": "21428bff",
   "metadata": {},
   "source": [
    "# Prediction with XGBoost (using default parameters)"
   ]
  },
  {
   "cell_type": "code",
   "execution_count": 110,
   "id": "a37864df",
   "metadata": {},
   "outputs": [],
   "source": [
    "xgboost = XGBClassifier(random_state=1)"
   ]
  },
  {
   "cell_type": "code",
   "execution_count": 111,
   "id": "5999134d",
   "metadata": {},
   "outputs": [
    {
     "name": "stdout",
     "output_type": "stream",
     "text": [
      "[21:52:08] WARNING: C:\\Windows\\Temp\\abs_557yfx631l\\croots\\recipe\\xgboost-split_1659548953302\\work\\src\\learner.cc:1115: Starting in XGBoost 1.3.0, the default evaluation metric used with the objective 'multi:softprob' was changed from 'merror' to 'mlogloss'. Explicitly set eval_metric if you'd like to restore the old behavior.\n"
     ]
    },
    {
     "name": "stderr",
     "output_type": "stream",
     "text": [
      "C:\\Users\\User\\anaconda3\\lib\\site-packages\\xgboost\\sklearn.py:1224: UserWarning: The use of label encoder in XGBClassifier is deprecated and will be removed in a future release. To remove this warning, do the following: 1) Pass option use_label_encoder=False when constructing XGBClassifier object; and 2) Encode your labels (y) as integers starting with 0, i.e. 0, 1, 2, ..., [num_class - 1].\n",
      "  warnings.warn(label_encoder_deprecation_msg, UserWarning)\n",
      "C:\\Users\\User\\anaconda3\\lib\\site-packages\\xgboost\\data.py:250: FutureWarning: pandas.Int64Index is deprecated and will be removed from pandas in a future version. Use pandas.Index with the appropriate dtype instead.\n",
      "  elif isinstance(data.columns, (pd.Int64Index, pd.RangeIndex)):\n"
     ]
    }
   ],
   "source": [
    "_ = xgboost.fit(train_X, train_y)"
   ]
  },
  {
   "cell_type": "code",
   "execution_count": 112,
   "id": "c5f13977",
   "metadata": {},
   "outputs": [],
   "source": [
    "y_pred = xgboost.predict(valid_X)"
   ]
  },
  {
   "cell_type": "code",
   "execution_count": 113,
   "id": "da7ee60f",
   "metadata": {},
   "outputs": [
    {
     "name": "stdout",
     "output_type": "stream",
     "text": [
      "Confusion Matrix:  [[2003  103    1]\n",
      " [ 116 1297   12]\n",
      " [   4   51   36]]\n",
      "Accuracy score:\n",
      " 0.9207838807617996\n",
      "Precision score:\n",
      " 0.9187195693276116\n",
      "Recall score:\n",
      " 0.9207838807617996\n",
      "F1 Score: \n",
      " 0.9184372971921907\n"
     ]
    }
   ],
   "source": [
    "print('Confusion Matrix: ', confusion_matrix(valid_y, y_pred))\n",
    "print('Accuracy score:\\n', accuracy_score(valid_y, y_pred))\n",
    "print('Precision score:\\n', precision_score(valid_y, y_pred,average ='weighted', zero_division=0))\n",
    "print('Recall score:\\n', recall_score(valid_y, y_pred,average ='weighted'))\n",
    "print('F1 Score: \\n', f1_score(valid_y, y_pred,average ='weighted'))"
   ]
  },
  {
   "cell_type": "markdown",
   "id": "bbe482df",
   "metadata": {},
   "source": [
    "The accuracy of XGBoost algorithm with the default value is 92%."
   ]
  },
  {
   "cell_type": "markdown",
   "id": "c6f66ab8",
   "metadata": {},
   "source": [
    "# Prediction with XGBoostingClassifier (using hyperparameter tuning)"
   ]
  },
  {
   "cell_type": "code",
   "execution_count": 114,
   "id": "b302c269",
   "metadata": {},
   "outputs": [],
   "source": [
    "# Criterion used to guide data splits\n",
    "criterion = ['gini', 'entropy']\n",
    "max_depth = [int(x) for x in np.linspace(1, 4000, 50)]\n",
    "max_depth.append(None)\n",
    "\n",
    "# Minimum number of samples required to split a node\n",
    "# default is 2\n",
    "min_samples_split = [int(x) for x in np.linspace(2, 500, 50)]\n",
    "\n",
    "# Minimum number of samples required at each leaf node\n",
    "# default = 1 \n",
    "min_samples_leaf = [int(x) for x in np.linspace(1, 1000, 50)]\n",
    "\n",
    "# max_leaf_nodes  - Grow trees with max_leaf_nodes in best-first fashion.\n",
    "# If None then unlimited number of leaf nodes.\n",
    "# default=None \n",
    "max_leaf_nodes = [int(x) for x in np.linspace(2, len(valid_y), 50)]\n",
    "max_leaf_nodes.append(None)\n",
    "# min_impurity_decrease - A node will be split if this split induces a decrease of the impurity greater than or equal to this value.\n",
    "# default=0.0\n",
    "min_impurity_decrease = [x for x in np.arange(0.0, 0.01, 0.0001).round(5)]\n",
    "\n",
    "# Create the random grid\n",
    "param_grid_random = { 'criterion': criterion,\n",
    "                      'max_depth': max_depth,\n",
    "                      'min_samples_split': min_samples_split,\n",
    "                      'min_samples_leaf' : min_samples_leaf,\n",
    "                      'max_leaf_nodes' : max_leaf_nodes,\n",
    "                      'min_impurity_decrease' : min_impurity_decrease,\n",
    "                     }\n"
   ]
  },
  {
   "cell_type": "code",
   "execution_count": 115,
   "id": "d663b70b",
   "metadata": {},
   "outputs": [
    {
     "name": "stdout",
     "output_type": "stream",
     "text": [
      "Fitting 10 folds for each of 50 candidates, totalling 500 fits\n"
     ]
    },
    {
     "name": "stderr",
     "output_type": "stream",
     "text": [
      "C:\\Users\\User\\anaconda3\\lib\\site-packages\\xgboost\\sklearn.py:1224: UserWarning: The use of label encoder in XGBClassifier is deprecated and will be removed in a future release. To remove this warning, do the following: 1) Pass option use_label_encoder=False when constructing XGBClassifier object; and 2) Encode your labels (y) as integers starting with 0, i.e. 0, 1, 2, ..., [num_class - 1].\n",
      "  warnings.warn(label_encoder_deprecation_msg, UserWarning)\n",
      "C:\\Users\\User\\anaconda3\\lib\\site-packages\\xgboost\\data.py:250: FutureWarning: pandas.Int64Index is deprecated and will be removed from pandas in a future version. Use pandas.Index with the appropriate dtype instead.\n",
      "  elif isinstance(data.columns, (pd.Int64Index, pd.RangeIndex)):\n"
     ]
    },
    {
     "name": "stdout",
     "output_type": "stream",
     "text": [
      "[22:02:35] WARNING: C:\\Windows\\Temp\\abs_557yfx631l\\croots\\recipe\\xgboost-split_1659548953302\\work\\src\\learner.cc:576: \n",
      "Parameters: { \"criterion\", \"max_leaf_nodes\", \"min_impurity_decrease\", \"min_samples_leaf\", \"min_samples_split\" } might not be used.\n",
      "\n",
      "  This could be a false alarm, with some parameters getting used by language bindings but\n",
      "  then being mistakenly passed down to XGBoost core, or some parameter actually being used\n",
      "  but getting flagged wrongly here. Please open an issue if you find any such cases.\n",
      "\n",
      "\n",
      "[22:02:35] WARNING: C:\\Windows\\Temp\\abs_557yfx631l\\croots\\recipe\\xgboost-split_1659548953302\\work\\src\\learner.cc:1115: Starting in XGBoost 1.3.0, the default evaluation metric used with the objective 'multi:softprob' was changed from 'merror' to 'mlogloss'. Explicitly set eval_metric if you'd like to restore the old behavior.\n"
     ]
    }
   ],
   "source": [
    "xgboost = XGBClassifier(random_state=1)\n",
    "best_random_search_model = RandomizedSearchCV(\n",
    "        estimator=XGBClassifier(random_state=1), \n",
    "        scoring='accuracy', \n",
    "        param_distributions=param_grid_random, \n",
    "        n_iter = 50, \n",
    "        cv=10, \n",
    "        verbose=1, \n",
    "        n_jobs = -1\n",
    "    )\n",
    "_ = best_random_search_model.fit(train_X, train_y)"
   ]
  },
  {
   "cell_type": "code",
   "execution_count": 116,
   "id": "1aaf5d04",
   "metadata": {},
   "outputs": [
    {
     "name": "stdout",
     "output_type": "stream",
     "text": [
      "Best parameters found:  {'min_samples_split': 32, 'min_samples_leaf': 877, 'min_impurity_decrease': 0.0043, 'max_leaf_nodes': 2957, 'max_depth': None, 'criterion': 'entropy'}\n"
     ]
    }
   ],
   "source": [
    "random_search_best_params = best_random_search_model.best_params_\n",
    "print('Best parameters found: ', random_search_best_params)"
   ]
  },
  {
   "cell_type": "code",
   "execution_count": 117,
   "id": "1f8c5a29-267d-41fc-8104-2c8a57f3db34",
   "metadata": {},
   "outputs": [
    {
     "name": "stdout",
     "output_type": "stream",
     "text": [
      "Best score is 0.921092925986543\n"
     ]
    }
   ],
   "source": [
    "print('Best score is {}'.format(best_random_search_model.best_score_))"
   ]
  },
  {
   "cell_type": "markdown",
   "id": "f60cb3cb-07b4-4053-ab66-2128ab748375",
   "metadata": {},
   "source": [
    "The accuracy of XGBoost algorithm with the hyperparamter values is 92.1%."
   ]
  },
  {
   "cell_type": "code",
   "execution_count": 119,
   "id": "3f4d676d",
   "metadata": {},
   "outputs": [
    {
     "name": "stdout",
     "output_type": "stream",
     "text": [
      "Confusion Matrix:  [[2003  103    1]\n",
      " [ 116 1297   12]\n",
      " [   4   51   36]]\n",
      "Accuracy score:\n",
      " 0.9207838807617996\n",
      "Precision score:\n",
      " 0.9187195693276116\n",
      "Recall score:\n",
      " 0.9207838807617996\n",
      "F1 Score: \n",
      " 0.9184372971921907\n"
     ]
    }
   ],
   "source": [
    "y_pred = best_random_search_model.predict(valid_X)\n",
    "print('Confusion Matrix: ', confusion_matrix(valid_y, y_pred))\n",
    "print('Accuracy score:\\n', accuracy_score(valid_y, y_pred))\n",
    "print('Precision score:\\n', precision_score(valid_y, y_pred,average ='weighted', zero_division=0))\n",
    "print('Recall score:\\n', recall_score(valid_y, y_pred,average ='weighted'))\n",
    "print('F1 Score: \\n', f1_score(valid_y, y_pred,average ='weighted'))"
   ]
  },
  {
   "cell_type": "code",
   "execution_count": 120,
   "id": "06d1c7e5-900e-44a5-acbb-0fd0788e76cd",
   "metadata": {},
   "outputs": [],
   "source": [
    "xgboost_accuracy = accuracy_score(valid_y, y_pred)"
   ]
  },
  {
   "cell_type": "code",
   "execution_count": 121,
   "id": "7701541f",
   "metadata": {},
   "outputs": [
    {
     "name": "stdout",
     "output_type": "stream",
     "text": [
      "Overall Accuracy scores...\n",
      "Decision Tree:    0.7526911399392768\n",
      "Random Forest:    0.8984267181893458\n",
      "Ada Boosted Tree: 0.8785536847916091\n",
      "Gradient Tree:    0.9047750483025118\n",
      "XGBoost Tree:     0.9207838807617996\n"
     ]
    }
   ],
   "source": [
    "print(\"Overall Accuracy scores...\")\n",
    "print(f\"{'Decision Tree:':18}{dtree_accuracy}\")\n",
    "print(f\"{'Random Forest:':18}{rforest_accuracy}\")\n",
    "print(f\"{'Ada Boosted Tree:':18}{aboost_accuracy}\")\n",
    "print(f\"{'Gradient Tree:':18}{gboost_accuracy}\")\n",
    "print(f\"{'XGBoost Tree:':18}{xgboost_accuracy}\")"
   ]
  },
  {
   "cell_type": "markdown",
   "id": "8f2aa5cc-69ac-4951-8074-13f0b379907e",
   "metadata": {},
   "source": [
    "# Analysis and Bussiness Impact Summary"
   ]
  },
  {
   "cell_type": "markdown",
   "id": "79d5d55f",
   "metadata": {},
   "source": [
    "There is a common trend that can be seen throughout our analysis of all the model. The quality of data in the dataset seems to  good. Nearly all the models have same accuracy with minor differences leaving the decision tree.\n",
    "\n",
    "To conclude, XGBoost model was the best fit model as it has the highest accuracy score compared to the rest with an accuracy scores. XGBoost accuracy was 92.0%. As the accuracy value is very high we can assume that all the independent vaiables taken here are affecting and explaining the dependent variable 'Price' which is a multiclass classifier.\n",
    "\n",
    "Based on the above conclusion, as the XGBoost has the best model fit a person can take this into consideration and go ahead to predict the price of the car he wants to purchase. "
   ]
  }
 ],
 "metadata": {
  "kernelspec": {
   "display_name": "Python 3 (ipykernel)",
   "language": "python",
   "name": "python3"
  },
  "language_info": {
   "codemirror_mode": {
    "name": "ipython",
    "version": 3
   },
   "file_extension": ".py",
   "mimetype": "text/x-python",
   "name": "python",
   "nbconvert_exporter": "python",
   "pygments_lexer": "ipython3",
   "version": "3.9.12"
  }
 },
 "nbformat": 4,
 "nbformat_minor": 5
}
