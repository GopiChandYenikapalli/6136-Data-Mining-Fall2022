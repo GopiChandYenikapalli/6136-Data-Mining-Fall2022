{
 "cells": [
  {
   "cell_type": "markdown",
   "id": "dad35318-0b48-47af-ac8e-000ca5429b00",
   "metadata": {
    "tags": []
   },
   "source": [
    "# Title\n",
    "\n",
    "## Introduction\n",
    "\n",
    "### Authored by:\n",
    "Team Name:\n",
    "Team Members: Tim Smith, John Jones, etc.\n",
    "\n",
    "### Description of the analysis\n",
    "\n",
    "Describe the analysis you will conduct. Describe the data you will use for this analysis. \n",
    "\n",
    "In this project, we will be using a dataset containing census information from [UCI's Machine Learning Repository](https://archive.ics.uci.edu/ml/datasets/census+income).\n",
    "\n",
    "Our prediction task is to determine whether a person makes 50K or more a year. We are given the input variables that include measures of age, working class, education, edcuational number, marital status, accupation, relationship, race, sex, capital-gain, capital loss, hours worked per week. We have been directed to use a subset of these input variables: age, sex, capital-gain, capital-loss, hours worked per week.\n",
    "\n",
    "To conduct our analysis, we will utilize both a k-NN model and a Decition Tree model."
   ]
  },
  {
   "cell_type": "markdown",
   "id": "8986df0e-d098-4c9b-8d79-482057a83f27",
   "metadata": {},
   "source": [
    "## Step 1: Install and/or import necessary packages"
   ]
  },
  {
   "cell_type": "code",
   "execution_count": 1,
   "id": "bd757f5c-dd65-44d8-8e0b-e6a5e5492026",
   "metadata": {},
   "outputs": [],
   "source": [
    "import pandas as pd\n",
    "import numpy as np\n",
    "\n",
    "from sklearn.preprocessing import OrdinalEncoder, LabelEncoder, StandardScaler\n",
    "\n",
    "from sklearn.tree import DecisionTreeClassifier\n",
    "from sklearn.neighbors import KNeighborsClassifier\n",
    "\n",
    "from sklearn.model_selection import train_test_split\n",
    "from sklearn.metrics import confusion_matrix, accuracy_score, precision_score, recall_score, f1_score\n",
    "\n",
    "random_seed = 1\n",
    "np.random_seed = random_seed"
   ]
  },
  {
   "cell_type": "markdown",
   "id": "80f55956-9453-4d93-bc29-cd4d277beb51",
   "metadata": {
    "tags": []
   },
   "source": [
    "## Step 2: Preliminary (Business) Problem Scoping\n",
    "\n",
    "We are developing a binary classifier to identify if a given person in the dataset has equal to or above 50k salary, or not. Our positive case will therefore be >=50k. The cost/benefit between a FP and a FN is relatively equal. It is not yet known of the classes are imbalanced. If these classes are imbalanced, we will look to rebalance them using a oversampling techniqe. "
   ]
  },
  {
   "cell_type": "markdown",
   "id": "247db0c5-894e-485f-a1cb-256556060312",
   "metadata": {},
   "source": [
    "## Step 3: Load, clean and prepare data for analysis"
   ]
  },
  {
   "cell_type": "markdown",
   "id": "ddd0e400-6149-466d-9dce-0905cf3b0577",
   "metadata": {},
   "source": [
    "### Load data from source"
   ]
  },
  {
   "cell_type": "code",
   "execution_count": 2,
   "id": "8732a6c7-dfe7-4180-8f83-f5ba784a7066",
   "metadata": {},
   "outputs": [
    {
     "data": {
      "text/html": [
       "<div>\n",
       "<style scoped>\n",
       "    .dataframe tbody tr th:only-of-type {\n",
       "        vertical-align: middle;\n",
       "    }\n",
       "\n",
       "    .dataframe tbody tr th {\n",
       "        vertical-align: top;\n",
       "    }\n",
       "\n",
       "    .dataframe thead th {\n",
       "        text-align: right;\n",
       "    }\n",
       "</style>\n",
       "<table border=\"1\" class=\"dataframe\">\n",
       "  <thead>\n",
       "    <tr style=\"text-align: right;\">\n",
       "      <th></th>\n",
       "      <th>age</th>\n",
       "      <th>workclass</th>\n",
       "      <th>fnlwgt</th>\n",
       "      <th>education</th>\n",
       "      <th>education-num</th>\n",
       "      <th>marital-status</th>\n",
       "      <th>occupation</th>\n",
       "      <th>relationship</th>\n",
       "      <th>race</th>\n",
       "      <th>sex</th>\n",
       "      <th>capital-gain</th>\n",
       "      <th>capital-loss</th>\n",
       "      <th>hours-per-week</th>\n",
       "      <th>native-country</th>\n",
       "      <th>income</th>\n",
       "    </tr>\n",
       "  </thead>\n",
       "  <tbody>\n",
       "    <tr>\n",
       "      <th>0</th>\n",
       "      <td>39</td>\n",
       "      <td>State-gov</td>\n",
       "      <td>77516</td>\n",
       "      <td>Bachelors</td>\n",
       "      <td>13</td>\n",
       "      <td>Never-married</td>\n",
       "      <td>Adm-clerical</td>\n",
       "      <td>Not-in-family</td>\n",
       "      <td>White</td>\n",
       "      <td>Male</td>\n",
       "      <td>2174</td>\n",
       "      <td>0</td>\n",
       "      <td>40</td>\n",
       "      <td>United-States</td>\n",
       "      <td>&lt;=50K</td>\n",
       "    </tr>\n",
       "    <tr>\n",
       "      <th>1</th>\n",
       "      <td>50</td>\n",
       "      <td>Self-emp-not-inc</td>\n",
       "      <td>83311</td>\n",
       "      <td>Bachelors</td>\n",
       "      <td>13</td>\n",
       "      <td>Married-civ-spouse</td>\n",
       "      <td>Exec-managerial</td>\n",
       "      <td>Husband</td>\n",
       "      <td>White</td>\n",
       "      <td>Male</td>\n",
       "      <td>0</td>\n",
       "      <td>0</td>\n",
       "      <td>13</td>\n",
       "      <td>United-States</td>\n",
       "      <td>&lt;=50K</td>\n",
       "    </tr>\n",
       "    <tr>\n",
       "      <th>2</th>\n",
       "      <td>38</td>\n",
       "      <td>Private</td>\n",
       "      <td>215646</td>\n",
       "      <td>HS-grad</td>\n",
       "      <td>9</td>\n",
       "      <td>Divorced</td>\n",
       "      <td>Handlers-cleaners</td>\n",
       "      <td>Not-in-family</td>\n",
       "      <td>White</td>\n",
       "      <td>Male</td>\n",
       "      <td>0</td>\n",
       "      <td>0</td>\n",
       "      <td>40</td>\n",
       "      <td>United-States</td>\n",
       "      <td>&lt;=50K</td>\n",
       "    </tr>\n",
       "    <tr>\n",
       "      <th>3</th>\n",
       "      <td>53</td>\n",
       "      <td>Private</td>\n",
       "      <td>234721</td>\n",
       "      <td>11th</td>\n",
       "      <td>7</td>\n",
       "      <td>Married-civ-spouse</td>\n",
       "      <td>Handlers-cleaners</td>\n",
       "      <td>Husband</td>\n",
       "      <td>Black</td>\n",
       "      <td>Male</td>\n",
       "      <td>0</td>\n",
       "      <td>0</td>\n",
       "      <td>40</td>\n",
       "      <td>United-States</td>\n",
       "      <td>&lt;=50K</td>\n",
       "    </tr>\n",
       "    <tr>\n",
       "      <th>4</th>\n",
       "      <td>28</td>\n",
       "      <td>Private</td>\n",
       "      <td>338409</td>\n",
       "      <td>Bachelors</td>\n",
       "      <td>13</td>\n",
       "      <td>Married-civ-spouse</td>\n",
       "      <td>Prof-specialty</td>\n",
       "      <td>Wife</td>\n",
       "      <td>Black</td>\n",
       "      <td>Female</td>\n",
       "      <td>0</td>\n",
       "      <td>0</td>\n",
       "      <td>40</td>\n",
       "      <td>Cuba</td>\n",
       "      <td>&lt;=50K</td>\n",
       "    </tr>\n",
       "  </tbody>\n",
       "</table>\n",
       "</div>"
      ],
      "text/plain": [
       "   age          workclass   fnlwgt   education   education-num  \\\n",
       "0   39          State-gov    77516   Bachelors              13   \n",
       "1   50   Self-emp-not-inc    83311   Bachelors              13   \n",
       "2   38            Private   215646     HS-grad               9   \n",
       "3   53            Private   234721        11th               7   \n",
       "4   28            Private   338409   Bachelors              13   \n",
       "\n",
       "        marital-status          occupation    relationship    race      sex  \\\n",
       "0        Never-married        Adm-clerical   Not-in-family   White     Male   \n",
       "1   Married-civ-spouse     Exec-managerial         Husband   White     Male   \n",
       "2             Divorced   Handlers-cleaners   Not-in-family   White     Male   \n",
       "3   Married-civ-spouse   Handlers-cleaners         Husband   Black     Male   \n",
       "4   Married-civ-spouse      Prof-specialty            Wife   Black   Female   \n",
       "\n",
       "    capital-gain   capital-loss   hours-per-week  native-country  income  \n",
       "0           2174              0               40   United-States   <=50K  \n",
       "1              0              0               13   United-States   <=50K  \n",
       "2              0              0               40   United-States   <=50K  \n",
       "3              0              0               40   United-States   <=50K  \n",
       "4              0              0               40            Cuba   <=50K  "
      ]
     },
     "execution_count": 2,
     "metadata": {},
     "output_type": "execute_result"
    }
   ],
   "source": [
    "income_df = pd.read_csv(\"../../Data/income.csv\")\n",
    "income_df.head(5)"
   ]
  },
  {
   "cell_type": "markdown",
   "id": "f3bc271f-adc5-4f42-a152-84e5190a3f09",
   "metadata": {},
   "source": [
    "### Explore the data"
   ]
  },
  {
   "cell_type": "code",
   "execution_count": 3,
   "id": "ebb916e3-a352-4f47-bb84-e786152a8d58",
   "metadata": {},
   "outputs": [
    {
     "data": {
      "text/plain": [
       "Index(['age', ' workclass', ' fnlwgt', ' education', ' education-num',\n",
       "       ' marital-status', ' occupation', ' relationship', ' race', ' sex',\n",
       "       ' capital-gain', ' capital-loss', ' hours-per-week', ' native-country',\n",
       "       ' income'],\n",
       "      dtype='object')"
      ]
     },
     "execution_count": 3,
     "metadata": {},
     "output_type": "execute_result"
    }
   ],
   "source": [
    "income_df.columns "
   ]
  },
  {
   "cell_type": "code",
   "execution_count": 4,
   "id": "f24bceaa-afa4-4c65-b56f-5ee982f0d415",
   "metadata": {},
   "outputs": [
    {
     "data": {
      "text/html": [
       "<div>\n",
       "<style scoped>\n",
       "    .dataframe tbody tr th:only-of-type {\n",
       "        vertical-align: middle;\n",
       "    }\n",
       "\n",
       "    .dataframe tbody tr th {\n",
       "        vertical-align: top;\n",
       "    }\n",
       "\n",
       "    .dataframe thead th {\n",
       "        text-align: right;\n",
       "    }\n",
       "</style>\n",
       "<table border=\"1\" class=\"dataframe\">\n",
       "  <thead>\n",
       "    <tr style=\"text-align: right;\">\n",
       "      <th></th>\n",
       "      <th>age</th>\n",
       "      <th>fnlwgt</th>\n",
       "      <th>education-num</th>\n",
       "      <th>capital-gain</th>\n",
       "      <th>capital-loss</th>\n",
       "      <th>hours-per-week</th>\n",
       "    </tr>\n",
       "  </thead>\n",
       "  <tbody>\n",
       "    <tr>\n",
       "      <th>count</th>\n",
       "      <td>32561.000000</td>\n",
       "      <td>3.256100e+04</td>\n",
       "      <td>32561.000000</td>\n",
       "      <td>32561.000000</td>\n",
       "      <td>32561.000000</td>\n",
       "      <td>32561.000000</td>\n",
       "    </tr>\n",
       "    <tr>\n",
       "      <th>mean</th>\n",
       "      <td>38.581647</td>\n",
       "      <td>1.897784e+05</td>\n",
       "      <td>10.080679</td>\n",
       "      <td>1077.648844</td>\n",
       "      <td>87.303830</td>\n",
       "      <td>40.437456</td>\n",
       "    </tr>\n",
       "    <tr>\n",
       "      <th>std</th>\n",
       "      <td>13.640433</td>\n",
       "      <td>1.055500e+05</td>\n",
       "      <td>2.572720</td>\n",
       "      <td>7385.292085</td>\n",
       "      <td>402.960219</td>\n",
       "      <td>12.347429</td>\n",
       "    </tr>\n",
       "    <tr>\n",
       "      <th>min</th>\n",
       "      <td>17.000000</td>\n",
       "      <td>1.228500e+04</td>\n",
       "      <td>1.000000</td>\n",
       "      <td>0.000000</td>\n",
       "      <td>0.000000</td>\n",
       "      <td>1.000000</td>\n",
       "    </tr>\n",
       "    <tr>\n",
       "      <th>25%</th>\n",
       "      <td>28.000000</td>\n",
       "      <td>1.178270e+05</td>\n",
       "      <td>9.000000</td>\n",
       "      <td>0.000000</td>\n",
       "      <td>0.000000</td>\n",
       "      <td>40.000000</td>\n",
       "    </tr>\n",
       "    <tr>\n",
       "      <th>50%</th>\n",
       "      <td>37.000000</td>\n",
       "      <td>1.783560e+05</td>\n",
       "      <td>10.000000</td>\n",
       "      <td>0.000000</td>\n",
       "      <td>0.000000</td>\n",
       "      <td>40.000000</td>\n",
       "    </tr>\n",
       "    <tr>\n",
       "      <th>75%</th>\n",
       "      <td>48.000000</td>\n",
       "      <td>2.370510e+05</td>\n",
       "      <td>12.000000</td>\n",
       "      <td>0.000000</td>\n",
       "      <td>0.000000</td>\n",
       "      <td>45.000000</td>\n",
       "    </tr>\n",
       "    <tr>\n",
       "      <th>max</th>\n",
       "      <td>90.000000</td>\n",
       "      <td>1.484705e+06</td>\n",
       "      <td>16.000000</td>\n",
       "      <td>99999.000000</td>\n",
       "      <td>4356.000000</td>\n",
       "      <td>99.000000</td>\n",
       "    </tr>\n",
       "  </tbody>\n",
       "</table>\n",
       "</div>"
      ],
      "text/plain": [
       "                age        fnlwgt   education-num   capital-gain  \\\n",
       "count  32561.000000  3.256100e+04    32561.000000   32561.000000   \n",
       "mean      38.581647  1.897784e+05       10.080679    1077.648844   \n",
       "std       13.640433  1.055500e+05        2.572720    7385.292085   \n",
       "min       17.000000  1.228500e+04        1.000000       0.000000   \n",
       "25%       28.000000  1.178270e+05        9.000000       0.000000   \n",
       "50%       37.000000  1.783560e+05       10.000000       0.000000   \n",
       "75%       48.000000  2.370510e+05       12.000000       0.000000   \n",
       "max       90.000000  1.484705e+06       16.000000   99999.000000   \n",
       "\n",
       "        capital-loss   hours-per-week  \n",
       "count   32561.000000     32561.000000  \n",
       "mean       87.303830        40.437456  \n",
       "std       402.960219        12.347429  \n",
       "min         0.000000         1.000000  \n",
       "25%         0.000000        40.000000  \n",
       "50%         0.000000        40.000000  \n",
       "75%         0.000000        45.000000  \n",
       "max      4356.000000        99.000000  "
      ]
     },
     "execution_count": 4,
     "metadata": {},
     "output_type": "execute_result"
    }
   ],
   "source": [
    "income_df.describe()"
   ]
  },
  {
   "cell_type": "code",
   "execution_count": 5,
   "id": "5776e896-238e-48a0-97bd-7fb8deb644b8",
   "metadata": {},
   "outputs": [
    {
     "name": "stdout",
     "output_type": "stream",
     "text": [
      "<class 'pandas.core.frame.DataFrame'>\n",
      "RangeIndex: 32561 entries, 0 to 32560\n",
      "Data columns (total 15 columns):\n",
      " #   Column           Non-Null Count  Dtype \n",
      "---  ------           --------------  ----- \n",
      " 0   age              32561 non-null  int64 \n",
      " 1    workclass       32561 non-null  object\n",
      " 2    fnlwgt          32561 non-null  int64 \n",
      " 3    education       32561 non-null  object\n",
      " 4    education-num   32561 non-null  int64 \n",
      " 5    marital-status  32561 non-null  object\n",
      " 6    occupation      32561 non-null  object\n",
      " 7    relationship    32561 non-null  object\n",
      " 8    race            32561 non-null  object\n",
      " 9    sex             32561 non-null  object\n",
      " 10   capital-gain    32561 non-null  int64 \n",
      " 11   capital-loss    32561 non-null  int64 \n",
      " 12   hours-per-week  32561 non-null  int64 \n",
      " 13   native-country  32561 non-null  object\n",
      " 14   income          32561 non-null  object\n",
      "dtypes: int64(6), object(9)\n",
      "memory usage: 3.7+ MB\n"
     ]
    }
   ],
   "source": [
    "income_df.info()"
   ]
  },
  {
   "cell_type": "markdown",
   "id": "54cc1036-110d-4eb4-af7a-dd45d3d5789f",
   "metadata": {},
   "source": [
    "Our findings from the data exploration indicate the the data requires a renaming/cleanup of column names. We also note that sex and income and income are categorical data. We will encode this data using OrdinalEncoder for the input variable sex, and LabelEncoder for y (target) variable income. (Remember out inclass discussion on these: they do the same thing, but LabelEncoder accepts on variable (since it's used for encoding target variables)"
   ]
  },
  {
   "cell_type": "markdown",
   "id": "f42f7a60-cc5e-428b-90c0-df765c3768f8",
   "metadata": {},
   "source": [
    "## Step 4: Clean and transform data"
   ]
  },
  {
   "cell_type": "markdown",
   "id": "feba50d6-32f7-4791-9ac0-1d2d6babd6a9",
   "metadata": {},
   "source": [
    "Clean up column names"
   ]
  },
  {
   "cell_type": "code",
   "execution_count": 6,
   "id": "94ebe2fa-1adf-4f62-bf42-e77cfe227fa8",
   "metadata": {},
   "outputs": [
    {
     "data": {
      "text/plain": [
       "Index(['age', 'workclass', 'fnlwgt', 'education', 'education_num',\n",
       "       'marital_status', 'occupation', 'relationship', 'race', 'sex',\n",
       "       'capital_gain', 'capital_loss', 'hours_per_week', 'native_country',\n",
       "       'income'],\n",
       "      dtype='object')"
      ]
     },
     "execution_count": 6,
     "metadata": {},
     "output_type": "execute_result"
    }
   ],
   "source": [
    "income_df.columns = [s.strip().replace('-', '_') for s in income_df.columns] \n",
    "income_df.columns"
   ]
  },
  {
   "cell_type": "markdown",
   "id": "fa1921f9-eea7-4c12-98de-e130422c3535",
   "metadata": {},
   "source": [
    "Drop columns that will not be used in our analysis"
   ]
  },
  {
   "cell_type": "code",
   "execution_count": 7,
   "id": "5b2fb1f7-5060-4d1f-9d07-fb5c9cc81318",
   "metadata": {},
   "outputs": [
    {
     "data": {
      "text/html": [
       "<div>\n",
       "<style scoped>\n",
       "    .dataframe tbody tr th:only-of-type {\n",
       "        vertical-align: middle;\n",
       "    }\n",
       "\n",
       "    .dataframe tbody tr th {\n",
       "        vertical-align: top;\n",
       "    }\n",
       "\n",
       "    .dataframe thead th {\n",
       "        text-align: right;\n",
       "    }\n",
       "</style>\n",
       "<table border=\"1\" class=\"dataframe\">\n",
       "  <thead>\n",
       "    <tr style=\"text-align: right;\">\n",
       "      <th></th>\n",
       "      <th>age</th>\n",
       "      <th>sex</th>\n",
       "      <th>capital_gain</th>\n",
       "      <th>capital_loss</th>\n",
       "      <th>hours_per_week</th>\n",
       "      <th>income</th>\n",
       "    </tr>\n",
       "  </thead>\n",
       "  <tbody>\n",
       "    <tr>\n",
       "      <th>0</th>\n",
       "      <td>39</td>\n",
       "      <td>Male</td>\n",
       "      <td>2174</td>\n",
       "      <td>0</td>\n",
       "      <td>40</td>\n",
       "      <td>&lt;=50K</td>\n",
       "    </tr>\n",
       "    <tr>\n",
       "      <th>1</th>\n",
       "      <td>50</td>\n",
       "      <td>Male</td>\n",
       "      <td>0</td>\n",
       "      <td>0</td>\n",
       "      <td>13</td>\n",
       "      <td>&lt;=50K</td>\n",
       "    </tr>\n",
       "    <tr>\n",
       "      <th>2</th>\n",
       "      <td>38</td>\n",
       "      <td>Male</td>\n",
       "      <td>0</td>\n",
       "      <td>0</td>\n",
       "      <td>40</td>\n",
       "      <td>&lt;=50K</td>\n",
       "    </tr>\n",
       "    <tr>\n",
       "      <th>3</th>\n",
       "      <td>53</td>\n",
       "      <td>Male</td>\n",
       "      <td>0</td>\n",
       "      <td>0</td>\n",
       "      <td>40</td>\n",
       "      <td>&lt;=50K</td>\n",
       "    </tr>\n",
       "    <tr>\n",
       "      <th>4</th>\n",
       "      <td>28</td>\n",
       "      <td>Female</td>\n",
       "      <td>0</td>\n",
       "      <td>0</td>\n",
       "      <td>40</td>\n",
       "      <td>&lt;=50K</td>\n",
       "    </tr>\n",
       "    <tr>\n",
       "      <th>...</th>\n",
       "      <td>...</td>\n",
       "      <td>...</td>\n",
       "      <td>...</td>\n",
       "      <td>...</td>\n",
       "      <td>...</td>\n",
       "      <td>...</td>\n",
       "    </tr>\n",
       "    <tr>\n",
       "      <th>32556</th>\n",
       "      <td>27</td>\n",
       "      <td>Female</td>\n",
       "      <td>0</td>\n",
       "      <td>0</td>\n",
       "      <td>38</td>\n",
       "      <td>&lt;=50K</td>\n",
       "    </tr>\n",
       "    <tr>\n",
       "      <th>32557</th>\n",
       "      <td>40</td>\n",
       "      <td>Male</td>\n",
       "      <td>0</td>\n",
       "      <td>0</td>\n",
       "      <td>40</td>\n",
       "      <td>&gt;50K</td>\n",
       "    </tr>\n",
       "    <tr>\n",
       "      <th>32558</th>\n",
       "      <td>58</td>\n",
       "      <td>Female</td>\n",
       "      <td>0</td>\n",
       "      <td>0</td>\n",
       "      <td>40</td>\n",
       "      <td>&lt;=50K</td>\n",
       "    </tr>\n",
       "    <tr>\n",
       "      <th>32559</th>\n",
       "      <td>22</td>\n",
       "      <td>Male</td>\n",
       "      <td>0</td>\n",
       "      <td>0</td>\n",
       "      <td>20</td>\n",
       "      <td>&lt;=50K</td>\n",
       "    </tr>\n",
       "    <tr>\n",
       "      <th>32560</th>\n",
       "      <td>52</td>\n",
       "      <td>Female</td>\n",
       "      <td>15024</td>\n",
       "      <td>0</td>\n",
       "      <td>40</td>\n",
       "      <td>&gt;50K</td>\n",
       "    </tr>\n",
       "  </tbody>\n",
       "</table>\n",
       "<p>32561 rows × 6 columns</p>\n",
       "</div>"
      ],
      "text/plain": [
       "       age      sex  capital_gain  capital_loss  hours_per_week  income\n",
       "0       39     Male          2174             0              40   <=50K\n",
       "1       50     Male             0             0              13   <=50K\n",
       "2       38     Male             0             0              40   <=50K\n",
       "3       53     Male             0             0              40   <=50K\n",
       "4       28   Female             0             0              40   <=50K\n",
       "...    ...      ...           ...           ...             ...     ...\n",
       "32556   27   Female             0             0              38   <=50K\n",
       "32557   40     Male             0             0              40    >50K\n",
       "32558   58   Female             0             0              40   <=50K\n",
       "32559   22     Male             0             0              20   <=50K\n",
       "32560   52   Female         15024             0              40    >50K\n",
       "\n",
       "[32561 rows x 6 columns]"
      ]
     },
     "execution_count": 7,
     "metadata": {},
     "output_type": "execute_result"
    }
   ],
   "source": [
    "income_df = income_df.drop(columns=['workclass', 'fnlwgt', 'education', 'education_num', 'occupation', 'relationship', 'race', 'marital_status', 'native_country'])\n",
    "income_df"
   ]
  },
  {
   "cell_type": "markdown",
   "id": "dfb3f4b4-2cfc-429a-a8f4-10c7bfc81c69",
   "metadata": {},
   "source": [
    "Check for any need to address missing values"
   ]
  },
  {
   "cell_type": "code",
   "execution_count": 8,
   "id": "36566a3b-3d5a-4412-9d8c-14a255687ae8",
   "metadata": {},
   "outputs": [
    {
     "data": {
      "text/plain": [
       "age               0\n",
       "sex               0\n",
       "capital_gain      0\n",
       "capital_loss      0\n",
       "hours_per_week    0\n",
       "income            0\n",
       "dtype: int64"
      ]
     },
     "execution_count": 8,
     "metadata": {},
     "output_type": "execute_result"
    }
   ],
   "source": [
    "income_df.isnull().sum()"
   ]
  },
  {
   "cell_type": "markdown",
   "id": "bfbd8d08-eff1-4cd8-8145-3d16da3b2b00",
   "metadata": {},
   "source": [
    "Encode sex and income (first check to ensure there aren't any typos that could trigger more than two classes being recognized)"
   ]
  },
  {
   "cell_type": "code",
   "execution_count": 9,
   "id": "d690ce0e-a07c-41f9-8c33-1c97b78b857f",
   "metadata": {},
   "outputs": [
    {
     "name": "stdout",
     "output_type": "stream",
     "text": [
      "[' Male' ' Female']\n",
      "[' <=50K' ' >50K']\n"
     ]
    }
   ],
   "source": [
    "print(income_df.sex.unique())\n",
    "print(income_df.income.unique())"
   ]
  },
  {
   "cell_type": "markdown",
   "id": "841c7cc3-5eb1-4146-bd13-94b903e4f12e",
   "metadata": {},
   "source": [
    "Since it looks like there are no typos in these two columns, we will not encode these columns."
   ]
  },
  {
   "cell_type": "code",
   "execution_count": 10,
   "id": "ca5708c2-f386-4871-bb18-49a67144694c",
   "metadata": {},
   "outputs": [
    {
     "data": {
      "text/plain": [
       "0           Male\n",
       "1           Male\n",
       "2           Male\n",
       "3           Male\n",
       "4         Female\n",
       "          ...   \n",
       "32556     Female\n",
       "32557       Male\n",
       "32558     Female\n",
       "32559       Male\n",
       "32560     Female\n",
       "Name: sex, Length: 32561, dtype: object"
      ]
     },
     "execution_count": 10,
     "metadata": {},
     "output_type": "execute_result"
    }
   ],
   "source": [
    "income_df.sex"
   ]
  },
  {
   "cell_type": "code",
   "execution_count": 11,
   "id": "b8eccbbd-7244-4435-a6ff-0427f1ad4167",
   "metadata": {},
   "outputs": [
    {
     "data": {
      "text/html": [
       "<div>\n",
       "<style scoped>\n",
       "    .dataframe tbody tr th:only-of-type {\n",
       "        vertical-align: middle;\n",
       "    }\n",
       "\n",
       "    .dataframe tbody tr th {\n",
       "        vertical-align: top;\n",
       "    }\n",
       "\n",
       "    .dataframe thead th {\n",
       "        text-align: right;\n",
       "    }\n",
       "</style>\n",
       "<table border=\"1\" class=\"dataframe\">\n",
       "  <thead>\n",
       "    <tr style=\"text-align: right;\">\n",
       "      <th></th>\n",
       "      <th>age</th>\n",
       "      <th>sex</th>\n",
       "      <th>capital_gain</th>\n",
       "      <th>capital_loss</th>\n",
       "      <th>hours_per_week</th>\n",
       "      <th>income</th>\n",
       "    </tr>\n",
       "  </thead>\n",
       "  <tbody>\n",
       "    <tr>\n",
       "      <th>0</th>\n",
       "      <td>39</td>\n",
       "      <td>0.0</td>\n",
       "      <td>2174</td>\n",
       "      <td>0</td>\n",
       "      <td>40</td>\n",
       "      <td>&lt;=50K</td>\n",
       "    </tr>\n",
       "    <tr>\n",
       "      <th>1</th>\n",
       "      <td>50</td>\n",
       "      <td>0.0</td>\n",
       "      <td>0</td>\n",
       "      <td>0</td>\n",
       "      <td>13</td>\n",
       "      <td>&lt;=50K</td>\n",
       "    </tr>\n",
       "    <tr>\n",
       "      <th>2</th>\n",
       "      <td>38</td>\n",
       "      <td>0.0</td>\n",
       "      <td>0</td>\n",
       "      <td>0</td>\n",
       "      <td>40</td>\n",
       "      <td>&lt;=50K</td>\n",
       "    </tr>\n",
       "    <tr>\n",
       "      <th>3</th>\n",
       "      <td>53</td>\n",
       "      <td>0.0</td>\n",
       "      <td>0</td>\n",
       "      <td>0</td>\n",
       "      <td>40</td>\n",
       "      <td>&lt;=50K</td>\n",
       "    </tr>\n",
       "    <tr>\n",
       "      <th>4</th>\n",
       "      <td>28</td>\n",
       "      <td>1.0</td>\n",
       "      <td>0</td>\n",
       "      <td>0</td>\n",
       "      <td>40</td>\n",
       "      <td>&lt;=50K</td>\n",
       "    </tr>\n",
       "  </tbody>\n",
       "</table>\n",
       "</div>"
      ],
      "text/plain": [
       "   age  sex  capital_gain  capital_loss  hours_per_week  income\n",
       "0   39  0.0          2174             0              40   <=50K\n",
       "1   50  0.0             0             0              13   <=50K\n",
       "2   38  0.0             0             0              40   <=50K\n",
       "3   53  0.0             0             0              40   <=50K\n",
       "4   28  1.0             0             0              40   <=50K"
      ]
     },
     "execution_count": 11,
     "metadata": {},
     "output_type": "execute_result"
    }
   ],
   "source": [
    "enc = OrdinalEncoder(categories=[[' Male', ' Female']]) \n",
    "income_df.sex = enc.fit_transform(income_df[['sex']])\n",
    "income_df.head(5)"
   ]
  },
  {
   "cell_type": "markdown",
   "id": "6e2c5aa6-e8ca-4137-a28e-9d570fef2ba4",
   "metadata": {},
   "source": [
    "> NOTE: OrdinalEncoder will map the first value found to 0, then the next unique value found, 1, etc. If you wish to change, or control this order, you can speciy this in the categories parameter. For an OrdinalEncoder, since we can have multiple columns, we specify the categories for each column by creating a list of lists. In this specific case above, we only have one column we're encoding, therefore it's a list with one list inside. "
   ]
  },
  {
   "cell_type": "code",
   "execution_count": 12,
   "id": "c01647bc-3e14-495b-80a4-4508533c9e01",
   "metadata": {},
   "outputs": [
    {
     "data": {
      "text/html": [
       "<div>\n",
       "<style scoped>\n",
       "    .dataframe tbody tr th:only-of-type {\n",
       "        vertical-align: middle;\n",
       "    }\n",
       "\n",
       "    .dataframe tbody tr th {\n",
       "        vertical-align: top;\n",
       "    }\n",
       "\n",
       "    .dataframe thead th {\n",
       "        text-align: right;\n",
       "    }\n",
       "</style>\n",
       "<table border=\"1\" class=\"dataframe\">\n",
       "  <thead>\n",
       "    <tr style=\"text-align: right;\">\n",
       "      <th></th>\n",
       "      <th>age</th>\n",
       "      <th>sex</th>\n",
       "      <th>capital_gain</th>\n",
       "      <th>capital_loss</th>\n",
       "      <th>hours_per_week</th>\n",
       "      <th>income</th>\n",
       "    </tr>\n",
       "  </thead>\n",
       "  <tbody>\n",
       "    <tr>\n",
       "      <th>0</th>\n",
       "      <td>39</td>\n",
       "      <td>0.0</td>\n",
       "      <td>2174</td>\n",
       "      <td>0</td>\n",
       "      <td>40</td>\n",
       "      <td>0</td>\n",
       "    </tr>\n",
       "    <tr>\n",
       "      <th>1</th>\n",
       "      <td>50</td>\n",
       "      <td>0.0</td>\n",
       "      <td>0</td>\n",
       "      <td>0</td>\n",
       "      <td>13</td>\n",
       "      <td>0</td>\n",
       "    </tr>\n",
       "    <tr>\n",
       "      <th>2</th>\n",
       "      <td>38</td>\n",
       "      <td>0.0</td>\n",
       "      <td>0</td>\n",
       "      <td>0</td>\n",
       "      <td>40</td>\n",
       "      <td>0</td>\n",
       "    </tr>\n",
       "    <tr>\n",
       "      <th>3</th>\n",
       "      <td>53</td>\n",
       "      <td>0.0</td>\n",
       "      <td>0</td>\n",
       "      <td>0</td>\n",
       "      <td>40</td>\n",
       "      <td>0</td>\n",
       "    </tr>\n",
       "    <tr>\n",
       "      <th>4</th>\n",
       "      <td>28</td>\n",
       "      <td>1.0</td>\n",
       "      <td>0</td>\n",
       "      <td>0</td>\n",
       "      <td>40</td>\n",
       "      <td>0</td>\n",
       "    </tr>\n",
       "  </tbody>\n",
       "</table>\n",
       "</div>"
      ],
      "text/plain": [
       "   age  sex  capital_gain  capital_loss  hours_per_week  income\n",
       "0   39  0.0          2174             0              40       0\n",
       "1   50  0.0             0             0              13       0\n",
       "2   38  0.0             0             0              40       0\n",
       "3   53  0.0             0             0              40       0\n",
       "4   28  1.0             0             0              40       0"
      ]
     },
     "execution_count": 12,
     "metadata": {},
     "output_type": "execute_result"
    }
   ],
   "source": [
    "enc = LabelEncoder()\n",
    "income_df.income = enc.fit_transform(income_df['income'])\n",
    "income_df.head(5)"
   ]
  },
  {
   "cell_type": "markdown",
   "id": "b596a08b-f95a-47c9-8143-3776105c53d7",
   "metadata": {},
   "source": [
    "## Step 5: Partition data into training and test sets"
   ]
  },
  {
   "cell_type": "markdown",
   "id": "138a27bb-f481-4f47-bac0-4117bea40eb4",
   "metadata": {},
   "source": [
    "We've decided to utilize a training/test split of the data at 70% training and 30% testing. This percentage split ratio is inline with common practice for small to medium sized datasets, which this data represents. Moreover, we have decided not to do a three way data split, as we are only testing two models and we wish to allocated as much data as possible to training and validation steps."
   ]
  },
  {
   "cell_type": "code",
   "execution_count": 13,
   "id": "521f4338-5c89-4e59-bee5-4b8e02036beb",
   "metadata": {},
   "outputs": [],
   "source": [
    "train_df, test_df = train_test_split(income_df, train_size=0.3, random_state = random_seed)"
   ]
  },
  {
   "cell_type": "code",
   "execution_count": 14,
   "id": "d50a69dc-07ae-4eba-81d2-fe34ca98b334",
   "metadata": {},
   "outputs": [],
   "source": [
    "X_train = train_df.drop(columns=['income'])\n",
    "y_train = train_df.income\n",
    "X_test = test_df.drop(columns=['income'])\n",
    "y_test = test_df.income"
   ]
  },
  {
   "cell_type": "markdown",
   "id": "3dce3233-90a4-4acb-bfa3-90ff366fd132",
   "metadata": {},
   "source": [
    "## Step 6: Address any data imbalances\n",
    "\n",
    "We will utilize an oversamplying technique to address any necessary date balancing."
   ]
  },
  {
   "cell_type": "markdown",
   "id": "ced4b828-675e-4e1d-89d2-f5d9d669dcfb",
   "metadata": {},
   "source": [
    "Let' check the count of each class"
   ]
  },
  {
   "cell_type": "code",
   "execution_count": 15,
   "id": "cb3b2b76-c62a-44d5-bd61-6a488f4cbd5a",
   "metadata": {},
   "outputs": [
    {
     "data": {
      "text/plain": [
       "2455"
      ]
     },
     "execution_count": 15,
     "metadata": {},
     "output_type": "execute_result"
    }
   ],
   "source": [
    "gt_fiftyK_count = (train_df.income==1).sum()\n",
    "gt_fiftyK_count"
   ]
  },
  {
   "cell_type": "code",
   "execution_count": 16,
   "id": "3e28a9b8-a180-41e3-87d7-625b3b7da5b6",
   "metadata": {},
   "outputs": [
    {
     "data": {
      "text/plain": [
       "7313"
      ]
     },
     "execution_count": 16,
     "metadata": {},
     "output_type": "execute_result"
    }
   ],
   "source": [
    "lte_fiftyK_count = (train_df.income==0).sum()\n",
    "lte_fiftyK_count"
   ]
  },
  {
   "cell_type": "markdown",
   "id": "0b5b4778-f2b5-41e2-89e2-521f3e5e738e",
   "metadata": {},
   "source": [
    "We find that the <=50K class outnumbers the >50K class by approximately 3 to 1. This is significant enought to warrent a rebalancing."
   ]
  },
  {
   "cell_type": "code",
   "execution_count": 17,
   "id": "e6fc2a83-9e38-42c4-b6c2-5a20de570ec0",
   "metadata": {},
   "outputs": [
    {
     "data": {
      "text/plain": [
       "4858"
      ]
     },
     "execution_count": 17,
     "metadata": {},
     "output_type": "execute_result"
    }
   ],
   "source": [
    "lte_fiftyK_count-gt_fiftyK_count"
   ]
  },
  {
   "cell_type": "code",
   "execution_count": 18,
   "id": "27949675-0536-46d8-919d-807a08401e95",
   "metadata": {},
   "outputs": [
    {
     "data": {
      "text/plain": [
       "0    7313\n",
       "1    7313\n",
       "Name: income, dtype: int64"
      ]
     },
     "execution_count": 18,
     "metadata": {},
     "output_type": "execute_result"
    }
   ],
   "source": [
    "fiftyK_plus_df  = train_df.loc[train_df.income==1]\n",
    "df_oversampled = fiftyK_plus_df.sample(n=lte_fiftyK_count-gt_fiftyK_count,replace=True)\n",
    "\n",
    "train_df = pd.concat([train_df, df_oversampled], ignore_index=True)\n",
    "train_df.income.value_counts()"
   ]
  },
  {
   "cell_type": "markdown",
   "id": "c99132e4-9bee-4de5-9eb8-384b314b959d",
   "metadata": {},
   "source": [
    "## Step 7: Train our models"
   ]
  },
  {
   "cell_type": "markdown",
   "id": "d966456e-9a03-4edc-b23d-867775bf084d",
   "metadata": {},
   "source": [
    "### Train a default decision tree"
   ]
  },
  {
   "cell_type": "markdown",
   "id": "6a0977f7-eb3b-423c-903d-33244f78cab4",
   "metadata": {},
   "source": [
    "Since a decision tree is not sensitive to differences in scale, we do not need to rescale our variables."
   ]
  },
  {
   "cell_type": "code",
   "execution_count": 19,
   "id": "f918ba40-30b5-4fc3-8a7e-8098dbf023f6",
   "metadata": {},
   "outputs": [
    {
     "name": "stdout",
     "output_type": "stream",
     "text": [
      "Accuracy 0.806870530426008\n",
      "Precision 0.6513846153846153\n",
      "Recall 0.3930560712959525\n",
      "F1 Score 0.49027327466419635\n"
     ]
    }
   ],
   "source": [
    "dtree=DecisionTreeClassifier(random_state=1)\n",
    "dtree.fit(X_train, y_train)\n",
    "y_pred = dtree.predict(X_test)\n",
    "\n",
    "print('Accuracy', accuracy_score(y_test, y_pred))\n",
    "print('Precision', precision_score(y_test, y_pred))\n",
    "print('Recall', recall_score(y_test, y_pred))\n",
    "print('F1 Score', f1_score(y_test, y_pred))\n"
   ]
  },
  {
   "cell_type": "markdown",
   "id": "e8f18fec-85e0-4f53-818d-69de5b938e5f",
   "metadata": {},
   "source": [
    "### Train a k-NN model "
   ]
  },
  {
   "cell_type": "markdown",
   "id": "7cb3c47f-912c-4df0-8a85-2ef8671e6aed",
   "metadata": {},
   "source": [
    "Since we know the k-NN models are very sensitive to differences in scale, we will rescale our variables before fitting the model."
   ]
  },
  {
   "cell_type": "code",
   "execution_count": 20,
   "id": "db465525-139b-4d86-b243-40d7b9916e91",
   "metadata": {},
   "outputs": [],
   "source": [
    "# create a standard scaler and fit it to the training set of predictors\n",
    "scaler = StandardScaler()\n",
    "scaler.fit(X_train)\n",
    "\n",
    "# Transform the predictors of training and validation sets\n",
    "X_train = scaler.transform(X_train) # train_predictors is not a numpy array\n",
    "\n",
    "X_test = scaler.transform(X_test)\n"
   ]
  },
  {
   "cell_type": "code",
   "execution_count": 21,
   "id": "2c9d8e53-bcf7-4e01-8202-e291b4efcbd6",
   "metadata": {},
   "outputs": [],
   "source": [
    "results = []\n",
    "for k in range(1,int(len(y_train)**0.5),2):\n",
    "    knn = KNeighborsClassifier(n_neighbors=k,  metric='euclidean')\n",
    "    knn.fit(X_train, y_train)\n",
    "    y_pred = knn.predict(X_test)\n",
    "    results.append ({\n",
    "        'k': k,\n",
    "        'accuracy': accuracy_score(y_test, y_pred),\n",
    "        'precision': precision_score(y_test, y_pred),\n",
    "        'recall': recall_score(y_test, y_pred),\n",
    "        'f1': f1_score(y_test, y_pred)\n",
    "    })\n",
    "\n",
    "results_df = pd.DataFrame(results)"
   ]
  },
  {
   "cell_type": "markdown",
   "id": "9a9e9960-5cd8-4c47-81db-b54d9a886c60",
   "metadata": {},
   "source": [
    "Best accuracy score..."
   ]
  },
  {
   "cell_type": "code",
   "execution_count": 22,
   "id": "71423f6f-b1bd-4880-81fa-0f4fbd743720",
   "metadata": {},
   "outputs": [
    {
     "data": {
      "text/html": [
       "<div>\n",
       "<style scoped>\n",
       "    .dataframe tbody tr th:only-of-type {\n",
       "        vertical-align: middle;\n",
       "    }\n",
       "\n",
       "    .dataframe tbody tr th {\n",
       "        vertical-align: top;\n",
       "    }\n",
       "\n",
       "    .dataframe thead th {\n",
       "        text-align: right;\n",
       "    }\n",
       "</style>\n",
       "<table border=\"1\" class=\"dataframe\">\n",
       "  <thead>\n",
       "    <tr style=\"text-align: right;\">\n",
       "      <th></th>\n",
       "      <th>k</th>\n",
       "      <th>accuracy</th>\n",
       "      <th>precision</th>\n",
       "      <th>recall</th>\n",
       "      <th>f1</th>\n",
       "    </tr>\n",
       "  </thead>\n",
       "  <tbody>\n",
       "    <tr>\n",
       "      <th>24</th>\n",
       "      <td>49</td>\n",
       "      <td>0.812179</td>\n",
       "      <td>0.673688</td>\n",
       "      <td>0.397883</td>\n",
       "      <td>0.500292</td>\n",
       "    </tr>\n",
       "  </tbody>\n",
       "</table>\n",
       "</div>"
      ],
      "text/plain": [
       "     k  accuracy  precision    recall        f1\n",
       "24  49  0.812179   0.673688  0.397883  0.500292"
      ]
     },
     "execution_count": 22,
     "metadata": {},
     "output_type": "execute_result"
    }
   ],
   "source": [
    "results_df.loc[[results_df.accuracy.idxmax()]]"
   ]
  },
  {
   "cell_type": "markdown",
   "id": "a579177f-4e41-429d-9593-9f3fdd8d2dac",
   "metadata": {},
   "source": [
    "Best precision score..."
   ]
  },
  {
   "cell_type": "code",
   "execution_count": 23,
   "id": "bbd01a7b-0487-4693-a657-a1e273e55734",
   "metadata": {},
   "outputs": [
    {
     "data": {
      "text/html": [
       "<div>\n",
       "<style scoped>\n",
       "    .dataframe tbody tr th:only-of-type {\n",
       "        vertical-align: middle;\n",
       "    }\n",
       "\n",
       "    .dataframe tbody tr th {\n",
       "        vertical-align: top;\n",
       "    }\n",
       "\n",
       "    .dataframe thead th {\n",
       "        text-align: right;\n",
       "    }\n",
       "</style>\n",
       "<table border=\"1\" class=\"dataframe\">\n",
       "  <thead>\n",
       "    <tr style=\"text-align: right;\">\n",
       "      <th></th>\n",
       "      <th>k</th>\n",
       "      <th>accuracy</th>\n",
       "      <th>precision</th>\n",
       "      <th>recall</th>\n",
       "      <th>f1</th>\n",
       "    </tr>\n",
       "  </thead>\n",
       "  <tbody>\n",
       "    <tr>\n",
       "      <th>29</th>\n",
       "      <td>59</td>\n",
       "      <td>0.811916</td>\n",
       "      <td>0.677201</td>\n",
       "      <td>0.3899</td>\n",
       "      <td>0.494875</td>\n",
       "    </tr>\n",
       "  </tbody>\n",
       "</table>\n",
       "</div>"
      ],
      "text/plain": [
       "     k  accuracy  precision  recall        f1\n",
       "29  59  0.811916   0.677201  0.3899  0.494875"
      ]
     },
     "execution_count": 23,
     "metadata": {},
     "output_type": "execute_result"
    }
   ],
   "source": [
    "results_df.loc[[results_df.precision.idxmax()]]"
   ]
  },
  {
   "cell_type": "markdown",
   "id": "95782928-1a72-4e22-9f9b-7a91b92e4457",
   "metadata": {},
   "source": [
    "Best recall score..."
   ]
  },
  {
   "cell_type": "code",
   "execution_count": 24,
   "id": "87783d7f-a5b8-47b7-b9a4-8528e8e32b0e",
   "metadata": {},
   "outputs": [
    {
     "data": {
      "text/html": [
       "<div>\n",
       "<style scoped>\n",
       "    .dataframe tbody tr th:only-of-type {\n",
       "        vertical-align: middle;\n",
       "    }\n",
       "\n",
       "    .dataframe tbody tr th {\n",
       "        vertical-align: top;\n",
       "    }\n",
       "\n",
       "    .dataframe thead th {\n",
       "        text-align: right;\n",
       "    }\n",
       "</style>\n",
       "<table border=\"1\" class=\"dataframe\">\n",
       "  <thead>\n",
       "    <tr style=\"text-align: right;\">\n",
       "      <th></th>\n",
       "      <th>k</th>\n",
       "      <th>accuracy</th>\n",
       "      <th>precision</th>\n",
       "      <th>recall</th>\n",
       "      <th>f1</th>\n",
       "    </tr>\n",
       "  </thead>\n",
       "  <tbody>\n",
       "    <tr>\n",
       "      <th>0</th>\n",
       "      <td>1</td>\n",
       "      <td>0.735138</td>\n",
       "      <td>0.445669</td>\n",
       "      <td>0.49573</td>\n",
       "      <td>0.469368</td>\n",
       "    </tr>\n",
       "  </tbody>\n",
       "</table>\n",
       "</div>"
      ],
      "text/plain": [
       "   k  accuracy  precision   recall        f1\n",
       "0  1  0.735138   0.445669  0.49573  0.469368"
      ]
     },
     "execution_count": 24,
     "metadata": {},
     "output_type": "execute_result"
    }
   ],
   "source": [
    "results_df.loc[[results_df.recall.idxmax()]]"
   ]
  },
  {
   "cell_type": "markdown",
   "id": "968c1441-f877-4417-9012-ae289becb4bd",
   "metadata": {},
   "source": [
    "Best f1 score..."
   ]
  },
  {
   "cell_type": "code",
   "execution_count": 25,
   "id": "73258d01-6529-416d-9751-7551420fbb9a",
   "metadata": {},
   "outputs": [
    {
     "data": {
      "text/html": [
       "<div>\n",
       "<style scoped>\n",
       "    .dataframe tbody tr th:only-of-type {\n",
       "        vertical-align: middle;\n",
       "    }\n",
       "\n",
       "    .dataframe tbody tr th {\n",
       "        vertical-align: top;\n",
       "    }\n",
       "\n",
       "    .dataframe thead th {\n",
       "        text-align: right;\n",
       "    }\n",
       "</style>\n",
       "<table border=\"1\" class=\"dataframe\">\n",
       "  <thead>\n",
       "    <tr style=\"text-align: right;\">\n",
       "      <th></th>\n",
       "      <th>k</th>\n",
       "      <th>accuracy</th>\n",
       "      <th>precision</th>\n",
       "      <th>recall</th>\n",
       "      <th>f1</th>\n",
       "    </tr>\n",
       "  </thead>\n",
       "  <tbody>\n",
       "    <tr>\n",
       "      <th>9</th>\n",
       "      <td>19</td>\n",
       "      <td>0.80845</td>\n",
       "      <td>0.637763</td>\n",
       "      <td>0.438359</td>\n",
       "      <td>0.519586</td>\n",
       "    </tr>\n",
       "  </tbody>\n",
       "</table>\n",
       "</div>"
      ],
      "text/plain": [
       "    k  accuracy  precision    recall        f1\n",
       "9  19   0.80845   0.637763  0.438359  0.519586"
      ]
     },
     "execution_count": 25,
     "metadata": {},
     "output_type": "execute_result"
    }
   ],
   "source": [
    "results_df.loc[[results_df.f1.idxmax()]]"
   ]
  },
  {
   "cell_type": "markdown",
   "id": "75652e65-59ed-4c30-b327-33b6f3549661",
   "metadata": {},
   "source": [
    "## Step 8: Discussion of Results and Conclusion\n",
    "\n",
    "Our objective was to create a binary classifier that predicts if a persons income is >50K or not. We applied two modeling techniques to accomplish this. First we created a k=NN for each odd value of k from 1 through to the root value of the number of observations. Secondly, we fit a decision tree to the data. \n",
    "\n",
    "As discussed in the introduction, we do not find reason to identify significant differences in the cost/benefit of FN over TP (and vise versa). Therefore, our best metric choices for determining the best performing model based on this criteria would be accuracy or f1 score. Since the data has a significant imbalance (with one class outnumbering the other by approximately 3x), this indicates that our best metric to use is f1 score.\n",
    "\n",
    "Of out two models, the decision tree produced an f1 score of 0.49 and the k-nn model that produced the best f1 score was at k=19 with a value of 0.52.\n",
    "\n",
    "Considering this, the best model we have produced is a k-nn model @ k=19 with an f1 score of 0.52 (and at this value, accuracy was 0.8, precision was 0.64, and recall was 0.44.\n",
    "\n",
    "Since these models scored rather poorly, we recommend further exploration of different models to develop a better predictive model. "
   ]
  }
 ],
 "metadata": {
  "kernelspec": {
   "display_name": "Python 3 (ipykernel)",
   "language": "python",
   "name": "python3"
  },
  "language_info": {
   "codemirror_mode": {
    "name": "ipython",
    "version": 3
   },
   "file_extension": ".py",
   "mimetype": "text/x-python",
   "name": "python",
   "nbconvert_exporter": "python",
   "pygments_lexer": "ipython3",
   "version": "3.9.13"
  }
 },
 "nbformat": 4,
 "nbformat_minor": 5
}
